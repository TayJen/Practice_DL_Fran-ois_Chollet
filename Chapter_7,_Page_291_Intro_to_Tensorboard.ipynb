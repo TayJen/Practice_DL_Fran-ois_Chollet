{
  "nbformat": 4,
  "nbformat_minor": 0,
  "metadata": {
    "colab": {
      "name": "Chapter 7, Page 291 - Intro to Tensorboard.ipynb",
      "provenance": [],
      "collapsed_sections": [],
      "authorship_tag": "ABX9TyN2AqgwcMEHHcNePFWqxx62"
    },
    "kernelspec": {
      "name": "python3",
      "display_name": "Python 3"
    },
    "language_info": {
      "name": "python"
    },
    "accelerator": "GPU"
  },
  "cells": [
    {
      "cell_type": "markdown",
      "metadata": {
        "id": "cVcgXA3NrLbu"
      },
      "source": [
        "## Text classification model for analysis in TensorBoard"
      ]
    },
    {
      "cell_type": "code",
      "metadata": {
        "id": "bpwj6yZ3qkmm"
      },
      "source": [
        "import keras\n",
        "from keras.datasets import imdb\n",
        "from keras.preprocessing import sequence\n",
        "\n",
        "max_features = 2000\n",
        "max_len = 500"
      ],
      "execution_count": 1,
      "outputs": []
    },
    {
      "cell_type": "code",
      "metadata": {
        "colab": {
          "base_uri": "https://localhost:8080/"
        },
        "id": "B9fBTfyurtY8",
        "outputId": "bf469b27-e62b-472d-e5bc-7f371e45c70f"
      },
      "source": [
        "(x_train, y_train), (x_test, y_test) = imdb.load_data(num_words=max_features)\n",
        "x_train = sequence.pad_sequences(x_train, maxlen=max_len)\n",
        "x_test = sequence.pad_sequences(x_test, maxlen=max_len)"
      ],
      "execution_count": 2,
      "outputs": [
        {
          "output_type": "stream",
          "name": "stdout",
          "text": [
            "Downloading data from https://storage.googleapis.com/tensorflow/tf-keras-datasets/imdb.npz\n",
            "17465344/17464789 [==============================] - 0s 0us/step\n",
            "17473536/17464789 [==============================] - 0s 0us/step\n"
          ]
        }
      ]
    },
    {
      "cell_type": "code",
      "metadata": {
        "colab": {
          "base_uri": "https://localhost:8080/"
        },
        "id": "Eq47aB8swocu",
        "outputId": "0aeff5d2-0b66-4be0-b092-ccc70929fcd6"
      },
      "source": [
        "from keras.models import Sequential\n",
        "from keras.layers import Embedding, Conv1D, MaxPooling1D, GlobalMaxPooling1D, Dense\n",
        "\n",
        "model = Sequential()\n",
        "model.add(Embedding(max_features, 128,\n",
        "                    input_length=max_len,\n",
        "                    name='embed'))\n",
        "model.add(Conv1D(32, 7, activation='relu'))\n",
        "model.add(MaxPooling1D(5))\n",
        "model.add(Conv1D(32, 7, activation='relu'))\n",
        "model.add(GlobalMaxPooling1D())\n",
        "model.add(Dense(1))\n",
        "model.summary()"
      ],
      "execution_count": 4,
      "outputs": [
        {
          "output_type": "stream",
          "name": "stdout",
          "text": [
            "Model: \"sequential_1\"\n",
            "_________________________________________________________________\n",
            "Layer (type)                 Output Shape              Param #   \n",
            "=================================================================\n",
            "embed (Embedding)            (None, 500, 128)          256000    \n",
            "_________________________________________________________________\n",
            "conv1d (Conv1D)              (None, 494, 32)           28704     \n",
            "_________________________________________________________________\n",
            "max_pooling1d (MaxPooling1D) (None, 98, 32)            0         \n",
            "_________________________________________________________________\n",
            "conv1d_1 (Conv1D)            (None, 92, 32)            7200      \n",
            "_________________________________________________________________\n",
            "global_max_pooling1d (Global (None, 32)                0         \n",
            "_________________________________________________________________\n",
            "dense (Dense)                (None, 1)                 33        \n",
            "=================================================================\n",
            "Total params: 291,937\n",
            "Trainable params: 291,937\n",
            "Non-trainable params: 0\n",
            "_________________________________________________________________\n"
          ]
        }
      ]
    },
    {
      "cell_type": "code",
      "metadata": {
        "id": "w-B4HSM8woe8"
      },
      "source": [
        "model.compile(optimizer='rmsprop',\n",
        "              loss='binary_crossentropy',\n",
        "              metrics=['acc'])"
      ],
      "execution_count": 5,
      "outputs": []
    },
    {
      "cell_type": "markdown",
      "metadata": {
        "id": "5ZyI3QBhxTBu"
      },
      "source": [
        "For our TensorBoard"
      ]
    },
    {
      "cell_type": "code",
      "metadata": {
        "id": "lgHzPqy9wohB"
      },
      "source": [
        "! rm -r my_log_dir\n",
        "! mkdir my_log_dir"
      ],
      "execution_count": 8,
      "outputs": []
    },
    {
      "cell_type": "code",
      "metadata": {
        "colab": {
          "base_uri": "https://localhost:8080/"
        },
        "id": "QfRYIPIrwonW",
        "outputId": "55ddd617-a678-4e27-e498-dd8db0cd6290"
      },
      "source": [
        "callbacks = [\n",
        "             keras.callbacks.TensorBoard(\n",
        "                 log_dir='/content/my_log_dir',\n",
        "                 histogram_freq=1,\n",
        "                 embeddings_freq=1)\n",
        "             ]\n",
        "\n",
        "history = model.fit(x_train, y_train,\n",
        "                    epochs=20,\n",
        "                    batch_size=128,\n",
        "                    validation_split=0.2,\n",
        "                    callbacks=callbacks)"
      ],
      "execution_count": 9,
      "outputs": [
        {
          "output_type": "stream",
          "name": "stdout",
          "text": [
            "Epoch 1/20\n",
            "157/157 [==============================] - 35s 25ms/step - loss: 0.5981 - acc: 0.6977 - val_loss: 0.4470 - val_acc: 0.8200\n",
            "Epoch 2/20\n",
            "157/157 [==============================] - 3s 20ms/step - loss: 0.4431 - acc: 0.8533 - val_loss: 0.7957 - val_acc: 0.7898\n",
            "Epoch 3/20\n",
            "157/157 [==============================] - 3s 20ms/step - loss: 0.3706 - acc: 0.8878 - val_loss: 0.4472 - val_acc: 0.8656\n",
            "Epoch 4/20\n",
            "157/157 [==============================] - 3s 20ms/step - loss: 0.3468 - acc: 0.9023 - val_loss: 0.5123 - val_acc: 0.8678\n",
            "Epoch 5/20\n",
            "157/157 [==============================] - 3s 20ms/step - loss: 0.2909 - acc: 0.9250 - val_loss: 0.6227 - val_acc: 0.8650\n",
            "Epoch 6/20\n",
            "157/157 [==============================] - 3s 20ms/step - loss: 0.2494 - acc: 0.9439 - val_loss: 0.6164 - val_acc: 0.8700\n",
            "Epoch 7/20\n",
            "157/157 [==============================] - 3s 20ms/step - loss: 0.1955 - acc: 0.9622 - val_loss: 0.7960 - val_acc: 0.8644\n",
            "Epoch 8/20\n",
            "157/157 [==============================] - 3s 20ms/step - loss: 0.1815 - acc: 0.9718 - val_loss: 0.8777 - val_acc: 0.8600\n",
            "Epoch 9/20\n",
            "157/157 [==============================] - 3s 20ms/step - loss: 0.1528 - acc: 0.9783 - val_loss: 0.9004 - val_acc: 0.8768\n",
            "Epoch 10/20\n",
            "157/157 [==============================] - 3s 20ms/step - loss: 0.1267 - acc: 0.9866 - val_loss: 1.0873 - val_acc: 0.8570\n",
            "Epoch 11/20\n",
            "157/157 [==============================] - 3s 20ms/step - loss: 0.1215 - acc: 0.9890 - val_loss: 0.9684 - val_acc: 0.8732\n",
            "Epoch 12/20\n",
            "157/157 [==============================] - 3s 20ms/step - loss: 0.1157 - acc: 0.9883 - val_loss: 1.0251 - val_acc: 0.8708\n",
            "Epoch 13/20\n",
            "157/157 [==============================] - 3s 20ms/step - loss: 0.1159 - acc: 0.9883 - val_loss: 1.0325 - val_acc: 0.8718\n",
            "Epoch 14/20\n",
            "157/157 [==============================] - 3s 20ms/step - loss: 0.1094 - acc: 0.9903 - val_loss: 1.0451 - val_acc: 0.8706\n",
            "Epoch 15/20\n",
            "157/157 [==============================] - 3s 20ms/step - loss: 0.1058 - acc: 0.9899 - val_loss: 1.1626 - val_acc: 0.8674\n",
            "Epoch 16/20\n",
            "157/157 [==============================] - 3s 20ms/step - loss: 0.1057 - acc: 0.9901 - val_loss: 1.1584 - val_acc: 0.8680\n",
            "Epoch 17/20\n",
            "157/157 [==============================] - 3s 20ms/step - loss: 0.1036 - acc: 0.9913 - val_loss: 1.1483 - val_acc: 0.8722\n",
            "Epoch 18/20\n",
            "157/157 [==============================] - 3s 20ms/step - loss: 0.1151 - acc: 0.9895 - val_loss: 1.1565 - val_acc: 0.8736\n",
            "Epoch 19/20\n",
            "157/157 [==============================] - 3s 20ms/step - loss: 0.0988 - acc: 0.9914 - val_loss: 1.2062 - val_acc: 0.8700\n",
            "Epoch 20/20\n",
            "157/157 [==============================] - 3s 20ms/step - loss: 0.1038 - acc: 0.9909 - val_loss: 1.8659 - val_acc: 0.8192\n"
          ]
        }
      ]
    },
    {
      "cell_type": "code",
      "metadata": {
        "colab": {
          "base_uri": "https://localhost:8080/"
        },
        "id": "A7b4sJx0xW7G",
        "outputId": "9985f75f-c4e0-400b-f494-d851444504ae"
      },
      "source": [
        "! tensorboard --logdir=/content/my_log_dir --host localhost --port 8088 --load_fast=false"
      ],
      "execution_count": 13,
      "outputs": [
        {
          "output_type": "stream",
          "name": "stdout",
          "text": [
            "2021-10-06 09:19:58.142880: I tensorflow/stream_executor/cuda/cuda_gpu_executor.cc:937] successful NUMA node read from SysFS had negative value (-1), but there must be at least one NUMA node, so returning NUMA node zero\n",
            "2021-10-06 09:19:58.152497: I tensorflow/stream_executor/cuda/cuda_gpu_executor.cc:937] successful NUMA node read from SysFS had negative value (-1), but there must be at least one NUMA node, so returning NUMA node zero\n",
            "2021-10-06 09:19:58.153138: I tensorflow/stream_executor/cuda/cuda_gpu_executor.cc:937] successful NUMA node read from SysFS had negative value (-1), but there must be at least one NUMA node, so returning NUMA node zero\n",
            "TensorBoard 2.6.0 at http://localhost:8088/ (Press CTRL+C to quit)\n",
            "^C\n"
          ]
        }
      ]
    },
    {
      "cell_type": "code",
      "metadata": {
        "id": "vjnOsKoNxW9S"
      },
      "source": [
        ""
      ],
      "execution_count": null,
      "outputs": []
    }
  ]
}