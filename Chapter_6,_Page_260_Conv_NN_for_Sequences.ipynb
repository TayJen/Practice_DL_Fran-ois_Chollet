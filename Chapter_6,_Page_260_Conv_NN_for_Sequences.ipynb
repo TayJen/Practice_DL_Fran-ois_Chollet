{
  "nbformat": 4,
  "nbformat_minor": 0,
  "metadata": {
    "colab": {
      "name": "Chapter 6, Page 260 - Conv NN for Sequences.ipynb",
      "provenance": [],
      "collapsed_sections": [
        "G4MswXei4tCq"
      ],
      "mount_file_id": "1WFmIute63OsY54uEbiRF5GUTj_C9aov1",
      "authorship_tag": "ABX9TyOwAQYxxhGlyjES5EKF7XuS"
    },
    "kernelspec": {
      "name": "python3",
      "display_name": "Python 3"
    },
    "language_info": {
      "name": "python"
    },
    "accelerator": "TPU"
  },
  "cells": [
    {
      "cell_type": "markdown",
      "metadata": {
        "id": "G4MswXei4tCq"
      },
      "source": [
        "# 1D Conv NN for IMDB"
      ]
    },
    {
      "cell_type": "code",
      "metadata": {
        "colab": {
          "base_uri": "https://localhost:8080/"
        },
        "id": "56VArUWq4ZkN",
        "outputId": "e86b91dd-6b1b-4672-afb5-b0d35d31777b"
      },
      "source": [
        "# IMDB Data preprocessing\n",
        "from keras.datasets import imdb\n",
        "from keras.preprocessing import sequence\n",
        "\n",
        "max_features = 10000\n",
        "max_len = 500\n",
        "\n",
        "print('Loading data...')\n",
        "(x_train, y_train), (x_test, y_test) = imdb.load_data(\n",
        "    num_words=max_features)\n",
        "print(len(x_train), 'train sequences')\n",
        "print(len(x_test), 'test sequences')\n",
        "\n",
        "print('Pad sequences (samples x time)')\n",
        "x_train = sequence.pad_sequences(x_train, maxlen=max_len)\n",
        "x_test = sequence.pad_sequences(x_test, maxlen=max_len)\n",
        "\n",
        "print('x_train shape:', x_train.shape)\n",
        "print('x_test shape:', x_test.shape)"
      ],
      "execution_count": null,
      "outputs": [
        {
          "output_type": "stream",
          "text": [
            "Loading data...\n",
            "25000 train sequences\n",
            "25000 test sequences\n",
            "Pad sequences (samples x time)\n",
            "x_train shape: (25000, 500)\n",
            "x_test shape: (25000, 500)\n"
          ],
          "name": "stdout"
        }
      ]
    },
    {
      "cell_type": "code",
      "metadata": {
        "colab": {
          "base_uri": "https://localhost:8080/"
        },
        "id": "KBq4d4JK4y-2",
        "outputId": "12e47577-81b6-4375-83b6-6e9d5eeec538"
      },
      "source": [
        "from keras.models import Sequential\n",
        "from keras.layers import Embedding, Conv1D, MaxPooling1D, Dense, \\\n",
        "                            GlobalMaxPooling1D\n",
        "from tensorflow.keras.optimizers import RMSprop\n",
        "\n",
        "model = Sequential()\n",
        "model.add(Embedding(max_features, 128, input_length=max_len))\n",
        "model.add(Conv1D(32, 7, activation='relu'))\n",
        "model.add(MaxPooling1D(5))\n",
        "model.add(Conv1D(32, 7, activation='relu'))\n",
        "model.add(GlobalMaxPooling1D())\n",
        "model.add(Dense(1, activation='sigmoid'))\n",
        "\n",
        "model.summary()"
      ],
      "execution_count": null,
      "outputs": [
        {
          "output_type": "stream",
          "text": [
            "Model: \"sequential\"\n",
            "_________________________________________________________________\n",
            "Layer (type)                 Output Shape              Param #   \n",
            "=================================================================\n",
            "embedding (Embedding)        (None, 500, 128)          1280000   \n",
            "_________________________________________________________________\n",
            "conv1d (Conv1D)              (None, 494, 32)           28704     \n",
            "_________________________________________________________________\n",
            "max_pooling1d (MaxPooling1D) (None, 98, 32)            0         \n",
            "_________________________________________________________________\n",
            "conv1d_1 (Conv1D)            (None, 92, 32)            7200      \n",
            "_________________________________________________________________\n",
            "global_max_pooling1d (Global (None, 32)                0         \n",
            "_________________________________________________________________\n",
            "dense (Dense)                (None, 1)                 33        \n",
            "=================================================================\n",
            "Total params: 1,315,937\n",
            "Trainable params: 1,315,937\n",
            "Non-trainable params: 0\n",
            "_________________________________________________________________\n"
          ],
          "name": "stdout"
        }
      ]
    },
    {
      "cell_type": "code",
      "metadata": {
        "colab": {
          "base_uri": "https://localhost:8080/"
        },
        "id": "UZ5oJ1An4zAz",
        "outputId": "d789cac1-990b-485f-b3f5-f9489ba41d76"
      },
      "source": [
        "model.compile(optimizer=RMSprop(learning_rate=1e-4),\n",
        "              loss='binary_crossentropy',\n",
        "              metrics=['acc'])\n",
        "\n",
        "history = model.fit(x_train, y_train,\n",
        "                    epochs=10,\n",
        "                    batch_size=128,\n",
        "                    validation_split=0.2)"
      ],
      "execution_count": null,
      "outputs": [
        {
          "output_type": "stream",
          "text": [
            "Epoch 1/10\n",
            "157/157 [==============================] - 6s 22ms/step - loss: 0.6927 - acc: 0.5169 - val_loss: 0.6914 - val_acc: 0.5300\n",
            "Epoch 2/10\n",
            "157/157 [==============================] - 3s 19ms/step - loss: 0.6864 - acc: 0.6323 - val_loss: 0.6889 - val_acc: 0.4976\n",
            "Epoch 3/10\n",
            "157/157 [==============================] - 3s 19ms/step - loss: 0.6760 - acc: 0.7135 - val_loss: 0.6730 - val_acc: 0.6924\n",
            "Epoch 4/10\n",
            "157/157 [==============================] - 3s 19ms/step - loss: 0.6434 - acc: 0.7804 - val_loss: 0.6145 - val_acc: 0.7846\n",
            "Epoch 5/10\n",
            "157/157 [==============================] - 3s 20ms/step - loss: 0.5486 - acc: 0.8176 - val_loss: 0.4914 - val_acc: 0.8210\n",
            "Epoch 6/10\n",
            "157/157 [==============================] - 3s 19ms/step - loss: 0.4209 - acc: 0.8479 - val_loss: 0.3929 - val_acc: 0.8434\n",
            "Epoch 7/10\n",
            "157/157 [==============================] - 3s 19ms/step - loss: 0.3362 - acc: 0.8717 - val_loss: 0.3474 - val_acc: 0.8540\n",
            "Epoch 8/10\n",
            "157/157 [==============================] - 3s 20ms/step - loss: 0.2881 - acc: 0.8880 - val_loss: 0.3282 - val_acc: 0.8614\n",
            "Epoch 9/10\n",
            "157/157 [==============================] - 3s 19ms/step - loss: 0.2568 - acc: 0.9014 - val_loss: 0.3178 - val_acc: 0.8626\n",
            "Epoch 10/10\n",
            "157/157 [==============================] - 3s 19ms/step - loss: 0.2330 - acc: 0.9115 - val_loss: 0.3134 - val_acc: 0.8672\n"
          ],
          "name": "stdout"
        }
      ]
    },
    {
      "cell_type": "code",
      "metadata": {
        "colab": {
          "base_uri": "https://localhost:8080/",
          "height": 545
        },
        "id": "smyz5jdF4zEh",
        "outputId": "a9c24dca-50fa-4342-bb61-9fd2d350009e"
      },
      "source": [
        "import matplotlib.pyplot as plt\n",
        "\n",
        "acc = history.history['acc']\n",
        "val_acc = history.history['val_acc']\n",
        "loss = history.history['loss']\n",
        "val_loss = history.history['val_loss']\n",
        "\n",
        "epochs = range(1, len(acc) + 1)\n",
        "\n",
        "plt.plot(epochs, acc, 'bo', label='Training accuracy')\n",
        "plt.plot(epochs, val_acc, 'b', label='Validation accuracy')\n",
        "plt.title('Training and validation accuracy')\n",
        "plt.legend()\n",
        "\n",
        "plt.figure()\n",
        "\n",
        "plt.plot(epochs, loss, 'bo', label='Training loss')\n",
        "plt.plot(epochs, val_loss, 'b', label='Validation loss')\n",
        "plt.title('Training and validation loss')\n",
        "plt.legend()\n",
        "\n",
        "plt.show()"
      ],
      "execution_count": null,
      "outputs": [
        {
          "output_type": "display_data",
          "data": {
            "image/png": "[encoded data removed]",
            "text/plain": [
              "<Figure size 432x288 with 1 Axes>"
            ]
          },
          "metadata": {
            "needs_background": "light"
          }
        },
        {
          "output_type": "display_data",
          "data": {
            "image/png": "[encoded data removed]",
            "text/plain": [
              "<Figure size 432x288 with 1 Axes>"
            ]
          },
          "metadata": {
            "needs_background": "light"
          }
        }
      ]
    },
    {
      "cell_type": "markdown",
      "metadata": {
        "id": "ys9HjXzvCWKB"
      },
      "source": [
        "# Combining convolutional and recurrent NNs for processing long sequences"
      ]
    },
    {
      "cell_type": "markdown",
      "metadata": {
        "id": "pBxJDDYntV5v"
      },
      "source": [
        "## Data Preprocessing"
      ]
    },
    {
      "cell_type": "code",
      "metadata": {
        "id": "baonkQ7M4zG5",
        "colab": {
          "base_uri": "https://localhost:8080/"
        },
        "outputId": "c10aa336-ea0c-495e-c842-29e815b9905a"
      },
      "source": [
        "import os\n",
        "\n",
        "data_dir = '/content/drive/MyDrive/jena_climate'\n",
        "fname = os.path.join(data_dir, 'jena_climate_2009_2016.csv')\n",
        "\n",
        "f = open(fname)\n",
        "data = f.read()\n",
        "f.close()\n",
        "\n",
        "lines = data.split('\\n')\n",
        "header = lines[0].split(',')\n",
        "lines = lines[1:]\n",
        "\n",
        "print(header)\n",
        "print(len(lines))"
      ],
      "execution_count": 3,
      "outputs": [
        {
          "output_type": "stream",
          "text": [
            "['\"Date Time\"', '\"p (mbar)\"', '\"T (degC)\"', '\"Tpot (K)\"', '\"Tdew (degC)\"', '\"rh (%)\"', '\"VPmax (mbar)\"', '\"VPact (mbar)\"', '\"VPdef (mbar)\"', '\"sh (g/kg)\"', '\"H2OC (mmol/mol)\"', '\"rho (g/m**3)\"', '\"wv (m/s)\"', '\"max. wv (m/s)\"', '\"wd (deg)\"']\n",
            "420451\n"
          ],
          "name": "stdout"
        }
      ]
    },
    {
      "cell_type": "code",
      "metadata": {
        "id": "JuW-6E9U4zIs"
      },
      "source": [
        "import numpy as np\n",
        "\n",
        "float_data = np.zeros((len(lines), len(header) - 1))\n",
        "for i, line in enumerate(lines):\n",
        "    values = [float(x) for x in line.split(',')[1:]]\n",
        "    float_data[i, :] = values"
      ],
      "execution_count": 4,
      "outputs": []
    },
    {
      "cell_type": "code",
      "metadata": {
        "id": "S6Ny8kzDtB2N"
      },
      "source": [
        "lookback = 720\n",
        "step = 6\n",
        "delay = 144\n",
        "\n",
        "mean = float_data[:200000].mean(axis=0)\n",
        "float_data -= mean\n",
        "std = float_data[:200000].std(axis=0)\n",
        "float_data /= std"
      ],
      "execution_count": 5,
      "outputs": []
    },
    {
      "cell_type": "code",
      "metadata": {
        "id": "govP3R7CtB4X"
      },
      "source": [
        "def generator(data, lookback, delay, min_index, max_index,\n",
        "              shuffle=False, batch_size=128, step=6):\n",
        "    if max_index is None:\n",
        "        max_index = len(data - delay - 1)\n",
        "    i = min_index + lookback\n",
        "    while True:\n",
        "        if shuffle:\n",
        "            rows = np.random.randint(\n",
        "                min_index + lookback, max_index, size=batch_size)\n",
        "        else:\n",
        "            if i + batch_size >= max_index:\n",
        "                i = min_index + lookback\n",
        "            rows = np.arange(i, min(i + batch_size, max_index))\n",
        "            i += len(rows)\n",
        "\n",
        "        samples = np.zeros((len(rows),\n",
        "                            lookback // step,\n",
        "                            data.shape[-1]))\n",
        "        targets = np.zeros((len(rows),))\n",
        "        for j, row in enumerate(rows):\n",
        "            indices = range(rows[j] - lookback, rows[j], step)\n",
        "            samples[j] = data[indices]\n",
        "            targets[j] = data[rows[j] + delay][1]\n",
        "        yield samples, targets"
      ],
      "execution_count": 6,
      "outputs": []
    },
    {
      "cell_type": "code",
      "metadata": {
        "id": "axwPkEt0tB6e"
      },
      "source": [
        "lookback = 1440\n",
        "step = 6\n",
        "delay = 144\n",
        "batch_size = 128\n",
        "\n",
        "train_gen = generator(float_data,\n",
        "                      lookback,\n",
        "                      delay,\n",
        "                      min_index=0,\n",
        "                      max_index=200000,\n",
        "                      shuffle=True,\n",
        "                      batch_size=batch_size,\n",
        "                      step=step)\n",
        "\n",
        "val_gen = generator(float_data,\n",
        "                    lookback,\n",
        "                    delay,\n",
        "                    min_index=200001,\n",
        "                    max_index=300000,\n",
        "                    batch_size=batch_size,\n",
        "                    step=step)\n",
        "\n",
        "test_gen = generator(float_data,\n",
        "                     lookback,\n",
        "                     delay,\n",
        "                     min_index=300001,\n",
        "                     max_index=None,\n",
        "                     batch_size=batch_size,\n",
        "                     step=step)\n",
        "\n",
        "val_steps = (300000 - 200001 - lookback) // batch_size\n",
        "test_steps = (len(float_data) - 300001 - lookback) // batch_size"
      ],
      "execution_count": 7,
      "outputs": []
    },
    {
      "cell_type": "markdown",
      "metadata": {
        "id": "xYXCMD6-tZU1"
      },
      "source": [
        "## Simple 1D Conv NN"
      ]
    },
    {
      "cell_type": "code",
      "metadata": {
        "id": "UrrH5hyXtB8G"
      },
      "source": [
        "from keras.models import Sequential\n",
        "from keras.layers import Conv1D, MaxPooling1D, Dense, \\\n",
        "                            GlobalMaxPooling1D\n",
        "\n",
        "model = Sequential()\n",
        "model.add(Conv1D(32, 5, activation='relu', \n",
        "                 input_shape=(None, float_data.shape[-1])))\n",
        "model.add(MaxPooling1D(3))\n",
        "model.add(Conv1D(32, 5, activation='relu'))\n",
        "model.add(MaxPooling1D(3))\n",
        "model.add(Conv1D(32, 5, activation='relu'))\n",
        "model.add(GlobalMaxPooling1D())\n",
        "model.add(Dense(1))\n",
        "\n",
        "model.compile(optimizer='rmsprop',\n",
        "              loss='mae')"
      ],
      "execution_count": 6,
      "outputs": []
    },
    {
      "cell_type": "code",
      "metadata": {
        "colab": {
          "base_uri": "https://localhost:8080/"
        },
        "id": "brmZxRk4tiKo",
        "outputId": "86aca29e-adfa-49ac-a498-a03be789a79e"
      },
      "source": [
        "history = model.fit(train_gen,\n",
        "                    steps_per_epoch=500,\n",
        "                    epochs=20,\n",
        "                    validation_data=val_gen,\n",
        "                    validation_steps=val_steps)"
      ],
      "execution_count": 7,
      "outputs": [
        {
          "output_type": "stream",
          "text": [
            "Epoch 1/20\n",
            "500/500 [==============================] - 42s 24ms/step - loss: 0.4116 - val_loss: 0.4331\n",
            "Epoch 2/20\n",
            "500/500 [==============================] - 12s 23ms/step - loss: 0.3600 - val_loss: 0.4560\n",
            "Epoch 3/20\n",
            "500/500 [==============================] - 12s 23ms/step - loss: 0.3372 - val_loss: 0.4190\n",
            "Epoch 4/20\n",
            "500/500 [==============================] - 12s 24ms/step - loss: 0.3207 - val_loss: 0.4455\n",
            "Epoch 5/20\n",
            "500/500 [==============================] - 12s 23ms/step - loss: 0.3104 - val_loss: 0.4762\n",
            "Epoch 6/20\n",
            "500/500 [==============================] - 12s 23ms/step - loss: 0.2987 - val_loss: 0.4457\n",
            "Epoch 7/20\n",
            "500/500 [==============================] - 12s 23ms/step - loss: 0.2905 - val_loss: 0.4383\n",
            "Epoch 8/20\n",
            "500/500 [==============================] - 12s 23ms/step - loss: 0.2842 - val_loss: 0.4285\n",
            "Epoch 9/20\n",
            "500/500 [==============================] - 12s 24ms/step - loss: 0.2794 - val_loss: 0.4397\n",
            "Epoch 10/20\n",
            "500/500 [==============================] - 12s 23ms/step - loss: 0.2729 - val_loss: 0.4824\n",
            "Epoch 11/20\n",
            "500/500 [==============================] - 12s 24ms/step - loss: 0.2684 - val_loss: 0.4645\n",
            "Epoch 12/20\n",
            "500/500 [==============================] - 12s 24ms/step - loss: 0.2657 - val_loss: 0.4479\n",
            "Epoch 13/20\n",
            "500/500 [==============================] - 12s 23ms/step - loss: 0.2599 - val_loss: 0.4550\n",
            "Epoch 14/20\n",
            "500/500 [==============================] - 12s 24ms/step - loss: 0.2566 - val_loss: 0.4519\n",
            "Epoch 15/20\n",
            "500/500 [==============================] - 12s 24ms/step - loss: 0.2541 - val_loss: 0.4507\n",
            "Epoch 16/20\n",
            "500/500 [==============================] - 12s 24ms/step - loss: 0.2508 - val_loss: 0.4522\n",
            "Epoch 17/20\n",
            "500/500 [==============================] - 12s 24ms/step - loss: 0.2475 - val_loss: 0.4524\n",
            "Epoch 18/20\n",
            "500/500 [==============================] - 12s 24ms/step - loss: 0.2473 - val_loss: 0.4448\n",
            "Epoch 19/20\n",
            "500/500 [==============================] - 12s 24ms/step - loss: 0.2443 - val_loss: 0.4745\n",
            "Epoch 20/20\n",
            "500/500 [==============================] - 12s 23ms/step - loss: 0.2431 - val_loss: 0.4588\n"
          ],
          "name": "stdout"
        }
      ]
    },
    {
      "cell_type": "code",
      "metadata": {
        "colab": {
          "base_uri": "https://localhost:8080/",
          "height": 281
        },
        "id": "0LgANBiltiMq",
        "outputId": "7db75f55-f8e6-4565-bdc9-e0d8cc219a7f"
      },
      "source": [
        "import matplotlib.pyplot as plt\n",
        "\n",
        "loss = history.history['loss']\n",
        "val_loss = history.history['val_loss']\n",
        "\n",
        "epochs = range(1, len(loss) + 1)\n",
        "\n",
        "plt.figure()\n",
        "\n",
        "plt.plot(epochs, loss, 'bo', label='Training loss')\n",
        "plt.plot(epochs, val_loss, 'b', label='Validation loss')\n",
        "plt.title('Training and validation loss')\n",
        "plt.legend()\n",
        "\n",
        "plt.show()"
      ],
      "execution_count": 8,
      "outputs": [
        {
          "output_type": "display_data",
          "data": {
            "image/png": "[encoded data removed]",
            "text/plain": [
              "<Figure size 432x288 with 1 Axes>"
            ]
          },
          "metadata": {
            "needs_background": "light"
          }
        }
      ]
    },
    {
      "cell_type": "markdown",
      "metadata": {
        "id": "jCjBZsi_wecI"
      },
      "source": [
        "## GRU & Conv1D together for long sequences"
      ]
    },
    {
      "cell_type": "code",
      "metadata": {
        "id": "T_nMB1ivtiOS"
      },
      "source": [
        "lookback = 720\n",
        "step = 3\n",
        "delay = 144\n",
        "batch_size = 128\n",
        "\n",
        "train_gen = generator(float_data,\n",
        "                      lookback,\n",
        "                      delay,\n",
        "                      min_index=0,\n",
        "                      max_index=200000,\n",
        "                      shuffle=True,\n",
        "                      batch_size=batch_size,\n",
        "                      step=step)\n",
        "\n",
        "val_gen = generator(float_data,\n",
        "                    lookback,\n",
        "                    delay,\n",
        "                    min_index=200001,\n",
        "                    max_index=300000,\n",
        "                    batch_size=batch_size,\n",
        "                    step=step)\n",
        "\n",
        "test_gen = generator(float_data,\n",
        "                     lookback,\n",
        "                     delay,\n",
        "                     min_index=300001,\n",
        "                     max_index=None,\n",
        "                     batch_size=batch_size,\n",
        "                     step=step)\n",
        "\n",
        "val_steps = (300000 - 200001 - lookback) // batch_size\n",
        "test_steps = (len(float_data) - 300001 - lookback) // batch_size"
      ],
      "execution_count": 8,
      "outputs": []
    },
    {
      "cell_type": "code",
      "metadata": {
        "id": "mLOCaVL_wjoj"
      },
      "source": [
        "from keras.models import Sequential\n",
        "from keras.layers import Conv1D, MaxPooling1D, GRU, Dense\n",
        "\n",
        "model = Sequential()\n",
        "model.add(Conv1D(32, 5, activation='relu', \n",
        "                 input_shape=(None, float_data.shape[-1])))\n",
        "model.add(MaxPooling1D(3))\n",
        "model.add(Conv1D(32, 5, activation='relu'))\n",
        "model.add(GRU(32, dropout=0.1, recurrent_dropout=0.5))\n",
        "model.add(Dense(1))\n",
        "\n",
        "model.compile(optimizer='rmsprop',\n",
        "              loss='mae')"
      ],
      "execution_count": 9,
      "outputs": []
    },
    {
      "cell_type": "code",
      "metadata": {
        "colab": {
          "base_uri": "https://localhost:8080/"
        },
        "id": "MXDFRTeptB-M",
        "outputId": "9a24303a-1b92-4303-acef-2b734c6b773c"
      },
      "source": [
        "history = model.fit(train_gen,\n",
        "                    steps_per_epoch=500,\n",
        "                    epochs=20,\n",
        "                    validation_data=val_gen,\n",
        "                    validation_steps=val_steps)"
      ],
      "execution_count": 10,
      "outputs": [
        {
          "output_type": "stream",
          "text": [
            "Epoch 1/20\n",
            "500/500 [==============================] - 103s 199ms/step - loss: 0.3338 - val_loss: 0.2809\n",
            "Epoch 2/20\n",
            "500/500 [==============================] - 100s 200ms/step - loss: 0.2984 - val_loss: 0.2809\n",
            "Epoch 3/20\n",
            "500/500 [==============================] - 104s 207ms/step - loss: 0.2834 - val_loss: 0.2755\n",
            "Epoch 4/20\n",
            "500/500 [==============================] - 98s 195ms/step - loss: 0.2738 - val_loss: 0.2979\n",
            "Epoch 5/20\n",
            "500/500 [==============================] - 101s 201ms/step - loss: 0.2672 - val_loss: 0.2750\n",
            "Epoch 6/20\n",
            "500/500 [==============================] - 101s 202ms/step - loss: 0.2594 - val_loss: 0.2953\n",
            "Epoch 7/20\n",
            "500/500 [==============================] - 102s 205ms/step - loss: 0.2555 - val_loss: 0.2974\n",
            "Epoch 8/20\n",
            "500/500 [==============================] - 102s 204ms/step - loss: 0.2488 - val_loss: 0.2887\n",
            "Epoch 9/20\n",
            "500/500 [==============================] - 102s 203ms/step - loss: 0.2444 - val_loss: 0.2843\n",
            "Epoch 10/20\n",
            "500/500 [==============================] - 101s 201ms/step - loss: 0.2384 - val_loss: 0.2917\n",
            "Epoch 11/20\n",
            "500/500 [==============================] - 102s 203ms/step - loss: 0.2334 - val_loss: 0.2868\n",
            "Epoch 12/20\n",
            "500/500 [==============================] - 104s 207ms/step - loss: 0.2278 - val_loss: 0.3007\n",
            "Epoch 13/20\n",
            "500/500 [==============================] - 102s 204ms/step - loss: 0.2247 - val_loss: 0.3061\n",
            "Epoch 14/20\n",
            "500/500 [==============================] - 104s 208ms/step - loss: 0.2212 - val_loss: 0.3014\n",
            "Epoch 15/20\n",
            "500/500 [==============================] - 104s 208ms/step - loss: 0.2170 - val_loss: 0.3218\n",
            "Epoch 16/20\n",
            "500/500 [==============================] - 98s 196ms/step - loss: 0.2136 - val_loss: 0.2999\n",
            "Epoch 17/20\n",
            "500/500 [==============================] - 98s 195ms/step - loss: 0.2114 - val_loss: 0.3091\n",
            "Epoch 18/20\n",
            "500/500 [==============================] - 100s 199ms/step - loss: 0.2071 - val_loss: 0.2967\n",
            "Epoch 19/20\n",
            "500/500 [==============================] - 103s 206ms/step - loss: 0.2063 - val_loss: 0.3016\n",
            "Epoch 20/20\n",
            "500/500 [==============================] - 106s 211ms/step - loss: 0.2037 - val_loss: 0.3092\n"
          ],
          "name": "stdout"
        }
      ]
    },
    {
      "cell_type": "code",
      "metadata": {
        "colab": {
          "base_uri": "https://localhost:8080/",
          "height": 281
        },
        "id": "AvqERQa_yDLN",
        "outputId": "858228d4-4416-4643-9185-332da05d4096"
      },
      "source": [
        "import matplotlib.pyplot as plt\n",
        "\n",
        "loss = history.history['loss']\n",
        "val_loss = history.history['val_loss']\n",
        "\n",
        "epochs = range(1, len(loss) + 1)\n",
        "\n",
        "plt.figure()\n",
        "\n",
        "plt.plot(epochs, loss, 'bo', label='Training loss')\n",
        "plt.plot(epochs, val_loss, 'b', label='Validation loss')\n",
        "plt.title('Training and validation loss')\n",
        "plt.legend()\n",
        "\n",
        "plt.show()"
      ],
      "execution_count": 11,
      "outputs": [
        {
          "output_type": "display_data",
          "data": {
            "image/png": "[encoded data removed]",
            "text/plain": [
              "<Figure size 432x288 with 1 Axes>"
            ]
          },
          "metadata": {
            "needs_background": "light"
          }
        }
      ]
    },
    {
      "cell_type": "code",
      "metadata": {
        "id": "UZoVCBs-tB_7"
      },
      "source": [
        ""
      ],
      "execution_count": null,
      "outputs": []
    }
  ]
}