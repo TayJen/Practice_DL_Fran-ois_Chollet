{
  "nbformat": 4,
  "nbformat_minor": 0,
  "metadata": {
    "colab": {
      "name": "Page 103 - Reuters Classification.ipynb",
      "provenance": [],
      "collapsed_sections": [],
      "authorship_tag": "ABX9TyNDRYMEWtzRW2J58VQB83DJ"
    },
    "kernelspec": {
      "name": "python3",
      "display_name": "Python 3"
    },
    "language_info": {
      "name": "python"
    }
  },
  "cells": [
    {
      "cell_type": "markdown",
      "metadata": {
        "id": "1eo1RSXGXXTx"
      },
      "source": [
        "## Reuters - Classification of News feeds"
      ]
    },
    {
      "cell_type": "code",
      "metadata": {
        "colab": {
          "base_uri": "https://localhost:8080/"
        },
        "id": "FlNTTfiUXU7S",
        "outputId": "68e7fb62-e0d8-493a-e0a7-57cdd378c7ed"
      },
      "source": [
        "from keras.datasets import reuters\n",
        "\n",
        "(train_data, train_labels), (test_data, test_labels) = reuters.load_data(\n",
        "    num_words=10000)"
      ],
      "execution_count": 1,
      "outputs": [
        {
          "output_type": "stream",
          "text": [
            "Downloading data from https://storage.googleapis.com/tensorflow/tf-keras-datasets/reuters.npz\n",
            "2113536/2110848 [==============================] - 0s 0us/step\n",
            "2121728/2110848 [==============================] - 0s 0us/step\n"
          ],
          "name": "stdout"
        },
        {
          "output_type": "stream",
          "text": [
            "/usr/local/lib/python3.7/dist-packages/keras/datasets/reuters.py:143: VisibleDeprecationWarning: Creating an ndarray from ragged nested sequences (which is a list-or-tuple of lists-or-tuples-or ndarrays with different lengths or shapes) is deprecated. If you meant to do this, you must specify 'dtype=object' when creating the ndarray\n",
            "  x_train, y_train = np.array(xs[:idx]), np.array(labels[:idx])\n",
            "/usr/local/lib/python3.7/dist-packages/keras/datasets/reuters.py:144: VisibleDeprecationWarning: Creating an ndarray from ragged nested sequences (which is a list-or-tuple of lists-or-tuples-or ndarrays with different lengths or shapes) is deprecated. If you meant to do this, you must specify 'dtype=object' when creating the ndarray\n",
            "  x_test, y_test = np.array(xs[idx:]), np.array(labels[idx:])\n"
          ],
          "name": "stderr"
        }
      ]
    },
    {
      "cell_type": "code",
      "metadata": {
        "id": "y-Q6EP4QX-9n"
      },
      "source": [
        "import numpy as np\n",
        "\n",
        "def vectorize_sequences(sequences, dimension=10000):\n",
        "  results = np.zeros((len(sequences), dimension))\n",
        "  for i, sequence in enumerate(sequences):\n",
        "    results[i, sequence] = 1.\n",
        "  return results\n",
        "\n",
        "x_train = vectorize_sequences(train_data)\n",
        "x_test = vectorize_sequences(test_data)"
      ],
      "execution_count": 2,
      "outputs": []
    },
    {
      "cell_type": "code",
      "metadata": {
        "id": "TbqYLijGX9wj"
      },
      "source": [
        "from keras.utils.np_utils import to_categorical\n",
        "\n",
        "one_hot_train_labels = to_categorical(train_labels)\n",
        "one_hot_test_labels = to_categorical(test_labels)"
      ],
      "execution_count": 3,
      "outputs": []
    },
    {
      "cell_type": "code",
      "metadata": {
        "id": "WVzheAZpX956"
      },
      "source": [
        "from keras.models import Sequential\n",
        "from keras.layers import Dense"
      ],
      "execution_count": 4,
      "outputs": []
    },
    {
      "cell_type": "code",
      "metadata": {
        "id": "w45luMnlX980"
      },
      "source": [
        "model = Sequential()\n",
        "model.add(Dense(64, activation='relu', input_shape=(10000,)))\n",
        "model.add(Dense(64, activation='relu'))\n",
        "model.add(Dense(46, activation='softmax'))"
      ],
      "execution_count": 5,
      "outputs": []
    },
    {
      "cell_type": "code",
      "metadata": {
        "id": "AO67a5B4X9_7"
      },
      "source": [
        "model.compile(optimizer='rmsprop', \n",
        "              loss='categorical_crossentropy', \n",
        "              metrics=['accuracy'])"
      ],
      "execution_count": 20,
      "outputs": []
    },
    {
      "cell_type": "code",
      "metadata": {
        "id": "_LIjPk7LaEAg"
      },
      "source": [
        "x_val = x_train[:1000]\n",
        "partial_x_train = x_train[1000:]\n",
        "\n",
        "y_val = one_hot_train_labels[:1000]\n",
        "partial_y_train = one_hot_train_labels[1000:]"
      ],
      "execution_count": 21,
      "outputs": []
    },
    {
      "cell_type": "code",
      "metadata": {
        "colab": {
          "base_uri": "https://localhost:8080/"
        },
        "id": "DhpEsJeYaEc2",
        "outputId": "7083be0c-14a4-4c5b-f537-b6333f4d9c01"
      },
      "source": [
        "history = model.fit(partial_x_train, partial_y_train, \n",
        "                    epochs=20, batch_size=512, \n",
        "                    validation_data=(x_val, y_val))"
      ],
      "execution_count": 22,
      "outputs": [
        {
          "output_type": "stream",
          "text": [
            "Epoch 1/20\n",
            "16/16 [==============================] - 13s 69ms/step - loss: 3.0704 - accuracy: 0.4027 - val_loss: 1.7020 - val_accuracy: 0.6590\n",
            "Epoch 2/20\n",
            "16/16 [==============================] - 1s 39ms/step - loss: 1.4679 - accuracy: 0.7002 - val_loss: 1.3059 - val_accuracy: 0.7040\n",
            "Epoch 3/20\n",
            "16/16 [==============================] - 1s 39ms/step - loss: 1.0915 - accuracy: 0.7543 - val_loss: 1.1255 - val_accuracy: 0.7550\n",
            "Epoch 4/20\n",
            "16/16 [==============================] - 1s 39ms/step - loss: 0.8386 - accuracy: 0.8225 - val_loss: 1.0569 - val_accuracy: 0.7560\n",
            "Epoch 5/20\n",
            "16/16 [==============================] - 1s 40ms/step - loss: 0.6643 - accuracy: 0.8610 - val_loss: 0.9664 - val_accuracy: 0.7930\n",
            "Epoch 6/20\n",
            "16/16 [==============================] - 1s 38ms/step - loss: 0.5357 - accuracy: 0.8904 - val_loss: 0.9521 - val_accuracy: 0.7850\n",
            "Epoch 7/20\n",
            "16/16 [==============================] - 1s 39ms/step - loss: 0.4323 - accuracy: 0.9078 - val_loss: 0.9006 - val_accuracy: 0.8020\n",
            "Epoch 8/20\n",
            "16/16 [==============================] - 1s 39ms/step - loss: 0.3479 - accuracy: 0.9295 - val_loss: 0.8891 - val_accuracy: 0.8100\n",
            "Epoch 9/20\n",
            "16/16 [==============================] - 1s 39ms/step - loss: 0.2874 - accuracy: 0.9402 - val_loss: 0.8744 - val_accuracy: 0.8220\n",
            "Epoch 10/20\n",
            "16/16 [==============================] - 1s 39ms/step - loss: 0.2306 - accuracy: 0.9472 - val_loss: 0.8999 - val_accuracy: 0.8200\n",
            "Epoch 11/20\n",
            "16/16 [==============================] - 1s 38ms/step - loss: 0.2085 - accuracy: 0.9489 - val_loss: 0.8989 - val_accuracy: 0.8200\n",
            "Epoch 12/20\n",
            "16/16 [==============================] - 1s 39ms/step - loss: 0.1825 - accuracy: 0.9518 - val_loss: 0.9285 - val_accuracy: 0.8110\n",
            "Epoch 13/20\n",
            "16/16 [==============================] - 1s 39ms/step - loss: 0.1469 - accuracy: 0.9575 - val_loss: 0.9488 - val_accuracy: 0.8140\n",
            "Epoch 14/20\n",
            "16/16 [==============================] - 1s 38ms/step - loss: 0.1401 - accuracy: 0.9602 - val_loss: 0.9687 - val_accuracy: 0.8160\n",
            "Epoch 15/20\n",
            "16/16 [==============================] - 1s 40ms/step - loss: 0.1380 - accuracy: 0.9549 - val_loss: 0.9619 - val_accuracy: 0.8120\n",
            "Epoch 16/20\n",
            "16/16 [==============================] - 1s 38ms/step - loss: 0.1200 - accuracy: 0.9602 - val_loss: 1.0159 - val_accuracy: 0.8080\n",
            "Epoch 17/20\n",
            "16/16 [==============================] - 1s 40ms/step - loss: 0.1105 - accuracy: 0.9621 - val_loss: 1.0265 - val_accuracy: 0.8130\n",
            "Epoch 18/20\n",
            "16/16 [==============================] - 1s 39ms/step - loss: 0.1098 - accuracy: 0.9610 - val_loss: 1.0200 - val_accuracy: 0.8120\n",
            "Epoch 19/20\n",
            "16/16 [==============================] - 1s 38ms/step - loss: 0.1087 - accuracy: 0.9572 - val_loss: 1.0580 - val_accuracy: 0.8050\n",
            "Epoch 20/20\n",
            "16/16 [==============================] - 1s 39ms/step - loss: 0.1011 - accuracy: 0.9625 - val_loss: 1.0692 - val_accuracy: 0.8110\n"
          ],
          "name": "stdout"
        }
      ]
    },
    {
      "cell_type": "code",
      "metadata": {
        "colab": {
          "base_uri": "https://localhost:8080/",
          "height": 295
        },
        "id": "2qNljnm5aEz0",
        "outputId": "48911e1f-0343-4825-bb81-b92233e1fa4f"
      },
      "source": [
        "import matplotlib.pyplot as plt\n",
        "\n",
        "loss = history.history['loss']\n",
        "val_loss = history.history['val_loss']\n",
        "\n",
        "epochs = range(1, len(loss) + 1)\n",
        "\n",
        "plt.plot(epochs, loss, 'bo', label='Training Loss')\n",
        "plt.plot(epochs, val_loss, 'b', label='Validation Loss')\n",
        "plt.title('Training and Validation Losses')\n",
        "plt.xlabel('Epochs')\n",
        "plt.ylabel('Loss')\n",
        "plt.legend()\n",
        "\n",
        "plt.show()"
      ],
      "execution_count": 25,
      "outputs": [
        {
          "output_type": "display_data",
          "data": {
            "image/png": "[encoded data removed]",
            "text/plain": [
              "<Figure size 432x288 with 1 Axes>"
            ]
          },
          "metadata": {
            "tags": [],
            "needs_background": "light"
          }
        }
      ]
    },
    {
      "cell_type": "code",
      "metadata": {
        "colab": {
          "base_uri": "https://localhost:8080/",
          "height": 295
        },
        "id": "65JwEipebN0J",
        "outputId": "d3b53d77-a762-44a5-c9f1-7c87589a12d5"
      },
      "source": [
        "plt.clf()\n",
        "\n",
        "acc = history.history['accuracy']\n",
        "val_acc = history.history['val_accuracy']\n",
        "\n",
        "plt.plot(epochs, acc, 'bo', label='Training Accuracy')\n",
        "plt.plot(epochs, val_acc, 'b', label='Validation Accuracy')\n",
        "plt.title('Training and Validation Accuracy')\n",
        "plt.xlabel('Epochs')\n",
        "plt.ylabel('Accuracy')\n",
        "plt.legend()\n",
        "\n",
        "plt.show()"
      ],
      "execution_count": 26,
      "outputs": [
        {
          "output_type": "display_data",
          "data": {
            "image/png": "[encoded data removed]",
            "text/plain": [
              "<Figure size 432x288 with 1 Axes>"
            ]
          },
          "metadata": {
            "tags": [],
            "needs_background": "light"
          }
        }
      ]
    },
    {
      "cell_type": "code",
      "metadata": {
        "colab": {
          "base_uri": "https://localhost:8080/"
        },
        "id": "8YzWGhmmcTRa",
        "outputId": "e676694c-90b4-4bc3-a022-01b50567acca"
      },
      "source": [
        "# New model, which will be learned till 9-th epoch, as we have overfitting\n",
        "\n",
        "model = Sequential()\n",
        "model.add(Dense(64, activation='relu', input_shape=(10000,)))\n",
        "model.add(Dense(64, activation='relu'))\n",
        "model.add(Dense(46, activation='softmax'))\n",
        "\n",
        "model.compile(optimizer='rmsprop', \n",
        "              loss='categorical_crossentropy', \n",
        "              metrics=['accuracy'])\n",
        "\n",
        "history = model.fit(partial_x_train, partial_y_train, \n",
        "                    epochs=9, batch_size=512, \n",
        "                    validation_data=(x_val, y_val))"
      ],
      "execution_count": 36,
      "outputs": [
        {
          "output_type": "stream",
          "text": [
            "Epoch 1/9\n",
            "16/16 [==============================] - 2s 58ms/step - loss: 3.0408 - accuracy: 0.3772 - val_loss: 1.6642 - val_accuracy: 0.6430\n",
            "Epoch 2/9\n",
            "16/16 [==============================] - 1s 40ms/step - loss: 1.4731 - accuracy: 0.6888 - val_loss: 1.2917 - val_accuracy: 0.7160\n",
            "Epoch 3/9\n",
            "16/16 [==============================] - 1s 40ms/step - loss: 1.0562 - accuracy: 0.7688 - val_loss: 1.1189 - val_accuracy: 0.7690\n",
            "Epoch 4/9\n",
            "16/16 [==============================] - 1s 43ms/step - loss: 0.8070 - accuracy: 0.8312 - val_loss: 1.0299 - val_accuracy: 0.7850\n",
            "Epoch 5/9\n",
            "16/16 [==============================] - 1s 42ms/step - loss: 0.6603 - accuracy: 0.8597 - val_loss: 0.9669 - val_accuracy: 0.7920\n",
            "Epoch 6/9\n",
            "16/16 [==============================] - 1s 39ms/step - loss: 0.5267 - accuracy: 0.8811 - val_loss: 0.9521 - val_accuracy: 0.7890\n",
            "Epoch 7/9\n",
            "16/16 [==============================] - 1s 41ms/step - loss: 0.3981 - accuracy: 0.9213 - val_loss: 0.8981 - val_accuracy: 0.8080\n",
            "Epoch 8/9\n",
            "16/16 [==============================] - 1s 39ms/step - loss: 0.3460 - accuracy: 0.9282 - val_loss: 0.8770 - val_accuracy: 0.8140\n",
            "Epoch 9/9\n",
            "16/16 [==============================] - 1s 39ms/step - loss: 0.2678 - accuracy: 0.9435 - val_loss: 0.8674 - val_accuracy: 0.8230\n"
          ],
          "name": "stdout"
        }
      ]
    },
    {
      "cell_type": "code",
      "metadata": {
        "colab": {
          "base_uri": "https://localhost:8080/"
        },
        "id": "vv7NSPgzcVlG",
        "outputId": "afcfd185-ff73-4dc1-c12b-6d6806d05e80"
      },
      "source": [
        "results = model.evaluate(x_test, one_hot_test_labels)"
      ],
      "execution_count": 37,
      "outputs": [
        {
          "output_type": "stream",
          "text": [
            "71/71 [==============================] - 0s 2ms/step - loss: 0.9880 - accuracy: 0.7845\n"
          ],
          "name": "stdout"
        }
      ]
    },
    {
      "cell_type": "code",
      "metadata": {
        "colab": {
          "base_uri": "https://localhost:8080/"
        },
        "id": "9jMPwiCGcVuF",
        "outputId": "980362ae-98be-48ca-e32a-3f024d9b86e3"
      },
      "source": [
        "results"
      ],
      "execution_count": 38,
      "outputs": [
        {
          "output_type": "execute_result",
          "data": {
            "text/plain": [
              "[0.9880197048187256, 0.7845057845115662]"
            ]
          },
          "metadata": {
            "tags": []
          },
          "execution_count": 38
        }
      ]
    },
    {
      "cell_type": "code",
      "metadata": {
        "colab": {
          "base_uri": "https://localhost:8080/"
        },
        "id": "XpMLeQ4TcVwE",
        "outputId": "bae1bfa4-2a0d-4aa3-8964-a35fbf249e9d"
      },
      "source": [
        "predictions = model.predict(x_test)\n",
        "predictions[0].shape"
      ],
      "execution_count": 39,
      "outputs": [
        {
          "output_type": "execute_result",
          "data": {
            "text/plain": [
              "(46,)"
            ]
          },
          "metadata": {
            "tags": []
          },
          "execution_count": 39
        }
      ]
    },
    {
      "cell_type": "code",
      "metadata": {
        "colab": {
          "base_uri": "https://localhost:8080/"
        },
        "id": "zbD1RfyKcVyV",
        "outputId": "06791b61-af56-4706-c10f-89448feb7f17"
      },
      "source": [
        "np.sum(predictions[0])"
      ],
      "execution_count": 40,
      "outputs": [
        {
          "output_type": "execute_result",
          "data": {
            "text/plain": [
              "1.0"
            ]
          },
          "metadata": {
            "tags": []
          },
          "execution_count": 40
        }
      ]
    },
    {
      "cell_type": "code",
      "metadata": {
        "colab": {
          "base_uri": "https://localhost:8080/"
        },
        "id": "-Ktg40btcV0K",
        "outputId": "6cc40eb8-75b1-474c-bb6a-ebfe8817fbdc"
      },
      "source": [
        "np.argmax(predictions[0])"
      ],
      "execution_count": 41,
      "outputs": [
        {
          "output_type": "execute_result",
          "data": {
            "text/plain": [
              "3"
            ]
          },
          "metadata": {
            "tags": []
          },
          "execution_count": 41
        }
      ]
    },
    {
      "cell_type": "code",
      "metadata": {
        "colab": {
          "base_uri": "https://localhost:8080/"
        },
        "id": "i7CWt9lNcV2J",
        "outputId": "01284084-bf8b-4362-e78d-7bdf5649e43c"
      },
      "source": [
        "# 1 Experiment\n",
        "\n",
        "model = Sequential()\n",
        "model.add(Dense(64, activation='relu', input_shape=(10000,)))\n",
        "model.add(Dense(4, activation='relu'))\n",
        "model.add(Dense(46, activation='softmax'))\n",
        "\n",
        "model.compile(optimizer='rmsprop', \n",
        "              loss='categorical_crossentropy', \n",
        "              metrics=['accuracy'])\n",
        "\n",
        "history = model.fit(partial_x_train, partial_y_train, \n",
        "                    epochs=9, batch_size=512, \n",
        "                    validation_data=(x_val, y_val))\n",
        "\n",
        "results = model.evaluate(x_test, one_hot_test_labels)"
      ],
      "execution_count": 42,
      "outputs": [
        {
          "output_type": "stream",
          "text": [
            "Epoch 1/9\n",
            "16/16 [==============================] - 1s 53ms/step - loss: 3.6567 - accuracy: 0.2517 - val_loss: 3.1972 - val_accuracy: 0.3590\n",
            "Epoch 2/9\n",
            "16/16 [==============================] - 1s 38ms/step - loss: 3.0016 - accuracy: 0.3637 - val_loss: 2.6890 - val_accuracy: 0.3870\n",
            "Epoch 3/9\n",
            "16/16 [==============================] - 1s 37ms/step - loss: 2.4725 - accuracy: 0.4209 - val_loss: 2.3346 - val_accuracy: 0.4370\n",
            "Epoch 4/9\n",
            "16/16 [==============================] - 1s 39ms/step - loss: 2.1071 - accuracy: 0.4785 - val_loss: 2.0965 - val_accuracy: 0.4720\n",
            "Epoch 5/9\n",
            "16/16 [==============================] - 1s 39ms/step - loss: 1.8301 - accuracy: 0.5176 - val_loss: 1.9179 - val_accuracy: 0.4900\n",
            "Epoch 6/9\n",
            "16/16 [==============================] - 1s 38ms/step - loss: 1.5901 - accuracy: 0.5384 - val_loss: 1.7096 - val_accuracy: 0.5390\n",
            "Epoch 7/9\n",
            "16/16 [==============================] - 1s 37ms/step - loss: 1.3926 - accuracy: 0.6142 - val_loss: 1.5734 - val_accuracy: 0.6570\n",
            "Epoch 8/9\n",
            "16/16 [==============================] - 1s 37ms/step - loss: 1.2347 - accuracy: 0.7325 - val_loss: 1.4546 - val_accuracy: 0.6970\n",
            "Epoch 9/9\n",
            "16/16 [==============================] - 1s 37ms/step - loss: 1.0890 - accuracy: 0.7465 - val_loss: 1.3914 - val_accuracy: 0.7030\n",
            "71/71 [==============================] - 0s 2ms/step - loss: 1.4504 - accuracy: 0.6799\n"
          ],
          "name": "stdout"
        }
      ]
    },
    {
      "cell_type": "code",
      "metadata": {
        "colab": {
          "base_uri": "https://localhost:8080/"
        },
        "id": "Vd73-f4YcWAw",
        "outputId": "9fc9f470-41ff-4d80-81f1-79c695e8f2a8"
      },
      "source": [
        "# 2 Experiment\n",
        "\n",
        "model = Sequential()\n",
        "model.add(Dense(128, activation='relu', input_shape=(10000,)))\n",
        "model.add(Dense(64, activation='relu'))\n",
        "model.add(Dense(46, activation='softmax'))\n",
        "\n",
        "model.compile(optimizer='rmsprop', \n",
        "              loss='categorical_crossentropy', \n",
        "              metrics=['accuracy'])\n",
        "\n",
        "history = model.fit(partial_x_train, partial_y_train, \n",
        "                    epochs=9, batch_size=512, \n",
        "                    validation_data=(x_val, y_val))\n",
        "\n",
        "results = model.evaluate(x_test, one_hot_test_labels)"
      ],
      "execution_count": 43,
      "outputs": [
        {
          "output_type": "stream",
          "text": [
            "Epoch 1/9\n",
            "16/16 [==============================] - 2s 74ms/step - loss: 2.8513 - accuracy: 0.4620 - val_loss: 1.4291 - val_accuracy: 0.6770\n",
            "Epoch 2/9\n",
            "16/16 [==============================] - 1s 59ms/step - loss: 1.1938 - accuracy: 0.7421 - val_loss: 1.1352 - val_accuracy: 0.7480\n",
            "Epoch 3/9\n",
            "16/16 [==============================] - 1s 60ms/step - loss: 0.8150 - accuracy: 0.8277 - val_loss: 1.0516 - val_accuracy: 0.7650\n",
            "Epoch 4/9\n",
            "16/16 [==============================] - 1s 59ms/step - loss: 0.6045 - accuracy: 0.8713 - val_loss: 0.9478 - val_accuracy: 0.8060\n",
            "Epoch 5/9\n",
            "16/16 [==============================] - 1s 60ms/step - loss: 0.4549 - accuracy: 0.9017 - val_loss: 0.8686 - val_accuracy: 0.8200\n",
            "Epoch 6/9\n",
            "16/16 [==============================] - 1s 58ms/step - loss: 0.3481 - accuracy: 0.9287 - val_loss: 0.8804 - val_accuracy: 0.8120\n",
            "Epoch 7/9\n",
            "16/16 [==============================] - 1s 58ms/step - loss: 0.2711 - accuracy: 0.9411 - val_loss: 0.8570 - val_accuracy: 0.8230\n",
            "Epoch 8/9\n",
            "16/16 [==============================] - 1s 59ms/step - loss: 0.2157 - accuracy: 0.9520 - val_loss: 0.9649 - val_accuracy: 0.8000\n",
            "Epoch 9/9\n",
            "16/16 [==============================] - 1s 60ms/step - loss: 0.1832 - accuracy: 0.9557 - val_loss: 0.9137 - val_accuracy: 0.8160\n",
            "71/71 [==============================] - 0s 3ms/step - loss: 1.0176 - accuracy: 0.7916\n"
          ],
          "name": "stdout"
        }
      ]
    },
    {
      "cell_type": "code",
      "metadata": {
        "colab": {
          "base_uri": "https://localhost:8080/"
        },
        "id": "XhmNaJRfcWCp",
        "outputId": "04acd5a3-3a9b-4e80-aa52-5af74a5b898c"
      },
      "source": [
        "# 3 Experiment\n",
        "\n",
        "model = Sequential()\n",
        "model.add(Dense(256, activation='relu', input_shape=(10000,)))\n",
        "model.add(Dense(46, activation='softmax'))\n",
        "\n",
        "model.compile(optimizer='rmsprop', \n",
        "              loss='categorical_crossentropy', \n",
        "              metrics=['accuracy'])\n",
        "\n",
        "history = model.fit(partial_x_train, partial_y_train, \n",
        "                    epochs=9, batch_size=512, \n",
        "                    validation_data=(x_val, y_val))\n",
        "\n",
        "results = model.evaluate(x_test, one_hot_test_labels)"
      ],
      "execution_count": 44,
      "outputs": [
        {
          "output_type": "stream",
          "text": [
            "Epoch 1/9\n",
            "16/16 [==============================] - 2s 114ms/step - loss: 2.5701 - accuracy: 0.4923 - val_loss: 1.2558 - val_accuracy: 0.7450\n",
            "Epoch 2/9\n",
            "16/16 [==============================] - 2s 101ms/step - loss: 0.9794 - accuracy: 0.8022 - val_loss: 0.9868 - val_accuracy: 0.8040\n",
            "Epoch 3/9\n",
            "16/16 [==============================] - 2s 99ms/step - loss: 0.5972 - accuracy: 0.8867 - val_loss: 0.8816 - val_accuracy: 0.8150\n",
            "Epoch 4/9\n",
            "16/16 [==============================] - 2s 101ms/step - loss: 0.4216 - accuracy: 0.9143 - val_loss: 0.8222 - val_accuracy: 0.8230\n",
            "Epoch 5/9\n",
            "16/16 [==============================] - 2s 99ms/step - loss: 0.2950 - accuracy: 0.9381 - val_loss: 0.8183 - val_accuracy: 0.8280\n",
            "Epoch 6/9\n",
            "16/16 [==============================] - 2s 101ms/step - loss: 0.2346 - accuracy: 0.9486 - val_loss: 0.7975 - val_accuracy: 0.8370\n",
            "Epoch 7/9\n",
            "16/16 [==============================] - 2s 101ms/step - loss: 0.1785 - accuracy: 0.9573 - val_loss: 0.8453 - val_accuracy: 0.8240\n",
            "Epoch 8/9\n",
            "16/16 [==============================] - 2s 101ms/step - loss: 0.1560 - accuracy: 0.9593 - val_loss: 0.8485 - val_accuracy: 0.8190\n",
            "Epoch 9/9\n",
            "16/16 [==============================] - 2s 99ms/step - loss: 0.1367 - accuracy: 0.9613 - val_loss: 0.8744 - val_accuracy: 0.8190\n",
            "71/71 [==============================] - 0s 4ms/step - loss: 0.9623 - accuracy: 0.8005\n"
          ],
          "name": "stdout"
        }
      ]
    },
    {
      "cell_type": "code",
      "metadata": {
        "id": "RO5h5WCjcWE1"
      },
      "source": [
        ""
      ],
      "execution_count": null,
      "outputs": []
    },
    {
      "cell_type": "code",
      "metadata": {
        "id": "8yWPg-3McWG4"
      },
      "source": [
        ""
      ],
      "execution_count": null,
      "outputs": []
    },
    {
      "cell_type": "code",
      "metadata": {
        "id": "nZ096XURcWIs"
      },
      "source": [
        ""
      ],
      "execution_count": null,
      "outputs": []
    },
    {
      "cell_type": "code",
      "metadata": {
        "id": "gg3BlWXebOU_"
      },
      "source": [
        ""
      ],
      "execution_count": null,
      "outputs": []
    }
  ]
}
