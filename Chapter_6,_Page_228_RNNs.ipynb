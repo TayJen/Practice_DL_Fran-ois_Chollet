{
  "nbformat": 4,
  "nbformat_minor": 0,
  "metadata": {
    "colab": {
      "name": "Chapter 6, Page 228 - RNNs.ipynb",
      "provenance": [],
      "collapsed_sections": [
        "UBkFmoXBP2o3",
        "zf-LkEjRS7bh"
      ],
      "mount_file_id": "1HH1mHlsq25txYznG5fuY_kXmu6SnNxP9",
      "authorship_tag": "ABX9TyOBb9kc+OKTEmKtCZ7tgmQO"
    },
    "kernelspec": {
      "name": "python3",
      "display_name": "Python 3"
    },
    "language_info": {
      "name": "python"
    },
    "accelerator": "TPU"
  },
  "cells": [
    {
      "cell_type": "markdown",
      "metadata": {
        "id": "Llo3CMdTzLOz"
      },
      "source": [
        "# IMDB Reviews Classification"
      ]
    },
    {
      "cell_type": "markdown",
      "metadata": {
        "id": "UBkFmoXBP2o3"
      },
      "source": [
        "## Simple RNN"
      ]
    },
    {
      "cell_type": "code",
      "metadata": {
        "id": "p-XKQcuIPt7v"
      },
      "source": [
        "# Using only Numpy\n",
        "import numpy as np\n",
        "\n",
        "timesteps = 100\n",
        "input_features = 32\n",
        "output_features = 64\n",
        "\n",
        "inputs = np.random.random((timesteps, input_features))\n",
        "\n",
        "state_t = np.zeros((output_features,))\n",
        "\n",
        "W = np.random.random((output_features, input_features))\n",
        "U = np.random.random((output_features, output_features))\n",
        "b = np.random.random((output_features,))\n",
        "\n",
        "successive_outputs = []\n",
        "for input_t in inputs:\n",
        "    output_t = np.tanh(np.dot(W, input_t) + np.dot(U, state_t) + b)\n",
        "\n",
        "    successive_outputs.append(output_t)\n",
        "\n",
        "    state_t = output_t\n",
        "\n",
        "final_output_sequence = np.concatenate(successive_outputs, axis=0)"
      ],
      "execution_count": 4,
      "outputs": []
    },
    {
      "cell_type": "code",
      "metadata": {
        "colab": {
          "base_uri": "https://localhost:8080/"
        },
        "id": "mtn8LymmP6Vu",
        "outputId": "26d923c5-a107-46c0-e527-416c4228d654"
      },
      "source": [
        "# IMDB Data preprocessing\n",
        "from keras.datasets import imdb\n",
        "from keras.preprocessing import sequence\n",
        "\n",
        "max_features = 10000\n",
        "maxlen = 500\n",
        "batch_size = 32\n",
        "\n",
        "print('Loading data...')\n",
        "(input_train, y_train), (input_test, y_test) = imdb.load_data(\n",
        "    num_words=max_features)\n",
        "print(len(input_train), 'train sequences')\n",
        "print(len(input_test), 'test sequences')\n",
        "\n",
        "print('Pad sequences (samples x time)')\n",
        "input_train = sequence.pad_sequences(input_train, maxlen=maxlen)\n",
        "input_test = sequence.pad_sequences(input_test, maxlen=maxlen)\n",
        "\n",
        "print('input_train shape:', input_train.shape)\n",
        "print('input_test shape:', input_test.shape)"
      ],
      "execution_count": 5,
      "outputs": [
        {
          "output_type": "stream",
          "text": [
            "Loading data...\n",
            "Downloading data from https://storage.googleapis.com/tensorflow/tf-keras-datasets/imdb.npz\n",
            "17465344/17464789 [==============================] - 0s 0us/step\n",
            "17473536/17464789 [==============================] - 0s 0us/step\n",
            "25000 train sequences\n",
            "25000 test sequences\n",
            "Pad sequences (samples x time)\n",
            "input_train shape: (25000, 500)\n",
            "input_test shape: (25000, 500)\n"
          ],
          "name": "stdout"
        }
      ]
    },
    {
      "cell_type": "code",
      "metadata": {
        "colab": {
          "base_uri": "https://localhost:8080/"
        },
        "id": "5amNNSGVP6Xt",
        "outputId": "2c26419f-708d-4b48-80b2-e206d6c7fe18"
      },
      "source": [
        "from keras.models import Sequential\n",
        "from keras.layers import Embedding, SimpleRNN, Dense\n",
        "\n",
        "model = Sequential()\n",
        "model.add(Embedding(max_features, 32))\n",
        "model.add(SimpleRNN(32))\n",
        "model.add(Dense(1, activation='sigmoid'))\n",
        "\n",
        "model.summary()"
      ],
      "execution_count": 6,
      "outputs": [
        {
          "output_type": "stream",
          "text": [
            "Model: \"sequential\"\n",
            "_________________________________________________________________\n",
            "Layer (type)                 Output Shape              Param #   \n",
            "=================================================================\n",
            "embedding (Embedding)        (None, None, 32)          320000    \n",
            "_________________________________________________________________\n",
            "simple_rnn (SimpleRNN)       (None, 32)                2080      \n",
            "_________________________________________________________________\n",
            "dense (Dense)                (None, 1)                 33        \n",
            "=================================================================\n",
            "Total params: 322,113\n",
            "Trainable params: 322,113\n",
            "Non-trainable params: 0\n",
            "_________________________________________________________________\n"
          ],
          "name": "stdout"
        }
      ]
    },
    {
      "cell_type": "code",
      "metadata": {
        "colab": {
          "base_uri": "https://localhost:8080/"
        },
        "id": "u5tTIenEP6Z2",
        "outputId": "2bac71f5-4e35-42c2-920c-063bfe5848ba"
      },
      "source": [
        "model.compile(optimizer='rmsprop',\n",
        "              loss='binary_crossentropy',\n",
        "              metrics=['acc'])\n",
        "\n",
        "history = model.fit(input_train, y_train,\n",
        "                    epochs=10,\n",
        "                    batch_size=128,\n",
        "                    validation_split=0.2)"
      ],
      "execution_count": 7,
      "outputs": [
        {
          "output_type": "stream",
          "text": [
            "Epoch 1/10\n",
            "157/157 [==============================] - 65s 392ms/step - loss: 0.6340 - acc: 0.6258 - val_loss: 0.5150 - val_acc: 0.7662\n",
            "Epoch 2/10\n",
            "157/157 [==============================] - 61s 391ms/step - loss: 0.3907 - acc: 0.8333 - val_loss: 0.4822 - val_acc: 0.7838\n",
            "Epoch 3/10\n",
            "157/157 [==============================] - 61s 389ms/step - loss: 0.2984 - acc: 0.8794 - val_loss: 0.3847 - val_acc: 0.8468\n",
            "Epoch 4/10\n",
            "157/157 [==============================] - 61s 389ms/step - loss: 0.2265 - acc: 0.9143 - val_loss: 0.3638 - val_acc: 0.8472\n",
            "Epoch 5/10\n",
            "157/157 [==============================] - 61s 389ms/step - loss: 0.1700 - acc: 0.9369 - val_loss: 0.3765 - val_acc: 0.8636\n",
            "Epoch 6/10\n",
            "157/157 [==============================] - 61s 389ms/step - loss: 0.1127 - acc: 0.9609 - val_loss: 0.4572 - val_acc: 0.8434\n",
            "Epoch 7/10\n",
            "157/157 [==============================] - 61s 391ms/step - loss: 0.0682 - acc: 0.9790 - val_loss: 0.5807 - val_acc: 0.7858\n",
            "Epoch 8/10\n",
            "157/157 [==============================] - 62s 398ms/step - loss: 0.0547 - acc: 0.9826 - val_loss: 0.5378 - val_acc: 0.8432\n",
            "Epoch 9/10\n",
            "157/157 [==============================] - 62s 393ms/step - loss: 0.0317 - acc: 0.9911 - val_loss: 0.6095 - val_acc: 0.8240\n",
            "Epoch 10/10\n",
            "157/157 [==============================] - 61s 390ms/step - loss: 0.0232 - acc: 0.9937 - val_loss: 0.6998 - val_acc: 0.7842\n"
          ],
          "name": "stdout"
        }
      ]
    },
    {
      "cell_type": "code",
      "metadata": {
        "colab": {
          "base_uri": "https://localhost:8080/",
          "height": 545
        },
        "id": "Kgt6cUTTP6bv",
        "outputId": "3bea8cd9-6e40-42ec-81cd-2cddbd825002"
      },
      "source": [
        "import matplotlib.pyplot as plt\n",
        "\n",
        "acc = history.history['acc']\n",
        "val_acc = history.history['val_acc']\n",
        "loss = history.history['loss']\n",
        "val_loss = history.history['val_loss']\n",
        "\n",
        "epochs = range(1, len(acc) + 1)\n",
        "\n",
        "plt.plot(epochs, acc, 'bo', label='Training accuracy')\n",
        "plt.plot(epochs, val_acc, 'b', label='Validation accuracy')\n",
        "plt.title('Training and validation accuracy')\n",
        "plt.legend()\n",
        "\n",
        "plt.figure()\n",
        "\n",
        "plt.plot(epochs, loss, 'bo', label='Training loss')\n",
        "plt.plot(epochs, val_loss, 'b', label='Validation loss')\n",
        "plt.title('Training and validation loss')\n",
        "plt.legend()\n",
        "\n",
        "plt.show()"
      ],
      "execution_count": 8,
      "outputs": [
        {
          "output_type": "display_data",
          "data": {
            "image/png": "[encoded data removed]",
            "text/plain": [
              "<Figure size 432x288 with 1 Axes>"
            ]
          },
          "metadata": {
            "needs_background": "light"
          }
        },
        {
          "output_type": "display_data",
          "data": {
            "image/png": "[encoded data removed]",
            "text/plain": [
              "<Figure size 432x288 with 1 Axes>"
            ]
          },
          "metadata": {
            "needs_background": "light"
          }
        }
      ]
    },
    {
      "cell_type": "markdown",
      "metadata": {
        "id": "zf-LkEjRS7bh"
      },
      "source": [
        "## LSTM"
      ]
    },
    {
      "cell_type": "code",
      "metadata": {
        "colab": {
          "base_uri": "https://localhost:8080/"
        },
        "id": "-YqWcBKYSpfo",
        "outputId": "4962fc32-5125-4bcc-ec7f-bbfb82ef5f19"
      },
      "source": [
        "from keras.layers import LSTM\n",
        "\n",
        "model = Sequential()\n",
        "model.add(Embedding(max_features, 32))\n",
        "model.add(LSTM(32))\n",
        "model.add(Dense(1, activation='sigmoid'))\n",
        "\n",
        "model.compile(optimizer='rmsprop',\n",
        "              loss='binary_crossentropy',\n",
        "              metrics=['acc'])\n",
        "\n",
        "history = model.fit(input_train, y_train,\n",
        "                    epochs=10,\n",
        "                    batch_size=128,\n",
        "                    validation_split=0.2)"
      ],
      "execution_count": 9,
      "outputs": [
        {
          "output_type": "stream",
          "text": [
            "Epoch 1/10\n",
            "157/157 [==============================] - 9s 22ms/step - loss: 0.5388 - acc: 0.7483 - val_loss: 0.4156 - val_acc: 0.8332\n",
            "Epoch 2/10\n",
            "157/157 [==============================] - 3s 19ms/step - loss: 0.3208 - acc: 0.8728 - val_loss: 0.3093 - val_acc: 0.8780\n",
            "Epoch 3/10\n",
            "157/157 [==============================] - 3s 19ms/step - loss: 0.2452 - acc: 0.9053 - val_loss: 0.2999 - val_acc: 0.8860\n",
            "Epoch 4/10\n",
            "157/157 [==============================] - 3s 19ms/step - loss: 0.2049 - acc: 0.9247 - val_loss: 0.3093 - val_acc: 0.8698\n",
            "Epoch 5/10\n",
            "157/157 [==============================] - 3s 19ms/step - loss: 0.1788 - acc: 0.9352 - val_loss: 0.2924 - val_acc: 0.8760\n",
            "Epoch 6/10\n",
            "157/157 [==============================] - 3s 19ms/step - loss: 0.1581 - acc: 0.9426 - val_loss: 0.3143 - val_acc: 0.8822\n",
            "Epoch 7/10\n",
            "157/157 [==============================] - 3s 20ms/step - loss: 0.1404 - acc: 0.9500 - val_loss: 0.3038 - val_acc: 0.8880\n",
            "Epoch 8/10\n",
            "157/157 [==============================] - 3s 19ms/step - loss: 0.1287 - acc: 0.9556 - val_loss: 0.4154 - val_acc: 0.8288\n",
            "Epoch 9/10\n",
            "157/157 [==============================] - 3s 20ms/step - loss: 0.1191 - acc: 0.9578 - val_loss: 0.3757 - val_acc: 0.8826\n",
            "Epoch 10/10\n",
            "157/157 [==============================] - 3s 19ms/step - loss: 0.1057 - acc: 0.9621 - val_loss: 0.3330 - val_acc: 0.8776\n"
          ],
          "name": "stdout"
        }
      ]
    },
    {
      "cell_type": "code",
      "metadata": {
        "colab": {
          "base_uri": "https://localhost:8080/",
          "height": 545
        },
        "id": "sjNWLEcuSphk",
        "outputId": "58ec0418-7c96-4e56-b17b-9d3a337c42f7"
      },
      "source": [
        "import matplotlib.pyplot as plt\n",
        "\n",
        "acc = history.history['acc']\n",
        "val_acc = history.history['val_acc']\n",
        "loss = history.history['loss']\n",
        "val_loss = history.history['val_loss']\n",
        "\n",
        "epochs = range(1, len(acc) + 1)\n",
        "\n",
        "plt.plot(epochs, acc, 'bo', label='Training accuracy')\n",
        "plt.plot(epochs, val_acc, 'b', label='Validation accuracy')\n",
        "plt.title('Training and validation accuracy')\n",
        "plt.legend()\n",
        "\n",
        "plt.figure()\n",
        "\n",
        "plt.plot(epochs, loss, 'bo', label='Training loss')\n",
        "plt.plot(epochs, val_loss, 'b', label='Validation loss')\n",
        "plt.title('Training and validation loss')\n",
        "plt.legend()\n",
        "\n",
        "plt.show()"
      ],
      "execution_count": 10,
      "outputs": [
        {
          "output_type": "display_data",
          "data": {
            "image/png": "[encoded data removed]",
            "text/plain": [
              "<Figure size 432x288 with 1 Axes>"
            ]
          },
          "metadata": {
            "needs_background": "light"
          }
        },
        {
          "output_type": "display_data",
          "data": {
            "image/png": "[encoded data removed]",
            "text/plain": [
              "<Figure size 432x288 with 1 Axes>"
            ]
          },
          "metadata": {
            "needs_background": "light"
          }
        }
      ]
    },
    {
      "cell_type": "markdown",
      "metadata": {
        "id": "5miBs_uPVjiY"
      },
      "source": [
        "# Temperature Prediction"
      ]
    },
    {
      "cell_type": "markdown",
      "metadata": {
        "id": "UcFhuBuGzcLV"
      },
      "source": [
        "## Data Preprocessing"
      ]
    },
    {
      "cell_type": "code",
      "metadata": {
        "id": "11LLCbyvSpjq"
      },
      "source": [
        "!mkdir /content/drive/MyDrive/jena_climate\n",
        "!cd /content/drive/MyDrive/jena_climate\n",
        "!wget https://s3.amazonaws.com/keras-datasets/jena_climate_2009_2016.csv.zip\n",
        "!unzip jena_climate_2009_2016.csv.zip"
      ],
      "execution_count": null,
      "outputs": []
    },
    {
      "cell_type": "code",
      "metadata": {
        "colab": {
          "base_uri": "https://localhost:8080/"
        },
        "id": "ghx_4ThkSpli",
        "outputId": "4309c380-f531-4c26-9189-f344f41f4b4e"
      },
      "source": [
        "import os\n",
        "\n",
        "data_dir = '/content/drive/MyDrive/jena_climate'\n",
        "fname = os.path.join(data_dir, 'jena_climate_2009_2016.csv')\n",
        "\n",
        "f = open(fname)\n",
        "data = f.read()\n",
        "f.close()\n",
        "\n",
        "lines = data.split('\\n')\n",
        "header = lines[0].split(',')\n",
        "lines = lines[1:]\n",
        "\n",
        "print(header)\n",
        "print(len(lines))"
      ],
      "execution_count": 1,
      "outputs": [
        {
          "output_type": "stream",
          "text": [
            "['\"Date Time\"', '\"p (mbar)\"', '\"T (degC)\"', '\"Tpot (K)\"', '\"Tdew (degC)\"', '\"rh (%)\"', '\"VPmax (mbar)\"', '\"VPact (mbar)\"', '\"VPdef (mbar)\"', '\"sh (g/kg)\"', '\"H2OC (mmol/mol)\"', '\"rho (g/m**3)\"', '\"wv (m/s)\"', '\"max. wv (m/s)\"', '\"wd (deg)\"']\n",
            "420451\n"
          ],
          "name": "stdout"
        }
      ]
    },
    {
      "cell_type": "code",
      "metadata": {
        "id": "0_e1lMtAP6de"
      },
      "source": [
        "import numpy as np\n",
        "\n",
        "float_data = np.zeros((len(lines), len(header) - 1))\n",
        "for i, line in enumerate(lines):\n",
        "    values = [float(x) for x in line.split(',')[1:]]\n",
        "    float_data[i, :] = values"
      ],
      "execution_count": 2,
      "outputs": []
    },
    {
      "cell_type": "code",
      "metadata": {
        "colab": {
          "base_uri": "https://localhost:8080/",
          "height": 285
        },
        "id": "bpfEAOaDZL6c",
        "outputId": "819db290-f098-46d8-b2d4-d73574d55f18"
      },
      "source": [
        "import matplotlib.pyplot as plt\n",
        "\n",
        "temp = float_data[:, 1]     # temperature in Celsius\n",
        "plt.plot(range(len(temp)), temp)"
      ],
      "execution_count": 3,
      "outputs": [
        {
          "output_type": "execute_result",
          "data": {
            "text/plain": [
              "[<matplotlib.lines.Line2D at 0x7f221a6f5710>]"
            ]
          },
          "metadata": {},
          "execution_count": 3
        },
        {
          "output_type": "display_data",
          "data": {
            "image/png": "[encoded data removed]",
            "text/plain": [
              "<Figure size 432x288 with 1 Axes>"
            ]
          },
          "metadata": {
            "needs_background": "light"
          }
        }
      ]
    },
    {
      "cell_type": "code",
      "metadata": {
        "colab": {
          "base_uri": "https://localhost:8080/",
          "height": 282
        },
        "id": "xCAbUAOgZL8Z",
        "outputId": "0ec97f29-ee48-4f34-d4a7-8bece98eb59d"
      },
      "source": [
        "plt.plot(range(1440), temp[:1440])"
      ],
      "execution_count": 4,
      "outputs": [
        {
          "output_type": "execute_result",
          "data": {
            "text/plain": [
              "[<matplotlib.lines.Line2D at 0x7f221a6f5610>]"
            ]
          },
          "metadata": {},
          "execution_count": 4
        },
        {
          "output_type": "display_data",
          "data": {
            "image/png": "[encoded data removed]",
            "text/plain": [
              "<Figure size 432x288 with 1 Axes>"
            ]
          },
          "metadata": {
            "needs_background": "light"
          }
        }
      ]
    },
    {
      "cell_type": "code",
      "metadata": {
        "id": "MBp3Bu0jZL-W"
      },
      "source": [
        "lookback = 720\n",
        "step = 6\n",
        "delay = 144\n",
        "\n",
        "mean = float_data[:200000].mean(axis=0)\n",
        "float_data -= mean\n",
        "std = float_data[:200000].std(axis=0)\n",
        "float_data /= std"
      ],
      "execution_count": 5,
      "outputs": []
    },
    {
      "cell_type": "code",
      "metadata": {
        "id": "v3cjlP8RZMAe"
      },
      "source": [
        "def generator(data, lookback, delay, min_index, max_index,\n",
        "              shuffle=False, batch_size=128, step=6):\n",
        "    if max_index is None:\n",
        "        max_index = len(data - delay - 1)\n",
        "    i = min_index + lookback\n",
        "    while True:\n",
        "        if shuffle:\n",
        "            rows = np.random.randint(\n",
        "                min_index + lookback, max_index, size=batch_size)\n",
        "        else:\n",
        "            if i + batch_size >= max_index:\n",
        "                i = min_index + lookback\n",
        "            rows = np.arange(i, min(i + batch_size, max_index))\n",
        "            i += len(rows)\n",
        "\n",
        "        samples = np.zeros((len(rows),\n",
        "                            lookback // step,\n",
        "                            data.shape[-1]))\n",
        "        targets = np.zeros((len(rows),))\n",
        "        for j, row in enumerate(rows):\n",
        "            indices = range(rows[j] - lookback, rows[j], step)\n",
        "            samples[j] = data[indices]\n",
        "            targets[j] = data[rows[j] + delay][1]\n",
        "        yield samples, targets"
      ],
      "execution_count": 6,
      "outputs": []
    },
    {
      "cell_type": "code",
      "metadata": {
        "id": "EV24UwHDZMCT"
      },
      "source": [
        "lookback = 1440\n",
        "step = 6\n",
        "delay = 144\n",
        "batch_size = 128\n",
        "\n",
        "train_gen = generator(float_data,\n",
        "                      lookback,\n",
        "                      delay,\n",
        "                      min_index=0,\n",
        "                      max_index=200000,\n",
        "                      shuffle=True,\n",
        "                      batch_size=batch_size,\n",
        "                      step=step)\n",
        "\n",
        "val_gen = generator(float_data,\n",
        "                    lookback,\n",
        "                    delay,\n",
        "                    min_index=200001,\n",
        "                    max_index=300000,\n",
        "                    batch_size=batch_size,\n",
        "                    step=step)\n",
        "\n",
        "test_gen = generator(float_data,\n",
        "                     lookback,\n",
        "                     delay,\n",
        "                     min_index=300001,\n",
        "                     max_index=None,\n",
        "                     batch_size=batch_size,\n",
        "                     step=step)\n",
        "\n",
        "val_steps = (300000 - 200001 - lookback) // batch_size\n",
        "test_steps = (len(float_data) - 300001 - lookback) // batch_size"
      ],
      "execution_count": 7,
      "outputs": []
    },
    {
      "cell_type": "markdown",
      "metadata": {
        "id": "tzIa2HwCziuN"
      },
      "source": [
        "## Naive Solution without ML (using previous day's data for today)"
      ]
    },
    {
      "cell_type": "code",
      "metadata": {
        "colab": {
          "base_uri": "https://localhost:8080/"
        },
        "id": "ZBWrYi5Otnrp",
        "outputId": "8e87c04b-51a3-4782-c93a-4a8a9588bd71"
      },
      "source": [
        "def evaluate_naive_method():\n",
        "    batch_maes = []\n",
        "    for step in range(val_steps):\n",
        "        samples, targets = next(val_gen)\n",
        "        preds = samples[:, -1, 1]\n",
        "        mae = np.mean(np.abs(preds - targets))\n",
        "        batch_maes.append(mae)\n",
        "    print(np.mean(batch_maes))\n",
        "\n",
        "evaluate_naive_method()"
      ],
      "execution_count": 24,
      "outputs": [
        {
          "output_type": "stream",
          "text": [
            "0.2897359729905486\n"
          ],
          "name": "stdout"
        }
      ]
    },
    {
      "cell_type": "markdown",
      "metadata": {
        "id": "t2oD6zGhzpdF"
      },
      "source": [
        "## Naive Solution with ML"
      ]
    },
    {
      "cell_type": "code",
      "metadata": {
        "colab": {
          "base_uri": "https://localhost:8080/"
        },
        "id": "hjY8ryrRtntx",
        "outputId": "c1cc658d-19c1-4364-8203-e317de48e80d"
      },
      "source": [
        "from keras.models import Sequential\n",
        "from keras.layers import Dense, Flatten\n",
        "from tensorflow.keras.optimizers import RMSprop\n",
        "\n",
        "model = Sequential()\n",
        "model.add(Flatten(input_shape=(lookback // step, float_data.shape[-1])))\n",
        "model.add(Dense(32, activation='relu'))\n",
        "model.add(Dense(1))\n",
        "\n",
        "model.compile(optimizer=RMSprop(),\n",
        "              loss='mae')\n",
        "\n",
        "history = model.fit(train_gen,\n",
        "                    steps_per_epoch=500,\n",
        "                    epochs=20,\n",
        "                    validation_data=val_gen,\n",
        "                    validation_steps=val_steps)"
      ],
      "execution_count": 27,
      "outputs": [
        {
          "output_type": "stream",
          "text": [
            "Epoch 1/20\n",
            "500/500 [==============================] - 12s 23ms/step - loss: 1.8290 - val_loss: 0.8679\n",
            "Epoch 2/20\n",
            "500/500 [==============================] - 12s 24ms/step - loss: 0.7032 - val_loss: 0.5684\n",
            "Epoch 3/20\n",
            "500/500 [==============================] - 12s 23ms/step - loss: 0.3495 - val_loss: 0.3358\n",
            "Epoch 4/20\n",
            "500/500 [==============================] - 16s 32ms/step - loss: 0.2785 - val_loss: 0.3183\n",
            "Epoch 5/20\n",
            "500/500 [==============================] - 12s 24ms/step - loss: 0.2608 - val_loss: 0.3028\n",
            "Epoch 6/20\n",
            "500/500 [==============================] - 12s 23ms/step - loss: 0.2494 - val_loss: 0.3357\n",
            "Epoch 7/20\n",
            "500/500 [==============================] - 12s 24ms/step - loss: 0.2414 - val_loss: 0.3154\n",
            "Epoch 8/20\n",
            "500/500 [==============================] - 12s 23ms/step - loss: 0.2348 - val_loss: 0.3183\n",
            "Epoch 9/20\n",
            "500/500 [==============================] - 12s 24ms/step - loss: 0.2308 - val_loss: 0.3463\n",
            "Epoch 10/20\n",
            "500/500 [==============================] - 12s 24ms/step - loss: 0.2249 - val_loss: 0.3569\n",
            "Epoch 11/20\n",
            "500/500 [==============================] - 16s 31ms/step - loss: 0.2205 - val_loss: 0.3301\n",
            "Epoch 12/20\n",
            "500/500 [==============================] - 11s 23ms/step - loss: 0.2194 - val_loss: 0.3237\n",
            "Epoch 13/20\n",
            "500/500 [==============================] - 11s 23ms/step - loss: 0.2157 - val_loss: 0.3235\n",
            "Epoch 14/20\n",
            "500/500 [==============================] - 11s 23ms/step - loss: 0.2121 - val_loss: 0.3541\n",
            "Epoch 15/20\n",
            "500/500 [==============================] - 11s 23ms/step - loss: 0.2092 - val_loss: 0.3497\n",
            "Epoch 16/20\n",
            "500/500 [==============================] - 11s 23ms/step - loss: 0.2075 - val_loss: 0.3162\n",
            "Epoch 17/20\n",
            "500/500 [==============================] - 11s 23ms/step - loss: 0.2049 - val_loss: 0.3599\n",
            "Epoch 18/20\n",
            "500/500 [==============================] - 11s 23ms/step - loss: 0.2029 - val_loss: 0.3700\n",
            "Epoch 19/20\n",
            "500/500 [==============================] - 12s 23ms/step - loss: 0.2033 - val_loss: 0.3468\n",
            "Epoch 20/20\n",
            "500/500 [==============================] - 11s 23ms/step - loss: 0.1993 - val_loss: 0.3352\n"
          ],
          "name": "stdout"
        }
      ]
    },
    {
      "cell_type": "code",
      "metadata": {
        "colab": {
          "base_uri": "https://localhost:8080/",
          "height": 281
        },
        "id": "nLX7Qm0-tnve",
        "outputId": "14274e95-1873-47e6-c8d6-2855a656be56"
      },
      "source": [
        "import matplotlib.pyplot as plt\n",
        "\n",
        "loss = history.history['loss']\n",
        "val_loss = history.history['val_loss']\n",
        "\n",
        "epochs = range(1, len(loss) + 1)\n",
        "\n",
        "plt.figure()\n",
        "\n",
        "plt.plot(epochs, loss, 'bo', label='Training loss')\n",
        "plt.plot(epochs, val_loss, 'b', label='Validation loss')\n",
        "plt.title('Training and validation loss')\n",
        "plt.legend()\n",
        "\n",
        "plt.show()"
      ],
      "execution_count": 28,
      "outputs": [
        {
          "output_type": "display_data",
          "data": {
            "image/png": "[encoded data removed]",
            "text/plain": [
              "<Figure size 432x288 with 1 Axes>"
            ]
          },
          "metadata": {
            "needs_background": "light"
          }
        }
      ]
    },
    {
      "cell_type": "markdown",
      "metadata": {
        "id": "zf0hQ-zPzr8y"
      },
      "source": [
        "## ML Model with GRU ( Gated Recurrent Unit)"
      ]
    },
    {
      "cell_type": "code",
      "metadata": {
        "id": "J3F6Js0vtnxZ"
      },
      "source": [
        "from keras.models import Sequential\n",
        "from keras.layers import GRU, Dense\n",
        "from tensorflow.keras.optimizers import RMSprop\n",
        "\n",
        "model = Sequential()\n",
        "model.add(GRU(32, input_shape=(None, float_data.shape[-1])))\n",
        "model.add(Dense(1))\n",
        "\n",
        "model.compile(optimizer=RMSprop(),\n",
        "              loss='mae')\n",
        "\n",
        "history = model.fit(train_gen,\n",
        "                    steps_per_epoch=500,\n",
        "                    epochs=20,\n",
        "                    validation_data=val_gen,\n",
        "                    validation_steps=val_steps)"
      ],
      "execution_count": null,
      "outputs": []
    },
    {
      "cell_type": "code",
      "metadata": {
        "id": "mqHBiStOxfih"
      },
      "source": [
        "import matplotlib.pyplot as plt\n",
        "\n",
        "loss = history.history['loss']\n",
        "val_loss = history.history['val_loss']\n",
        "\n",
        "epochs = range(1, len(loss) + 1)\n",
        "\n",
        "plt.figure()\n",
        "\n",
        "plt.plot(epochs, loss, 'bo', label='Training loss')\n",
        "plt.plot(epochs, val_loss, 'b', label='Validation loss')\n",
        "plt.title('Training and validation loss')\n",
        "plt.legend()\n",
        "\n",
        "plt.show()"
      ],
      "execution_count": null,
      "outputs": []
    },
    {
      "cell_type": "code",
      "metadata": {
        "id": "WBFfaR0r3mV7"
      },
      "source": [
        "# Adding regularization (recurrent dropout)\n",
        "from keras.models import Sequential\n",
        "from keras.layers import GRU, Dense\n",
        "from tensorflow.keras.optimizers import RMSprop\n",
        "\n",
        "model = Sequential()\n",
        "model.add(GRU(32,\n",
        "              dropout=0.2,\n",
        "              recurrent_dropout=0.2,\n",
        "              input_shape=(None, float_data.shape[-1])))\n",
        "model.add(Dense(1))\n",
        "\n",
        "model.compile(optimizer=RMSprop(),\n",
        "              loss='mae')\n",
        "\n",
        "history = model.fit(train_gen,\n",
        "                    steps_per_epoch=500,\n",
        "                    epochs=40,\n",
        "                    validation_data=val_gen,\n",
        "                    validation_steps=val_steps)"
      ],
      "execution_count": null,
      "outputs": []
    },
    {
      "cell_type": "code",
      "metadata": {
        "id": "9kKJFDTC3mZ0"
      },
      "source": [
        "import matplotlib.pyplot as plt\n",
        "\n",
        "loss = history.history['loss']\n",
        "val_loss = history.history['val_loss']\n",
        "\n",
        "epochs = range(1, len(loss) + 1)\n",
        "\n",
        "plt.figure()\n",
        "\n",
        "plt.plot(epochs, loss, 'bo', label='Training loss')\n",
        "plt.plot(epochs, val_loss, 'b', label='Validation loss')\n",
        "plt.title('Training and validation loss')\n",
        "plt.legend()\n",
        "\n",
        "plt.show()"
      ],
      "execution_count": null,
      "outputs": []
    },
    {
      "cell_type": "code",
      "metadata": {
        "id": "It-Tq-PZxfkl"
      },
      "source": [
        ""
      ],
      "execution_count": null,
      "outputs": []
    },
    {
      "cell_type": "code",
      "metadata": {
        "id": "z3H0lGh9xfmt"
      },
      "source": [
        ""
      ],
      "execution_count": null,
      "outputs": []
    },
    {
      "cell_type": "code",
      "metadata": {
        "id": "lULn_l_gxfo2"
      },
      "source": [
        ""
      ],
      "execution_count": null,
      "outputs": []
    }
  ]
}