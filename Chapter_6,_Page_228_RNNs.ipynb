{
  "nbformat": 4,
  "nbformat_minor": 0,
  "metadata": {
    "colab": {
      "name": "Chapter 6, Page 228 - RNNs.ipynb",
      "provenance": [],
      "collapsed_sections": [
        "UBkFmoXBP2o3",
        "zf-LkEjRS7bh",
        "UcFhuBuGzcLV",
        "tzIa2HwCziuN",
        "t2oD6zGhzpdF",
        "zf0hQ-zPzr8y",
        "uc-XmtEPsIBo"
      ],
      "mount_file_id": "1HH1mHlsq25txYznG5fuY_kXmu6SnNxP9",
      "authorship_tag": "ABX9TyPQOvvNrf7iuTMnssNsv6VX"
    },
    "kernelspec": {
      "name": "python3",
      "display_name": "Python 3"
    },
    "language_info": {
      "name": "python"
    },
    "accelerator": "GPU"
  },
  "cells": [
    {
      "cell_type": "markdown",
      "metadata": {
        "id": "Llo3CMdTzLOz"
      },
      "source": [
        "# IMDB Reviews Classification"
      ]
    },
    {
      "cell_type": "markdown",
      "metadata": {
        "id": "UBkFmoXBP2o3"
      },
      "source": [
        "## Simple RNN"
      ]
    },
    {
      "cell_type": "code",
      "metadata": {
        "id": "p-XKQcuIPt7v"
      },
      "source": [
        "# Using only Numpy\n",
        "import numpy as np\n",
        "\n",
        "timesteps = 100\n",
        "input_features = 32\n",
        "output_features = 64\n",
        "\n",
        "inputs = np.random.random((timesteps, input_features))\n",
        "\n",
        "state_t = np.zeros((output_features,))\n",
        "\n",
        "W = np.random.random((output_features, input_features))\n",
        "U = np.random.random((output_features, output_features))\n",
        "b = np.random.random((output_features,))\n",
        "\n",
        "successive_outputs = []\n",
        "for input_t in inputs:\n",
        "    output_t = np.tanh(np.dot(W, input_t) + np.dot(U, state_t) + b)\n",
        "\n",
        "    successive_outputs.append(output_t)\n",
        "\n",
        "    state_t = output_t\n",
        "\n",
        "final_output_sequence = np.concatenate(successive_outputs, axis=0)"
      ],
      "execution_count": null,
      "outputs": []
    },
    {
      "cell_type": "code",
      "metadata": {
        "colab": {
          "base_uri": "https://localhost:8080/"
        },
        "id": "mtn8LymmP6Vu",
        "outputId": "26d923c5-a107-46c0-e527-416c4228d654"
      },
      "source": [
        "# IMDB Data preprocessing\n",
        "from keras.datasets import imdb\n",
        "from keras.preprocessing import sequence\n",
        "\n",
        "max_features = 10000\n",
        "maxlen = 500\n",
        "batch_size = 32\n",
        "\n",
        "print('Loading data...')\n",
        "(input_train, y_train), (input_test, y_test) = imdb.load_data(\n",
        "    num_words=max_features)\n",
        "print(len(input_train), 'train sequences')\n",
        "print(len(input_test), 'test sequences')\n",
        "\n",
        "print('Pad sequences (samples x time)')\n",
        "input_train = sequence.pad_sequences(input_train, maxlen=maxlen)\n",
        "input_test = sequence.pad_sequences(input_test, maxlen=maxlen)\n",
        "\n",
        "print('input_train shape:', input_train.shape)\n",
        "print('input_test shape:', input_test.shape)"
      ],
      "execution_count": null,
      "outputs": [
        {
          "output_type": "stream",
          "text": [
            "Loading data...\n",
            "Downloading data from https://storage.googleapis.com/tensorflow/tf-keras-datasets/imdb.npz\n",
            "17465344/17464789 [==============================] - 0s 0us/step\n",
            "17473536/17464789 [==============================] - 0s 0us/step\n",
            "25000 train sequences\n",
            "25000 test sequences\n",
            "Pad sequences (samples x time)\n",
            "input_train shape: (25000, 500)\n",
            "input_test shape: (25000, 500)\n"
          ],
          "name": "stdout"
        }
      ]
    },
    {
      "cell_type": "code",
      "metadata": {
        "colab": {
          "base_uri": "https://localhost:8080/"
        },
        "id": "5amNNSGVP6Xt",
        "outputId": "2c26419f-708d-4b48-80b2-e206d6c7fe18"
      },
      "source": [
        "from keras.models import Sequential\n",
        "from keras.layers import Embedding, SimpleRNN, Dense\n",
        "\n",
        "model = Sequential()\n",
        "model.add(Embedding(max_features, 32))\n",
        "model.add(SimpleRNN(32))\n",
        "model.add(Dense(1, activation='sigmoid'))\n",
        "\n",
        "model.summary()"
      ],
      "execution_count": null,
      "outputs": [
        {
          "output_type": "stream",
          "text": [
            "Model: \"sequential\"\n",
            "_________________________________________________________________\n",
            "Layer (type)                 Output Shape              Param #   \n",
            "=================================================================\n",
            "embedding (Embedding)        (None, None, 32)          320000    \n",
            "_________________________________________________________________\n",
            "simple_rnn (SimpleRNN)       (None, 32)                2080      \n",
            "_________________________________________________________________\n",
            "dense (Dense)                (None, 1)                 33        \n",
            "=================================================================\n",
            "Total params: 322,113\n",
            "Trainable params: 322,113\n",
            "Non-trainable params: 0\n",
            "_________________________________________________________________\n"
          ],
          "name": "stdout"
        }
      ]
    },
    {
      "cell_type": "code",
      "metadata": {
        "colab": {
          "base_uri": "https://localhost:8080/"
        },
        "id": "u5tTIenEP6Z2",
        "outputId": "2bac71f5-4e35-42c2-920c-063bfe5848ba"
      },
      "source": [
        "model.compile(optimizer='rmsprop',\n",
        "              loss='binary_crossentropy',\n",
        "              metrics=['acc'])\n",
        "\n",
        "history = model.fit(input_train, y_train,\n",
        "                    epochs=10,\n",
        "                    batch_size=128,\n",
        "                    validation_split=0.2)"
      ],
      "execution_count": null,
      "outputs": [
        {
          "output_type": "stream",
          "text": [
            "Epoch 1/10\n",
            "157/157 [==============================] - 65s 392ms/step - loss: 0.6340 - acc: 0.6258 - val_loss: 0.5150 - val_acc: 0.7662\n",
            "Epoch 2/10\n",
            "157/157 [==============================] - 61s 391ms/step - loss: 0.3907 - acc: 0.8333 - val_loss: 0.4822 - val_acc: 0.7838\n",
            "Epoch 3/10\n",
            "157/157 [==============================] - 61s 389ms/step - loss: 0.2984 - acc: 0.8794 - val_loss: 0.3847 - val_acc: 0.8468\n",
            "Epoch 4/10\n",
            "157/157 [==============================] - 61s 389ms/step - loss: 0.2265 - acc: 0.9143 - val_loss: 0.3638 - val_acc: 0.8472\n",
            "Epoch 5/10\n",
            "157/157 [==============================] - 61s 389ms/step - loss: 0.1700 - acc: 0.9369 - val_loss: 0.3765 - val_acc: 0.8636\n",
            "Epoch 6/10\n",
            "157/157 [==============================] - 61s 389ms/step - loss: 0.1127 - acc: 0.9609 - val_loss: 0.4572 - val_acc: 0.8434\n",
            "Epoch 7/10\n",
            "157/157 [==============================] - 61s 391ms/step - loss: 0.0682 - acc: 0.9790 - val_loss: 0.5807 - val_acc: 0.7858\n",
            "Epoch 8/10\n",
            "157/157 [==============================] - 62s 398ms/step - loss: 0.0547 - acc: 0.9826 - val_loss: 0.5378 - val_acc: 0.8432\n",
            "Epoch 9/10\n",
            "157/157 [==============================] - 62s 393ms/step - loss: 0.0317 - acc: 0.9911 - val_loss: 0.6095 - val_acc: 0.8240\n",
            "Epoch 10/10\n",
            "157/157 [==============================] - 61s 390ms/step - loss: 0.0232 - acc: 0.9937 - val_loss: 0.6998 - val_acc: 0.7842\n"
          ],
          "name": "stdout"
        }
      ]
    },
    {
      "cell_type": "code",
      "metadata": {
        "colab": {
          "base_uri": "https://localhost:8080/",
          "height": 545
        },
        "id": "Kgt6cUTTP6bv",
        "outputId": "3bea8cd9-6e40-42ec-81cd-2cddbd825002"
      },
      "source": [
        "import matplotlib.pyplot as plt\n",
        "\n",
        "acc = history.history['acc']\n",
        "val_acc = history.history['val_acc']\n",
        "loss = history.history['loss']\n",
        "val_loss = history.history['val_loss']\n",
        "\n",
        "epochs = range(1, len(acc) + 1)\n",
        "\n",
        "plt.plot(epochs, acc, 'bo', label='Training accuracy')\n",
        "plt.plot(epochs, val_acc, 'b', label='Validation accuracy')\n",
        "plt.title('Training and validation accuracy')\n",
        "plt.legend()\n",
        "\n",
        "plt.figure()\n",
        "\n",
        "plt.plot(epochs, loss, 'bo', label='Training loss')\n",
        "plt.plot(epochs, val_loss, 'b', label='Validation loss')\n",
        "plt.title('Training and validation loss')\n",
        "plt.legend()\n",
        "\n",
        "plt.show()"
      ],
      "execution_count": null,
      "outputs": [
        {
          "output_type": "display_data",
          "data": {
            "image/png": "[encoded data removed]",
            "text/plain": [
              "<Figure size 432x288 with 1 Axes>"
            ]
          },
          "metadata": {
            "needs_background": "light"
          }
        },
        {
          "output_type": "display_data",
          "data": {
            "image/png": "[encoded data removed]",
            "text/plain": [
              "<Figure size 432x288 with 1 Axes>"
            ]
          },
          "metadata": {
            "needs_background": "light"
          }
        }
      ]
    },
    {
      "cell_type": "markdown",
      "metadata": {
        "id": "zf-LkEjRS7bh"
      },
      "source": [
        "## LSTM"
      ]
    },
    {
      "cell_type": "code",
      "metadata": {
        "colab": {
          "base_uri": "https://localhost:8080/"
        },
        "id": "-YqWcBKYSpfo",
        "outputId": "4962fc32-5125-4bcc-ec7f-bbfb82ef5f19"
      },
      "source": [
        "from keras.layers import LSTM\n",
        "\n",
        "model = Sequential()\n",
        "model.add(Embedding(max_features, 32))\n",
        "model.add(LSTM(32))\n",
        "model.add(Dense(1, activation='sigmoid'))\n",
        "\n",
        "model.compile(optimizer='rmsprop',\n",
        "              loss='binary_crossentropy',\n",
        "              metrics=['acc'])\n",
        "\n",
        "history = model.fit(input_train, y_train,\n",
        "                    epochs=10,\n",
        "                    batch_size=128,\n",
        "                    validation_split=0.2)"
      ],
      "execution_count": null,
      "outputs": [
        {
          "output_type": "stream",
          "text": [
            "Epoch 1/10\n",
            "157/157 [==============================] - 9s 22ms/step - loss: 0.5388 - acc: 0.7483 - val_loss: 0.4156 - val_acc: 0.8332\n",
            "Epoch 2/10\n",
            "157/157 [==============================] - 3s 19ms/step - loss: 0.3208 - acc: 0.8728 - val_loss: 0.3093 - val_acc: 0.8780\n",
            "Epoch 3/10\n",
            "157/157 [==============================] - 3s 19ms/step - loss: 0.2452 - acc: 0.9053 - val_loss: 0.2999 - val_acc: 0.8860\n",
            "Epoch 4/10\n",
            "157/157 [==============================] - 3s 19ms/step - loss: 0.2049 - acc: 0.9247 - val_loss: 0.3093 - val_acc: 0.8698\n",
            "Epoch 5/10\n",
            "157/157 [==============================] - 3s 19ms/step - loss: 0.1788 - acc: 0.9352 - val_loss: 0.2924 - val_acc: 0.8760\n",
            "Epoch 6/10\n",
            "157/157 [==============================] - 3s 19ms/step - loss: 0.1581 - acc: 0.9426 - val_loss: 0.3143 - val_acc: 0.8822\n",
            "Epoch 7/10\n",
            "157/157 [==============================] - 3s 20ms/step - loss: 0.1404 - acc: 0.9500 - val_loss: 0.3038 - val_acc: 0.8880\n",
            "Epoch 8/10\n",
            "157/157 [==============================] - 3s 19ms/step - loss: 0.1287 - acc: 0.9556 - val_loss: 0.4154 - val_acc: 0.8288\n",
            "Epoch 9/10\n",
            "157/157 [==============================] - 3s 20ms/step - loss: 0.1191 - acc: 0.9578 - val_loss: 0.3757 - val_acc: 0.8826\n",
            "Epoch 10/10\n",
            "157/157 [==============================] - 3s 19ms/step - loss: 0.1057 - acc: 0.9621 - val_loss: 0.3330 - val_acc: 0.8776\n"
          ],
          "name": "stdout"
        }
      ]
    },
    {
      "cell_type": "code",
      "metadata": {
        "colab": {
          "base_uri": "https://localhost:8080/",
          "height": 545
        },
        "id": "sjNWLEcuSphk",
        "outputId": "58ec0418-7c96-4e56-b17b-9d3a337c42f7"
      },
      "source": [
        "import matplotlib.pyplot as plt\n",
        "\n",
        "acc = history.history['acc']\n",
        "val_acc = history.history['val_acc']\n",
        "loss = history.history['loss']\n",
        "val_loss = history.history['val_loss']\n",
        "\n",
        "epochs = range(1, len(acc) + 1)\n",
        "\n",
        "plt.plot(epochs, acc, 'bo', label='Training accuracy')\n",
        "plt.plot(epochs, val_acc, 'b', label='Validation accuracy')\n",
        "plt.title('Training and validation accuracy')\n",
        "plt.legend()\n",
        "\n",
        "plt.figure()\n",
        "\n",
        "plt.plot(epochs, loss, 'bo', label='Training loss')\n",
        "plt.plot(epochs, val_loss, 'b', label='Validation loss')\n",
        "plt.title('Training and validation loss')\n",
        "plt.legend()\n",
        "\n",
        "plt.show()"
      ],
      "execution_count": null,
      "outputs": [
        {
          "output_type": "display_data",
          "data": {
            "image/png": "[encoded data removed]",
            "text/plain": [
              "<Figure size 432x288 with 1 Axes>"
            ]
          },
          "metadata": {
            "needs_background": "light"
          }
        },
        {
          "output_type": "display_data",
          "data": {
            "image/png": "[encoded data removed]",
            "text/plain": [
              "<Figure size 432x288 with 1 Axes>"
            ]
          },
          "metadata": {
            "needs_background": "light"
          }
        }
      ]
    },
    {
      "cell_type": "markdown",
      "metadata": {
        "id": "QSEjaTeyt-f5"
      },
      "source": [
        "## Reverse RNN"
      ]
    },
    {
      "cell_type": "code",
      "metadata": {
        "id": "lULn_l_gxfo2",
        "colab": {
          "base_uri": "https://localhost:8080/"
        },
        "outputId": "53ce91da-4fc2-4eba-9f9b-d6248708fd74"
      },
      "source": [
        "# Reverse\n",
        "from keras.datasets import imdb\n",
        "from keras.preprocessing import sequence\n",
        "from keras.layers import Embedding, LSTM, Dense\n",
        "from keras.models import Sequential\n",
        "\n",
        "max_features = 10000\n",
        "maxlen = 500\n",
        "\n",
        "(x_train, y_train), (x_test, y_test) = imdb.load_data(num_words=max_features)\n",
        "\n",
        "x_train = [x[::-1] for x in x_train]\n",
        "x_test = [x[::-1] for x in x_test]\n",
        "\n",
        "x_train = sequence.pad_sequences(x_train, maxlen=maxlen)\n",
        "x_test = sequence.pad_sequences(x_test, maxlen=maxlen)\n",
        "\n",
        "model = Sequential()\n",
        "model.add(Embedding(max_features, 128))\n",
        "model.add(LSTM(32))\n",
        "model.add(Dense(1, activation='sigmoid'))\n",
        "\n",
        "model.compile(optimizer='rmsprop',\n",
        "              loss='binary_crossentropy',\n",
        "              metrics=['acc'])\n",
        "\n",
        "history = model.fit(x_train, y_train,\n",
        "                    epochs=10,\n",
        "                    batch_size=128,\n",
        "                    validation_split=0.2)"
      ],
      "execution_count": 1,
      "outputs": [
        {
          "output_type": "stream",
          "text": [
            "Downloading data from https://storage.googleapis.com/tensorflow/tf-keras-datasets/imdb.npz\n",
            "17465344/17464789 [==============================] - 0s 0us/step\n",
            "17473536/17464789 [==============================] - 0s 0us/step\n",
            "Epoch 1/10\n",
            "157/157 [==============================] - 13s 39ms/step - loss: 0.5095 - acc: 0.7489 - val_loss: 0.3980 - val_acc: 0.8368\n",
            "Epoch 2/10\n",
            "157/157 [==============================] - 6s 36ms/step - loss: 0.3061 - acc: 0.8810 - val_loss: 0.3234 - val_acc: 0.8830\n",
            "Epoch 3/10\n",
            "157/157 [==============================] - 6s 36ms/step - loss: 0.2478 - acc: 0.9069 - val_loss: 0.4539 - val_acc: 0.8654\n",
            "Epoch 4/10\n",
            "157/157 [==============================] - 6s 36ms/step - loss: 0.2101 - acc: 0.9232 - val_loss: 0.3671 - val_acc: 0.8622\n",
            "Epoch 5/10\n",
            "157/157 [==============================] - 6s 36ms/step - loss: 0.1786 - acc: 0.9370 - val_loss: 0.3563 - val_acc: 0.8708\n",
            "Epoch 6/10\n",
            "157/157 [==============================] - 6s 36ms/step - loss: 0.1615 - acc: 0.9449 - val_loss: 0.3453 - val_acc: 0.8670\n",
            "Epoch 7/10\n",
            "157/157 [==============================] - 6s 36ms/step - loss: 0.1508 - acc: 0.9498 - val_loss: 0.4480 - val_acc: 0.8490\n",
            "Epoch 8/10\n",
            "157/157 [==============================] - 6s 36ms/step - loss: 0.1245 - acc: 0.9589 - val_loss: 0.5908 - val_acc: 0.8488\n",
            "Epoch 9/10\n",
            "157/157 [==============================] - 6s 36ms/step - loss: 0.1147 - acc: 0.9620 - val_loss: 0.4218 - val_acc: 0.8688\n",
            "Epoch 10/10\n",
            "157/157 [==============================] - 6s 36ms/step - loss: 0.1084 - acc: 0.9645 - val_loss: 0.5061 - val_acc: 0.8626\n"
          ],
          "name": "stdout"
        }
      ]
    },
    {
      "cell_type": "code",
      "metadata": {
        "colab": {
          "base_uri": "https://localhost:8080/",
          "height": 545
        },
        "id": "aUrwg6LkzfR2",
        "outputId": "5829c7dd-12c2-4c14-b5b2-33d4d421af84"
      },
      "source": [
        "import matplotlib.pyplot as plt\n",
        "\n",
        "acc = history.history['acc']\n",
        "val_acc = history.history['val_acc']\n",
        "loss = history.history['loss']\n",
        "val_loss = history.history['val_loss']\n",
        "\n",
        "epochs = range(1, len(acc) + 1)\n",
        "\n",
        "plt.plot(epochs, acc, 'bo', label='Training accuracy')\n",
        "plt.plot(epochs, val_acc, 'b', label='Validation accuracy')\n",
        "plt.title('Training and validation accuracy')\n",
        "plt.legend()\n",
        "\n",
        "plt.figure()\n",
        "\n",
        "plt.plot(epochs, loss, 'bo', label='Training loss')\n",
        "plt.plot(epochs, val_loss, 'b', label='Validation loss')\n",
        "plt.title('Training and validation loss')\n",
        "plt.legend()\n",
        "\n",
        "plt.show()"
      ],
      "execution_count": 2,
      "outputs": [
        {
          "output_type": "display_data",
          "data": {
            "image/png": "[encoded data removed]",
            "text/plain": [
              "<Figure size 432x288 with 1 Axes>"
            ]
          },
          "metadata": {
            "needs_background": "light"
          }
        },
        {
          "output_type": "display_data",
          "data": {
            "image/png": "[encoded data removed]",
            "text/plain": [
              "<Figure size 432x288 with 1 Axes>"
            ]
          },
          "metadata": {
            "needs_background": "light"
          }
        }
      ]
    },
    {
      "cell_type": "markdown",
      "metadata": {
        "id": "0DV2Tjflz3we"
      },
      "source": [
        "## Bidirectional LSTM"
      ]
    },
    {
      "cell_type": "code",
      "metadata": {
        "colab": {
          "base_uri": "https://localhost:8080/"
        },
        "id": "KUPCE_22uFLG",
        "outputId": "03bc55c3-4c81-485a-bebc-868288646702"
      },
      "source": [
        "# Bidirectional\n",
        "from keras.layers import Bidirectional\n",
        "\n",
        "model = Sequential()\n",
        "model.add(Embedding(max_features, 32))\n",
        "model.add(Bidirectional(LSTM(32)))\n",
        "model.add(Dense(1, activation='sigmoid'))\n",
        "\n",
        "model.compile(optimizer='rmsprop',\n",
        "              loss='binary_crossentropy',\n",
        "              metrics=['acc'])\n",
        "\n",
        "history = model.fit(x_train, y_train,\n",
        "                    epochs=10,\n",
        "                    batch_size=128,\n",
        "                    validation_split=0.2)"
      ],
      "execution_count": 3,
      "outputs": [
        {
          "output_type": "stream",
          "text": [
            "Epoch 1/10\n",
            "157/157 [==============================] - 13s 69ms/step - loss: 0.5516 - acc: 0.7279 - val_loss: 0.6009 - val_acc: 0.6780\n",
            "Epoch 2/10\n",
            "157/157 [==============================] - 10s 64ms/step - loss: 0.3407 - acc: 0.8676 - val_loss: 0.3299 - val_acc: 0.8840\n",
            "Epoch 3/10\n",
            "157/157 [==============================] - 10s 64ms/step - loss: 0.2679 - acc: 0.9011 - val_loss: 0.3187 - val_acc: 0.8884\n",
            "Epoch 4/10\n",
            "157/157 [==============================] - 10s 64ms/step - loss: 0.2257 - acc: 0.9186 - val_loss: 0.3187 - val_acc: 0.8740\n",
            "Epoch 5/10\n",
            "157/157 [==============================] - 10s 64ms/step - loss: 0.2005 - acc: 0.9283 - val_loss: 0.3677 - val_acc: 0.8846\n",
            "Epoch 6/10\n",
            "157/157 [==============================] - 10s 63ms/step - loss: 0.1772 - acc: 0.9384 - val_loss: 0.5072 - val_acc: 0.8546\n",
            "Epoch 7/10\n",
            "157/157 [==============================] - 10s 65ms/step - loss: 0.1644 - acc: 0.9421 - val_loss: 0.3393 - val_acc: 0.8582\n",
            "Epoch 8/10\n",
            "157/157 [==============================] - 10s 65ms/step - loss: 0.1455 - acc: 0.9505 - val_loss: 0.4482 - val_acc: 0.8548\n",
            "Epoch 9/10\n",
            "157/157 [==============================] - 10s 66ms/step - loss: 0.1384 - acc: 0.9546 - val_loss: 0.3528 - val_acc: 0.8802\n",
            "Epoch 10/10\n",
            "157/157 [==============================] - 10s 66ms/step - loss: 0.1233 - acc: 0.9576 - val_loss: 0.3629 - val_acc: 0.8750\n"
          ],
          "name": "stdout"
        }
      ]
    },
    {
      "cell_type": "code",
      "metadata": {
        "colab": {
          "base_uri": "https://localhost:8080/",
          "height": 545
        },
        "id": "tmPopuZRuFRY",
        "outputId": "cc51db7b-d42f-4c58-d7bf-057b697e1a0a"
      },
      "source": [
        "import matplotlib.pyplot as plt\n",
        "\n",
        "acc = history.history['acc']\n",
        "val_acc = history.history['val_acc']\n",
        "loss = history.history['loss']\n",
        "val_loss = history.history['val_loss']\n",
        "\n",
        "epochs = range(1, len(acc) + 1)\n",
        "\n",
        "plt.plot(epochs, acc, 'bo', label='Training accuracy')\n",
        "plt.plot(epochs, val_acc, 'b', label='Validation accuracy')\n",
        "plt.title('Training and validation accuracy')\n",
        "plt.legend()\n",
        "\n",
        "plt.figure()\n",
        "\n",
        "plt.plot(epochs, loss, 'bo', label='Training loss')\n",
        "plt.plot(epochs, val_loss, 'b', label='Validation loss')\n",
        "plt.title('Training and validation loss')\n",
        "plt.legend()\n",
        "\n",
        "plt.show()"
      ],
      "execution_count": 4,
      "outputs": [
        {
          "output_type": "display_data",
          "data": {
            "image/png": "[encoded data removed]",
            "text/plain": [
              "<Figure size 432x288 with 1 Axes>"
            ]
          },
          "metadata": {
            "needs_background": "light"
          }
        },
        {
          "output_type": "display_data",
          "data": {
            "image/png": "[encoded data removed]",
            "text/plain": [
              "<Figure size 432x288 with 1 Axes>"
            ]
          },
          "metadata": {
            "needs_background": "light"
          }
        }
      ]
    },
    {
      "cell_type": "code",
      "metadata": {
        "id": "7li_XDr3uFTj"
      },
      "source": [
        ""
      ],
      "execution_count": null,
      "outputs": []
    },
    {
      "cell_type": "code",
      "metadata": {
        "id": "chHIr9rRuFVn"
      },
      "source": [
        ""
      ],
      "execution_count": null,
      "outputs": []
    },
    {
      "cell_type": "code",
      "metadata": {
        "id": "_f5A-nftuFXJ"
      },
      "source": [
        ""
      ],
      "execution_count": null,
      "outputs": []
    },
    {
      "cell_type": "markdown",
      "metadata": {
        "id": "5miBs_uPVjiY"
      },
      "source": [
        "# Temperature Prediction"
      ]
    },
    {
      "cell_type": "markdown",
      "metadata": {
        "id": "UcFhuBuGzcLV"
      },
      "source": [
        "## Data Preprocessing"
      ]
    },
    {
      "cell_type": "code",
      "metadata": {
        "id": "11LLCbyvSpjq"
      },
      "source": [
        "!mkdir /content/drive/MyDrive/jena_climate\n",
        "!cd /content/drive/MyDrive/jena_climate\n",
        "!wget https://s3.amazonaws.com/keras-datasets/jena_climate_2009_2016.csv.zip\n",
        "!unzip jena_climate_2009_2016.csv.zip"
      ],
      "execution_count": null,
      "outputs": []
    },
    {
      "cell_type": "code",
      "metadata": {
        "colab": {
          "base_uri": "https://localhost:8080/"
        },
        "id": "ghx_4ThkSpli",
        "outputId": "a71c5e6a-3310-483f-c709-3e03566c4748"
      },
      "source": [
        "import os\n",
        "\n",
        "data_dir = '/content/drive/MyDrive/jena_climate'\n",
        "fname = os.path.join(data_dir, 'jena_climate_2009_2016.csv')\n",
        "\n",
        "f = open(fname)\n",
        "data = f.read()\n",
        "f.close()\n",
        "\n",
        "lines = data.split('\\n')\n",
        "header = lines[0].split(',')\n",
        "lines = lines[1:]\n",
        "\n",
        "print(header)\n",
        "print(len(lines))"
      ],
      "execution_count": 5,
      "outputs": [
        {
          "output_type": "stream",
          "text": [
            "['\"Date Time\"', '\"p (mbar)\"', '\"T (degC)\"', '\"Tpot (K)\"', '\"Tdew (degC)\"', '\"rh (%)\"', '\"VPmax (mbar)\"', '\"VPact (mbar)\"', '\"VPdef (mbar)\"', '\"sh (g/kg)\"', '\"H2OC (mmol/mol)\"', '\"rho (g/m**3)\"', '\"wv (m/s)\"', '\"max. wv (m/s)\"', '\"wd (deg)\"']\n",
            "420451\n"
          ],
          "name": "stdout"
        }
      ]
    },
    {
      "cell_type": "code",
      "metadata": {
        "id": "0_e1lMtAP6de"
      },
      "source": [
        "import numpy as np\n",
        "\n",
        "float_data = np.zeros((len(lines), len(header) - 1))\n",
        "for i, line in enumerate(lines):\n",
        "    values = [float(x) for x in line.split(',')[1:]]\n",
        "    float_data[i, :] = values"
      ],
      "execution_count": 6,
      "outputs": []
    },
    {
      "cell_type": "code",
      "metadata": {
        "colab": {
          "base_uri": "https://localhost:8080/",
          "height": 285
        },
        "id": "bpfEAOaDZL6c",
        "outputId": "b80cf6c3-7174-4996-a618-2273b4888848"
      },
      "source": [
        "import matplotlib.pyplot as plt\n",
        "\n",
        "temp = float_data[:, 1]     # temperature in Celsius\n",
        "plt.plot(range(len(temp)), temp)"
      ],
      "execution_count": 7,
      "outputs": [
        {
          "output_type": "execute_result",
          "data": {
            "text/plain": [
              "[<matplotlib.lines.Line2D at 0x7f8c52a8b290>]"
            ]
          },
          "metadata": {},
          "execution_count": 7
        },
        {
          "output_type": "display_data",
          "data": {
            "image/png": "[encoded data removed]",
            "text/plain": [
              "<Figure size 432x288 with 1 Axes>"
            ]
          },
          "metadata": {
            "needs_background": "light"
          }
        }
      ]
    },
    {
      "cell_type": "code",
      "metadata": {
        "colab": {
          "base_uri": "https://localhost:8080/",
          "height": 282
        },
        "id": "xCAbUAOgZL8Z",
        "outputId": "60079305-a647-48c8-b393-77a83b079f82"
      },
      "source": [
        "plt.plot(range(1440), temp[:1440])"
      ],
      "execution_count": 8,
      "outputs": [
        {
          "output_type": "execute_result",
          "data": {
            "text/plain": [
              "[<matplotlib.lines.Line2D at 0x7f8bc606a550>]"
            ]
          },
          "metadata": {},
          "execution_count": 8
        },
        {
          "output_type": "display_data",
          "data": {
            "image/png": "[encoded data removed]",
            "text/plain": [
              "<Figure size 432x288 with 1 Axes>"
            ]
          },
          "metadata": {
            "needs_background": "light"
          }
        }
      ]
    },
    {
      "cell_type": "code",
      "metadata": {
        "id": "MBp3Bu0jZL-W"
      },
      "source": [
        "lookback = 720\n",
        "step = 6\n",
        "delay = 144\n",
        "\n",
        "mean = float_data[:200000].mean(axis=0)\n",
        "float_data -= mean\n",
        "std = float_data[:200000].std(axis=0)\n",
        "float_data /= std"
      ],
      "execution_count": 9,
      "outputs": []
    },
    {
      "cell_type": "code",
      "metadata": {
        "id": "v3cjlP8RZMAe"
      },
      "source": [
        "def generator(data, lookback, delay, min_index, max_index,\n",
        "              shuffle=False, batch_size=128, step=6):\n",
        "    if max_index is None:\n",
        "        max_index = len(data - delay - 1)\n",
        "    i = min_index + lookback\n",
        "    while True:\n",
        "        if shuffle:\n",
        "            rows = np.random.randint(\n",
        "                min_index + lookback, max_index, size=batch_size)\n",
        "        else:\n",
        "            if i + batch_size >= max_index:\n",
        "                i = min_index + lookback\n",
        "            rows = np.arange(i, min(i + batch_size, max_index))\n",
        "            i += len(rows)\n",
        "\n",
        "        samples = np.zeros((len(rows),\n",
        "                            lookback // step,\n",
        "                            data.shape[-1]))\n",
        "        targets = np.zeros((len(rows),))\n",
        "        for j, row in enumerate(rows):\n",
        "            indices = range(rows[j] - lookback, rows[j], step)\n",
        "            samples[j] = data[indices]\n",
        "            targets[j] = data[rows[j] + delay][1]\n",
        "        yield samples, targets"
      ],
      "execution_count": 10,
      "outputs": []
    },
    {
      "cell_type": "code",
      "metadata": {
        "id": "EV24UwHDZMCT"
      },
      "source": [
        "lookback = 1440\n",
        "step = 6\n",
        "delay = 144\n",
        "batch_size = 128\n",
        "\n",
        "train_gen = generator(float_data,\n",
        "                      lookback,\n",
        "                      delay,\n",
        "                      min_index=0,\n",
        "                      max_index=200000,\n",
        "                      shuffle=True,\n",
        "                      batch_size=batch_size,\n",
        "                      step=step)\n",
        "\n",
        "val_gen = generator(float_data,\n",
        "                    lookback,\n",
        "                    delay,\n",
        "                    min_index=200001,\n",
        "                    max_index=300000,\n",
        "                    batch_size=batch_size,\n",
        "                    step=step)\n",
        "\n",
        "test_gen = generator(float_data,\n",
        "                     lookback,\n",
        "                     delay,\n",
        "                     min_index=300001,\n",
        "                     max_index=None,\n",
        "                     batch_size=batch_size,\n",
        "                     step=step)\n",
        "\n",
        "val_steps = (300000 - 200001 - lookback) // batch_size\n",
        "test_steps = (len(float_data) - 300001 - lookback) // batch_size"
      ],
      "execution_count": 11,
      "outputs": []
    },
    {
      "cell_type": "markdown",
      "metadata": {
        "id": "tzIa2HwCziuN"
      },
      "source": [
        "## Naive Solution without ML (using previous day's data for today)"
      ]
    },
    {
      "cell_type": "code",
      "metadata": {
        "colab": {
          "base_uri": "https://localhost:8080/"
        },
        "id": "ZBWrYi5Otnrp",
        "outputId": "c822909f-5ef9-4f53-dfa7-ba09acf53a69"
      },
      "source": [
        "def evaluate_naive_method():\n",
        "    batch_maes = []\n",
        "    for step in range(val_steps):\n",
        "        samples, targets = next(val_gen)\n",
        "        preds = samples[:, -1, 1]\n",
        "        mae = np.mean(np.abs(preds - targets))\n",
        "        batch_maes.append(mae)\n",
        "    print(np.mean(batch_maes))\n",
        "\n",
        "evaluate_naive_method()"
      ],
      "execution_count": 8,
      "outputs": [
        {
          "output_type": "stream",
          "text": [
            "0.2897359729905486\n"
          ],
          "name": "stdout"
        }
      ]
    },
    {
      "cell_type": "markdown",
      "metadata": {
        "id": "t2oD6zGhzpdF"
      },
      "source": [
        "## Naive Solution with ML"
      ]
    },
    {
      "cell_type": "code",
      "metadata": {
        "colab": {
          "base_uri": "https://localhost:8080/"
        },
        "id": "hjY8ryrRtntx",
        "outputId": "e257baa3-71e5-4840-a3b2-e31535d2689a"
      },
      "source": [
        "from keras.models import Sequential\n",
        "from keras.layers import Dense, Flatten\n",
        "from tensorflow.keras.optimizers import RMSprop\n",
        "\n",
        "model = Sequential()\n",
        "model.add(Flatten(input_shape=(lookback // step, float_data.shape[-1])))\n",
        "model.add(Dense(32, activation='relu'))\n",
        "model.add(Dense(1))\n",
        "\n",
        "model.compile(optimizer=RMSprop(),\n",
        "              loss='mae')\n",
        "\n",
        "history = model.fit(train_gen,\n",
        "                    steps_per_epoch=500,\n",
        "                    epochs=20,\n",
        "                    validation_data=val_gen,\n",
        "                    validation_steps=val_steps)"
      ],
      "execution_count": 9,
      "outputs": [
        {
          "output_type": "stream",
          "text": [
            "Epoch 1/20\n",
            "500/500 [==============================] - 19s 37ms/step - loss: 1.3018 - val_loss: 0.6236\n",
            "Epoch 2/20\n",
            "500/500 [==============================] - 18s 37ms/step - loss: 0.4790 - val_loss: 0.3594\n",
            "Epoch 3/20\n",
            "500/500 [==============================] - 18s 37ms/step - loss: 0.2988 - val_loss: 0.3187\n",
            "Epoch 4/20\n",
            "500/500 [==============================] - 18s 37ms/step - loss: 0.2696 - val_loss: 0.3255\n",
            "Epoch 5/20\n",
            "500/500 [==============================] - 18s 37ms/step - loss: 0.2562 - val_loss: 0.3063\n",
            "Epoch 6/20\n",
            "500/500 [==============================] - 18s 36ms/step - loss: 0.2466 - val_loss: 0.3332\n",
            "Epoch 7/20\n",
            "500/500 [==============================] - 18s 36ms/step - loss: 0.2372 - val_loss: 0.3513\n",
            "Epoch 8/20\n",
            "500/500 [==============================] - 16s 32ms/step - loss: 0.2322 - val_loss: 0.3182\n",
            "Epoch 9/20\n",
            "500/500 [==============================] - 18s 37ms/step - loss: 0.2270 - val_loss: 0.3147\n",
            "Epoch 10/20\n",
            "500/500 [==============================] - 18s 37ms/step - loss: 0.2224 - val_loss: 0.3255\n",
            "Epoch 11/20\n",
            "500/500 [==============================] - 18s 37ms/step - loss: 0.2193 - val_loss: 0.3598\n",
            "Epoch 12/20\n",
            "500/500 [==============================] - 18s 36ms/step - loss: 0.2178 - val_loss: 0.3318\n",
            "Epoch 13/20\n",
            "500/500 [==============================] - 19s 37ms/step - loss: 0.2140 - val_loss: 0.3651\n",
            "Epoch 14/20\n",
            "500/500 [==============================] - 18s 37ms/step - loss: 0.2121 - val_loss: 0.4207\n",
            "Epoch 15/20\n",
            "500/500 [==============================] - 18s 37ms/step - loss: 0.2104 - val_loss: 0.3487\n",
            "Epoch 16/20\n",
            "500/500 [==============================] - 18s 36ms/step - loss: 0.2074 - val_loss: 0.3381\n",
            "Epoch 17/20\n",
            "500/500 [==============================] - 18s 37ms/step - loss: 0.2055 - val_loss: 0.3497\n",
            "Epoch 18/20\n",
            "500/500 [==============================] - 18s 36ms/step - loss: 0.2028 - val_loss: 0.3328\n",
            "Epoch 19/20\n",
            "500/500 [==============================] - 18s 36ms/step - loss: 0.2039 - val_loss: 0.3261\n",
            "Epoch 20/20\n",
            "500/500 [==============================] - 18s 36ms/step - loss: 0.2011 - val_loss: 0.3867\n"
          ],
          "name": "stdout"
        }
      ]
    },
    {
      "cell_type": "code",
      "metadata": {
        "colab": {
          "base_uri": "https://localhost:8080/",
          "height": 281
        },
        "id": "nLX7Qm0-tnve",
        "outputId": "7496c5c2-11f1-479b-9af6-537d6f7d33d9"
      },
      "source": [
        "import matplotlib.pyplot as plt\n",
        "\n",
        "loss = history.history['loss']\n",
        "val_loss = history.history['val_loss']\n",
        "\n",
        "epochs = range(1, len(loss) + 1)\n",
        "\n",
        "plt.figure()\n",
        "\n",
        "plt.plot(epochs, loss, 'bo', label='Training loss')\n",
        "plt.plot(epochs, val_loss, 'b', label='Validation loss')\n",
        "plt.title('Training and validation loss')\n",
        "plt.legend()\n",
        "\n",
        "plt.show()"
      ],
      "execution_count": 10,
      "outputs": [
        {
          "output_type": "display_data",
          "data": {
            "image/png": "[encoded data removed]",
            "text/plain": [
              "<Figure size 432x288 with 1 Axes>"
            ]
          },
          "metadata": {
            "needs_background": "light"
          }
        }
      ]
    },
    {
      "cell_type": "markdown",
      "metadata": {
        "id": "zf0hQ-zPzr8y"
      },
      "source": [
        "## ML Model with GRU (Gated Recurrent Unit)"
      ]
    },
    {
      "cell_type": "code",
      "metadata": {
        "id": "J3F6Js0vtnxZ",
        "colab": {
          "base_uri": "https://localhost:8080/"
        },
        "outputId": "1196d172-5609-4f48-f441-98102e2ab716"
      },
      "source": [
        "from keras.models import Sequential\n",
        "from keras.layers import GRU, Dense\n",
        "from tensorflow.keras.optimizers import RMSprop\n",
        "\n",
        "model = Sequential()\n",
        "model.add(GRU(32, input_shape=(None, float_data.shape[-1])))\n",
        "model.add(Dense(1))\n",
        "\n",
        "model.compile(optimizer=RMSprop(),\n",
        "              loss='mae')\n",
        "\n",
        "history = model.fit(train_gen,\n",
        "                    steps_per_epoch=500,\n",
        "                    epochs=20,\n",
        "                    validation_data=val_gen,\n",
        "                    validation_steps=val_steps)"
      ],
      "execution_count": 11,
      "outputs": [
        {
          "output_type": "stream",
          "text": [
            "Epoch 1/20\n",
            "500/500 [==============================] - 100s 196ms/step - loss: 0.3118 - val_loss: 0.2735\n",
            "Epoch 2/20\n",
            "500/500 [==============================] - 96s 193ms/step - loss: 0.2863 - val_loss: 0.2679\n",
            "Epoch 3/20\n",
            "500/500 [==============================] - 96s 191ms/step - loss: 0.2769 - val_loss: 0.2620\n",
            "Epoch 4/20\n",
            "500/500 [==============================] - 95s 190ms/step - loss: 0.2728 - val_loss: 0.2645\n",
            "Epoch 5/20\n",
            "500/500 [==============================] - 97s 194ms/step - loss: 0.2699 - val_loss: 0.2678\n",
            "Epoch 6/20\n",
            "500/500 [==============================] - 97s 194ms/step - loss: 0.2662 - val_loss: 0.2619\n",
            "Epoch 7/20\n",
            "500/500 [==============================] - 96s 192ms/step - loss: 0.2595 - val_loss: 0.2671\n",
            "Epoch 8/20\n",
            "500/500 [==============================] - 96s 191ms/step - loss: 0.2563 - val_loss: 0.2694\n",
            "Epoch 9/20\n",
            "500/500 [==============================] - 96s 193ms/step - loss: 0.2525 - val_loss: 0.2725\n",
            "Epoch 10/20\n",
            "500/500 [==============================] - 98s 195ms/step - loss: 0.2476 - val_loss: 0.2716\n",
            "Epoch 11/20\n",
            "500/500 [==============================] - 100s 200ms/step - loss: 0.2445 - val_loss: 0.2749\n",
            "Epoch 12/20\n",
            "500/500 [==============================] - 100s 200ms/step - loss: 0.2388 - val_loss: 0.2772\n",
            "Epoch 13/20\n",
            "500/500 [==============================] - 97s 194ms/step - loss: 0.2352 - val_loss: 0.2835\n",
            "Epoch 14/20\n",
            "500/500 [==============================] - 96s 193ms/step - loss: 0.2306 - val_loss: 0.2842\n",
            "Epoch 15/20\n",
            "500/500 [==============================] - 96s 192ms/step - loss: 0.2252 - val_loss: 0.2881\n",
            "Epoch 16/20\n",
            "500/500 [==============================] - 98s 196ms/step - loss: 0.2241 - val_loss: 0.2921\n",
            "Epoch 17/20\n",
            "500/500 [==============================] - 96s 192ms/step - loss: 0.2193 - val_loss: 0.2949\n",
            "Epoch 18/20\n",
            "500/500 [==============================] - 96s 192ms/step - loss: 0.2179 - val_loss: 0.2968\n",
            "Epoch 19/20\n",
            "500/500 [==============================] - 99s 197ms/step - loss: 0.2137 - val_loss: 0.2962\n",
            "Epoch 20/20\n",
            "500/500 [==============================] - 99s 199ms/step - loss: 0.2097 - val_loss: 0.3030\n"
          ],
          "name": "stdout"
        }
      ]
    },
    {
      "cell_type": "code",
      "metadata": {
        "id": "mqHBiStOxfih",
        "colab": {
          "base_uri": "https://localhost:8080/",
          "height": 281
        },
        "outputId": "0c7c5ab3-6396-4939-92c4-a61337cc4df5"
      },
      "source": [
        "import matplotlib.pyplot as plt\n",
        "\n",
        "loss = history.history['loss']\n",
        "val_loss = history.history['val_loss']\n",
        "\n",
        "epochs = range(1, len(loss) + 1)\n",
        "\n",
        "plt.figure()\n",
        "\n",
        "plt.plot(epochs, loss, 'bo', label='Training loss')\n",
        "plt.plot(epochs, val_loss, 'b', label='Validation loss')\n",
        "plt.title('Training and validation loss')\n",
        "plt.legend()\n",
        "\n",
        "plt.show()"
      ],
      "execution_count": 12,
      "outputs": [
        {
          "output_type": "display_data",
          "data": {
            "image/png": "[encoded data removed]",
            "text/plain": [
              "<Figure size 432x288 with 1 Axes>"
            ]
          },
          "metadata": {
            "needs_background": "light"
          }
        }
      ]
    },
    {
      "cell_type": "code",
      "metadata": {
        "id": "WBFfaR0r3mV7",
        "colab": {
          "base_uri": "https://localhost:8080/"
        },
        "outputId": "ecd45083-abdc-4f86-bb5c-6a57d16e0793"
      },
      "source": [
        "# Adding regularization (recurrent dropout)\n",
        "from keras.models import Sequential\n",
        "from keras.layers import GRU, Dense\n",
        "from tensorflow.keras.optimizers import RMSprop\n",
        "\n",
        "model = Sequential()\n",
        "model.add(GRU(32,\n",
        "              dropout=0.2,\n",
        "              recurrent_dropout=0.2,\n",
        "              input_shape=(None, float_data.shape[-1])))\n",
        "model.add(Dense(1))\n",
        "\n",
        "model.compile(optimizer=RMSprop(),\n",
        "              loss='mae')\n",
        "\n",
        "history = model.fit(train_gen,\n",
        "                    steps_per_epoch=500,\n",
        "                    epochs=40,\n",
        "                    validation_data=val_gen,\n",
        "                    validation_steps=val_steps)"
      ],
      "execution_count": 13,
      "outputs": [
        {
          "output_type": "stream",
          "text": [
            "Epoch 1/40\n",
            "500/500 [==============================] - 163s 321ms/step - loss: 0.3228 - val_loss: 0.2882\n",
            "Epoch 2/40\n",
            "500/500 [==============================] - 159s 319ms/step - loss: 0.3058 - val_loss: 0.2807\n",
            "Epoch 3/40\n",
            "500/500 [==============================] - 159s 319ms/step - loss: 0.2975 - val_loss: 0.2753\n",
            "Epoch 4/40\n",
            "500/500 [==============================] - 160s 320ms/step - loss: 0.2940 - val_loss: 0.2709\n",
            "Epoch 5/40\n",
            "500/500 [==============================] - 161s 322ms/step - loss: 0.2899 - val_loss: 0.2782\n",
            "Epoch 6/40\n",
            "500/500 [==============================] - 162s 324ms/step - loss: 0.2849 - val_loss: 0.2694\n",
            "Epoch 7/40\n",
            "500/500 [==============================] - 159s 318ms/step - loss: 0.2829 - val_loss: 0.2738\n",
            "Epoch 8/40\n",
            "500/500 [==============================] - 159s 317ms/step - loss: 0.2784 - val_loss: 0.2735\n",
            "Epoch 9/40\n",
            "500/500 [==============================] - 160s 320ms/step - loss: 0.2758 - val_loss: 0.2709\n",
            "Epoch 10/40\n",
            "500/500 [==============================] - 160s 320ms/step - loss: 0.2719 - val_loss: 0.2797\n",
            "Epoch 11/40\n",
            "500/500 [==============================] - 161s 323ms/step - loss: 0.2697 - val_loss: 0.2730\n",
            "Epoch 12/40\n",
            "500/500 [==============================] - 161s 323ms/step - loss: 0.2671 - val_loss: 0.2773\n",
            "Epoch 13/40\n",
            "500/500 [==============================] - 160s 321ms/step - loss: 0.2650 - val_loss: 0.2765\n",
            "Epoch 14/40\n",
            "500/500 [==============================] - 160s 319ms/step - loss: 0.2621 - val_loss: 0.2900\n",
            "Epoch 15/40\n",
            "500/500 [==============================] - 160s 320ms/step - loss: 0.2587 - val_loss: 0.2858\n",
            "Epoch 16/40\n",
            "500/500 [==============================] - 163s 326ms/step - loss: 0.2558 - val_loss: 0.2871\n",
            "Epoch 17/40\n",
            "500/500 [==============================] - 161s 322ms/step - loss: 0.2547 - val_loss: 0.2876\n",
            "Epoch 18/40\n",
            "500/500 [==============================] - 161s 321ms/step - loss: 0.2547 - val_loss: 0.2881\n",
            "Epoch 19/40\n",
            "500/500 [==============================] - 161s 323ms/step - loss: 0.2495 - val_loss: 0.2893\n",
            "Epoch 20/40\n",
            "500/500 [==============================] - 161s 322ms/step - loss: 0.2486 - val_loss: 0.2932\n",
            "Epoch 21/40\n",
            "500/500 [==============================] - 161s 321ms/step - loss: 0.2466 - val_loss: 0.2908\n",
            "Epoch 22/40\n",
            "500/500 [==============================] - 160s 321ms/step - loss: 0.2446 - val_loss: 0.2942\n",
            "Epoch 23/40\n",
            "500/500 [==============================] - 159s 318ms/step - loss: 0.2427 - val_loss: 0.2959\n",
            "Epoch 24/40\n",
            "500/500 [==============================] - 162s 325ms/step - loss: 0.2409 - val_loss: 0.2971\n",
            "Epoch 25/40\n",
            "500/500 [==============================] - 161s 322ms/step - loss: 0.2376 - val_loss: 0.3056\n",
            "Epoch 26/40\n",
            "500/500 [==============================] - 161s 323ms/step - loss: 0.2380 - val_loss: 0.3006\n",
            "Epoch 27/40\n",
            "500/500 [==============================] - 161s 323ms/step - loss: 0.2373 - val_loss: 0.2974\n",
            "Epoch 28/40\n",
            "500/500 [==============================] - 161s 322ms/step - loss: 0.2362 - val_loss: 0.3017\n",
            "Epoch 29/40\n",
            "500/500 [==============================] - 161s 322ms/step - loss: 0.2353 - val_loss: 0.3017\n",
            "Epoch 30/40\n",
            "500/500 [==============================] - 161s 322ms/step - loss: 0.2336 - val_loss: 0.3041\n",
            "Epoch 31/40\n",
            "500/500 [==============================] - 160s 321ms/step - loss: 0.2325 - val_loss: 0.3093\n",
            "Epoch 32/40\n",
            "500/500 [==============================] - 160s 320ms/step - loss: 0.2336 - val_loss: 0.3121\n",
            "Epoch 33/40\n",
            "500/500 [==============================] - 162s 324ms/step - loss: 0.2305 - val_loss: 0.3101\n",
            "Epoch 34/40\n",
            "500/500 [==============================] - 160s 320ms/step - loss: 0.2288 - val_loss: 0.3127\n",
            "Epoch 35/40\n",
            "500/500 [==============================] - 160s 320ms/step - loss: 0.2281 - val_loss: 0.3086\n",
            "Epoch 36/40\n",
            "500/500 [==============================] - 159s 319ms/step - loss: 0.2296 - val_loss: 0.3088\n",
            "Epoch 37/40\n",
            "500/500 [==============================] - 160s 319ms/step - loss: 0.2279 - val_loss: 0.3043\n",
            "Epoch 38/40\n",
            "500/500 [==============================] - 160s 320ms/step - loss: 0.2270 - val_loss: 0.3050\n",
            "Epoch 39/40\n",
            "500/500 [==============================] - 160s 321ms/step - loss: 0.2252 - val_loss: 0.3089\n",
            "Epoch 40/40\n",
            "500/500 [==============================] - 159s 317ms/step - loss: 0.2249 - val_loss: 0.3078\n"
          ],
          "name": "stdout"
        }
      ]
    },
    {
      "cell_type": "code",
      "metadata": {
        "id": "9kKJFDTC3mZ0",
        "colab": {
          "base_uri": "https://localhost:8080/",
          "height": 281
        },
        "outputId": "7b2f8ad0-ce51-4aa8-9fac-3018281761b3"
      },
      "source": [
        "import matplotlib.pyplot as plt\n",
        "\n",
        "loss = history.history['loss']\n",
        "val_loss = history.history['val_loss']\n",
        "\n",
        "epochs = range(1, len(loss) + 1)\n",
        "\n",
        "plt.figure()\n",
        "\n",
        "plt.plot(epochs, loss, 'bo', label='Training loss')\n",
        "plt.plot(epochs, val_loss, 'b', label='Validation loss')\n",
        "plt.title('Training and validation loss')\n",
        "plt.legend()\n",
        "\n",
        "plt.show()"
      ],
      "execution_count": 14,
      "outputs": [
        {
          "output_type": "display_data",
          "data": {
            "image/png": "[encoded data removed]",
            "text/plain": [
              "<Figure size 432x288 with 1 Axes>"
            ]
          },
          "metadata": {
            "needs_background": "light"
          }
        }
      ]
    },
    {
      "cell_type": "markdown",
      "metadata": {
        "id": "uc-XmtEPsIBo"
      },
      "source": [
        "## Multiple GRU layers"
      ]
    },
    {
      "cell_type": "code",
      "metadata": {
        "id": "It-Tq-PZxfkl"
      },
      "source": [
        "from keras.models import Sequential\n",
        "from keras.layers import GRU, Dense\n",
        "from tensorflow.keras.optimizers import RMSprop\n",
        "\n",
        "model = Sequential()\n",
        "model.add(GRU(32,\n",
        "              dropout=0.1,\n",
        "              recurrent_dropout=0.5,\n",
        "              return_sequences=True,\n",
        "              input_shape=(None, float_data.shape[-1])))\n",
        "model.add(GRU(64, activation='relu',\n",
        "              dropout=0.1,\n",
        "              recurrent_dropout=0.5))\n",
        "model.add(Dense(1))\n",
        "\n",
        "model.compile(optimizer=RMSprop(),\n",
        "              loss='mae')\n",
        "\n",
        "history = model.fit(train_gen,\n",
        "                    steps_per_epoch=500,\n",
        "                    epochs=40,\n",
        "                    validation_data=val_gen,\n",
        "                    validation_steps=val_steps)"
      ],
      "execution_count": null,
      "outputs": []
    },
    {
      "cell_type": "code",
      "metadata": {
        "id": "z3H0lGh9xfmt"
      },
      "source": [
        "import matplotlib.pyplot as plt\n",
        "\n",
        "loss = history.history['loss']\n",
        "val_loss = history.history['val_loss']\n",
        "\n",
        "epochs = range(1, len(loss) + 1)\n",
        "\n",
        "plt.figure()\n",
        "\n",
        "plt.plot(epochs, loss, 'bo', label='Training loss')\n",
        "plt.plot(epochs, val_loss, 'b', label='Validation loss')\n",
        "plt.title('Training and validation loss')\n",
        "plt.legend()\n",
        "\n",
        "plt.show()"
      ],
      "execution_count": null,
      "outputs": []
    },
    {
      "cell_type": "markdown",
      "metadata": {
        "id": "kaUvL0QZ050h"
      },
      "source": [
        "## Bidirectional GRU"
      ]
    },
    {
      "cell_type": "code",
      "metadata": {
        "colab": {
          "base_uri": "https://localhost:8080/"
        },
        "id": "sLzn0MYx0-oh",
        "outputId": "4d4fc9bb-438f-4014-bca0-7170afcfc273"
      },
      "source": [
        "from keras.models import Sequential\n",
        "from keras.layers import Bidirectional, GRU, Dense\n",
        "\n",
        "model = Sequential()\n",
        "model.add(Bidirectional(GRU(32), input_shape=(None, float_data.shape[-1])))\n",
        "model.add(Dense(1))\n",
        "\n",
        "model.compile(optimizer='rmsprop',\n",
        "              loss='mae')\n",
        "\n",
        "history = model.fit(train_gen,\n",
        "                    steps_per_epoch=500,\n",
        "                    epochs=40,\n",
        "                    validation_data=val_gen,\n",
        "                    validation_steps=val_steps)"
      ],
      "execution_count": 12,
      "outputs": [
        {
          "output_type": "stream",
          "text": [
            "Epoch 1/40\n",
            "500/500 [==============================] - 24s 44ms/step - loss: 0.2992 - val_loss: 0.2680\n",
            "Epoch 2/40\n",
            "500/500 [==============================] - 22s 43ms/step - loss: 0.2778 - val_loss: 0.2710\n",
            "Epoch 3/40\n",
            "500/500 [==============================] - 21s 43ms/step - loss: 0.2719 - val_loss: 0.2651\n",
            "Epoch 4/40\n",
            "500/500 [==============================] - 21s 43ms/step - loss: 0.2642 - val_loss: 0.2676\n",
            "Epoch 5/40\n",
            "500/500 [==============================] - 21s 43ms/step - loss: 0.2583 - val_loss: 0.2650\n",
            "Epoch 6/40\n",
            "500/500 [==============================] - 22s 43ms/step - loss: 0.2533 - val_loss: 0.2629\n",
            "Epoch 7/40\n",
            "500/500 [==============================] - 22s 43ms/step - loss: 0.2467 - val_loss: 0.2663\n",
            "Epoch 8/40\n",
            "500/500 [==============================] - 22s 43ms/step - loss: 0.2403 - val_loss: 0.2684\n",
            "Epoch 9/40\n",
            "500/500 [==============================] - 22s 43ms/step - loss: 0.2350 - val_loss: 0.2763\n",
            "Epoch 10/40\n",
            "500/500 [==============================] - 21s 43ms/step - loss: 0.2281 - val_loss: 0.2802\n",
            "Epoch 11/40\n",
            "500/500 [==============================] - 21s 43ms/step - loss: 0.2227 - val_loss: 0.2807\n",
            "Epoch 12/40\n",
            "500/500 [==============================] - 24s 49ms/step - loss: 0.2155 - val_loss: 0.2842\n",
            "Epoch 13/40\n",
            "500/500 [==============================] - 25s 49ms/step - loss: 0.2093 - val_loss: 0.2875\n",
            "Epoch 14/40\n",
            "500/500 [==============================] - 24s 49ms/step - loss: 0.2042 - val_loss: 0.2971\n",
            "Epoch 15/40\n",
            "500/500 [==============================] - 25s 49ms/step - loss: 0.2008 - val_loss: 0.3161\n",
            "Epoch 16/40\n",
            "500/500 [==============================] - 21s 43ms/step - loss: 0.1958 - val_loss: 0.2996\n",
            "Epoch 17/40\n",
            "500/500 [==============================] - 21s 43ms/step - loss: 0.1919 - val_loss: 0.3133\n",
            "Epoch 18/40\n",
            "500/500 [==============================] - 22s 43ms/step - loss: 0.1880 - val_loss: 0.3107\n",
            "Epoch 19/40\n",
            "500/500 [==============================] - 21s 42ms/step - loss: 0.1825 - val_loss: 0.3122\n",
            "Epoch 20/40\n",
            "500/500 [==============================] - 21s 43ms/step - loss: 0.1800 - val_loss: 0.3143\n",
            "Epoch 21/40\n",
            "500/500 [==============================] - 21s 43ms/step - loss: 0.1767 - val_loss: 0.3202\n",
            "Epoch 22/40\n",
            "500/500 [==============================] - 21s 42ms/step - loss: 0.1739 - val_loss: 0.3190\n",
            "Epoch 23/40\n",
            "500/500 [==============================] - 21s 43ms/step - loss: 0.1707 - val_loss: 0.3191\n",
            "Epoch 24/40\n",
            "500/500 [==============================] - 21s 43ms/step - loss: 0.1664 - val_loss: 0.3286\n",
            "Epoch 25/40\n",
            "500/500 [==============================] - 21s 43ms/step - loss: 0.1650 - val_loss: 0.3248\n",
            "Epoch 26/40\n",
            "500/500 [==============================] - 21s 43ms/step - loss: 0.1629 - val_loss: 0.3244\n",
            "Epoch 27/40\n",
            "500/500 [==============================] - 22s 43ms/step - loss: 0.1598 - val_loss: 0.3283\n",
            "Epoch 28/40\n",
            "500/500 [==============================] - 21s 43ms/step - loss: 0.1561 - val_loss: 0.3285\n",
            "Epoch 29/40\n",
            "500/500 [==============================] - 21s 43ms/step - loss: 0.1542 - val_loss: 0.3303\n",
            "Epoch 30/40\n",
            "500/500 [==============================] - 21s 42ms/step - loss: 0.1521 - val_loss: 0.3293\n",
            "Epoch 31/40\n",
            "500/500 [==============================] - 21s 42ms/step - loss: 0.1502 - val_loss: 0.3316\n",
            "Epoch 32/40\n",
            "500/500 [==============================] - 22s 43ms/step - loss: 0.1469 - val_loss: 0.3298\n",
            "Epoch 33/40\n",
            "500/500 [==============================] - 21s 43ms/step - loss: 0.1454 - val_loss: 0.3352\n",
            "Epoch 34/40\n",
            "500/500 [==============================] - 21s 43ms/step - loss: 0.1452 - val_loss: 0.3335\n",
            "Epoch 35/40\n",
            "500/500 [==============================] - 21s 43ms/step - loss: 0.1424 - val_loss: 0.3353\n",
            "Epoch 36/40\n",
            "500/500 [==============================] - 21s 43ms/step - loss: 0.1422 - val_loss: 0.3374\n",
            "Epoch 37/40\n",
            "500/500 [==============================] - 22s 43ms/step - loss: 0.1395 - val_loss: 0.3360\n",
            "Epoch 38/40\n",
            "500/500 [==============================] - 21s 43ms/step - loss: 0.1378 - val_loss: 0.3368\n",
            "Epoch 39/40\n",
            "500/500 [==============================] - 21s 42ms/step - loss: 0.1366 - val_loss: 0.3374\n",
            "Epoch 40/40\n",
            "500/500 [==============================] - 21s 43ms/step - loss: 0.1355 - val_loss: 0.3343\n"
          ],
          "name": "stdout"
        }
      ]
    },
    {
      "cell_type": "code",
      "metadata": {
        "colab": {
          "base_uri": "https://localhost:8080/",
          "height": 281
        },
        "id": "YAvg7uiD0-rP",
        "outputId": "416fc680-cf34-4877-af95-5151c812301b"
      },
      "source": [
        "import matplotlib.pyplot as plt\n",
        "\n",
        "loss = history.history['loss']\n",
        "val_loss = history.history['val_loss']\n",
        "\n",
        "epochs = range(1, len(loss) + 1)\n",
        "\n",
        "plt.figure()\n",
        "\n",
        "plt.plot(epochs, loss, 'bo', label='Training loss')\n",
        "plt.plot(epochs, val_loss, 'b', label='Validation loss')\n",
        "plt.title('Training and validation loss')\n",
        "plt.legend()\n",
        "\n",
        "plt.show()"
      ],
      "execution_count": 13,
      "outputs": [
        {
          "output_type": "display_data",
          "data": {
            "image/png": "[encoded data removed]",
            "text/plain": [
              "<Figure size 432x288 with 1 Axes>"
            ]
          },
          "metadata": {
            "needs_background": "light"
          }
        }
      ]
    },
    {
      "cell_type": "code",
      "metadata": {
        "id": "qRBwwGUn0-ta"
      },
      "source": [
        ""
      ],
      "execution_count": null,
      "outputs": []
    },
    {
      "cell_type": "code",
      "metadata": {
        "id": "-dbS_N1P0-vv"
      },
      "source": [
        ""
      ],
      "execution_count": null,
      "outputs": []
    }
  ]
}