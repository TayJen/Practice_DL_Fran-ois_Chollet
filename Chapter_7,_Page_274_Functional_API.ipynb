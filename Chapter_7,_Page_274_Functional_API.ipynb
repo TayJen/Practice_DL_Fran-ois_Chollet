{
  "nbformat": 4,
  "nbformat_minor": 0,
  "metadata": {
    "colab": {
      "name": "Chapter 7, Page 274 - Functional API.ipynb",
      "provenance": [],
      "authorship_tag": "ABX9TyPHt67PqqAdVO6e+qhad5NP"
    },
    "kernelspec": {
      "name": "python3",
      "display_name": "Python 3"
    },
    "language_info": {
      "name": "python"
    }
  },
  "cells": [
    {
      "cell_type": "markdown",
      "metadata": {
        "id": "Ha5s4Owe2COz"
      },
      "source": [
        "## Multiple inputs"
      ]
    },
    {
      "cell_type": "code",
      "metadata": {
        "id": "7_RNzqiV11SA"
      },
      "source": [
        "from keras.models import Model\n",
        "from keras.layers import Embedding, LSTM, Dense, concatenate\n",
        "from keras import Input\n",
        "\n",
        "text_vocabulary_size = 10000\n",
        "question_vocabulary_size = 10000\n",
        "answer_vocabulary_size = 500\n",
        "\n",
        "text_input = Input(shape=(None,), dtype='int32', name='text')\n",
        "embedded_text = Embedding(text_vocabulary_size, 64)(text_input)\n",
        "encoded_text = LSTM(32)(embedded_text)\n",
        "\n",
        "question_input = Input(shape=(None,), dtype='int32', name='question')\n",
        "embedded_question = Embedding(question_vocabulary_size, 32)(question_input)\n",
        "encoded_question = LSTM(16)(embedded_question)\n",
        "\n",
        "concatenated = concatenate([encoded_text, encoded_question], axis=-1)\n",
        "answer = Dense(answer_vocabulary_size, activation='softmax')(concatenated)\n",
        "\n",
        "model = Model([text_input, question_input], answer)\n",
        "model.compile(optimizer='rmsprop',\n",
        "              loss='categorical_crossentropy',\n",
        "              metrics=['acc'])"
      ],
      "execution_count": 1,
      "outputs": []
    },
    {
      "cell_type": "code",
      "metadata": {
        "id": "SqiGMIZp2HvK"
      },
      "source": [
        "import numpy as np\n",
        "\n",
        "num_samples = 1000\n",
        "max_length = 100\n",
        "\n",
        "text = np.random.randint(1, text_vocabulary_size,\n",
        "                        size=(num_samples, max_length))\n",
        "question = np.random.randint(1, question_vocabulary_size,\n",
        "                            size = (num_samples, max_length))\n",
        "\n",
        "answers = np.zeros(shape=(num_samples, answer_vocabulary_size))\n",
        "indices = np.random.randint(0, answer_vocabulary_size, size=num_samples)\n",
        "for i, x in enumerate(answers):\n",
        "    x[indices[i]] = 1"
      ],
      "execution_count": 3,
      "outputs": []
    },
    {
      "cell_type": "code",
      "metadata": {
        "colab": {
          "base_uri": "https://localhost:8080/"
        },
        "id": "bEnmRqHh2HxT",
        "outputId": "c84825d3-dbe2-4b7c-e4a5-254eeec62d93"
      },
      "source": [
        "model.fit([text, question], answers, epochs=10, batch_size=128)"
      ],
      "execution_count": 4,
      "outputs": [
        {
          "output_type": "stream",
          "text": [
            "Epoch 1/10\n",
            "8/8 [==============================] - 5s 127ms/step - loss: 6.2149 - acc: 0.0010\n",
            "Epoch 2/10\n",
            "8/8 [==============================] - 1s 124ms/step - loss: 6.1973 - acc: 0.0410\n",
            "Epoch 3/10\n",
            "8/8 [==============================] - 1s 127ms/step - loss: 6.1440 - acc: 0.0150\n",
            "Epoch 4/10\n",
            "8/8 [==============================] - 1s 120ms/step - loss: 6.0539 - acc: 0.0080\n",
            "Epoch 5/10\n",
            "8/8 [==============================] - 1s 121ms/step - loss: 5.9858 - acc: 0.0120\n",
            "Epoch 6/10\n",
            "8/8 [==============================] - 1s 120ms/step - loss: 5.8827 - acc: 0.0080\n",
            "Epoch 7/10\n",
            "8/8 [==============================] - 1s 121ms/step - loss: 5.7778 - acc: 0.0090\n",
            "Epoch 8/10\n",
            "8/8 [==============================] - 1s 121ms/step - loss: 5.6917 - acc: 0.0310\n",
            "Epoch 9/10\n",
            "8/8 [==============================] - 1s 121ms/step - loss: 5.6198 - acc: 0.0440\n",
            "Epoch 10/10\n",
            "8/8 [==============================] - 1s 119ms/step - loss: 5.5485 - acc: 0.0480\n"
          ],
          "name": "stdout"
        },
        {
          "output_type": "execute_result",
          "data": {
            "text/plain": [
              "<keras.callbacks.History at 0x7fb1fd0e3110>"
            ]
          },
          "metadata": {},
          "execution_count": 4
        }
      ]
    },
    {
      "cell_type": "markdown",
      "metadata": {
        "id": "g1rPEDoy2IZI"
      },
      "source": [
        "## Multiple outputs"
      ]
    },
    {
      "cell_type": "code",
      "metadata": {
        "id": "LQjvC_On4j-a"
      },
      "source": [
        "from keras.models import Model\n",
        "from keras.layers import Conv1D, MaxPooling1D, GlobalMaxPooling1D\n",
        "from keras.layers import Embedding, Dense\n",
        "from keras import Input\n",
        "\n",
        "vocabulary_size = 50000\n",
        "num_income_groups = 10\n",
        "\n",
        "posts_input = Input(shape=(None,), dtype='int32', name='posts')\n",
        "embedded_posts = Embedding(256, vocabulary_size)(posts_input)\n",
        "x = Conv1D(128, 5, activation='relu')(embedded_posts)\n",
        "x = MaxPooling1D(5)(x)\n",
        "x = Conv1D(256, 5, activation='relu')(x)\n",
        "x = Conv1D(256, 5, activation='relu')(x)\n",
        "x = MaxPooling1D(5)(x)\n",
        "x = Conv1D(256, 5, activation='relu')(x)\n",
        "x = Conv1D(256, 5, activation='relu')(x)\n",
        "x = GlobalMaxPooling1D()(x)\n",
        "x = Dense(128, activation='relu')(x)\n",
        "\n",
        "age_prediction = Dense(1, name='age')(x)\n",
        "income_prediction = Dense(num_income_groups,\n",
        "                          activation='softmax',\n",
        "                          name='income')(x)\n",
        "gender_prediction = Dense(1, activation='sigmoid', name='gender')(x)\n",
        "\n",
        "model = Model(posts_input,\n",
        "              [age_prediction, income_prediction, gender_prediction])"
      ],
      "execution_count": 5,
      "outputs": []
    },
    {
      "cell_type": "code",
      "metadata": {
        "id": "xEZw-cd94kAf"
      },
      "source": [
        "model.compile(optimizer='rmsprop',\n",
        "              loss=['mse', 'categorical_crossentropy', 'binary_crossentropy'],\n",
        "              loss_weights=[0.25, 1., 10.])"
      ],
      "execution_count": 7,
      "outputs": []
    },
    {
      "cell_type": "markdown",
      "metadata": {
        "id": "tjX1fWNO7Vja"
      },
      "source": [
        "## Module Inception"
      ]
    },
    {
      "cell_type": "code",
      "metadata": {
        "id": "tCzpGX-a4kCn"
      },
      "source": [
        "from keras.layers import Conv2D, AveragePooling2D, concatenate\n",
        "\n",
        "branch_a = Conv2D(128, 1,\n",
        "                  activation='relu', strides=2)(x)\n",
        "branch_b = Conv2D(128, 1, activation='relu')(x)\n",
        "branch_b = Conv2D(128, 3, activation='relu', strides=2)(branch_b)\n",
        "\n",
        "branch_c = AveragePooling2D(3, strides=2)(x)\n",
        "branch_c = Conv2D(128, 3, activation='relu')(branch_c)\n",
        "\n",
        "branch_d = Conv2D(128, 1, activation='relu')\n",
        "branch_d = Conv2D(128, 3, activation='relu')\n",
        "branch_d = Conv2D(128, 3, activation='relu', strides=2)(branch_d)\n",
        "\n",
        "output = concatenate([branch_a, branch_b, branch_c, branch_d], axis=-1)"
      ],
      "execution_count": null,
      "outputs": []
    },
    {
      "cell_type": "markdown",
      "metadata": {
        "id": "ApMp66V--4LV"
      },
      "source": [
        "## Vision model with common convolutional basis"
      ]
    },
    {
      "cell_type": "code",
      "metadata": {
        "id": "I-rzTcyQ4kH7"
      },
      "source": [
        "from keras.layers import concatenate\n",
        "from keras.applications.xception import Xception\n",
        "from keras import Input\n",
        "\n",
        "xception_base = Xception(weights=None, include_top=False)\n",
        "\n",
        "left_input = Input(shape=(250, 250, 3))\n",
        "right_input = Input(shape=(250, 250, 3))\n",
        "\n",
        "left_features = xception_base(left_input)\n",
        "right_features = xception_base(right_input)\n",
        "\n",
        "merged_features = concatenate([left_features, right_features], axis=-1)"
      ],
      "execution_count": 9,
      "outputs": []
    }
  ]
}