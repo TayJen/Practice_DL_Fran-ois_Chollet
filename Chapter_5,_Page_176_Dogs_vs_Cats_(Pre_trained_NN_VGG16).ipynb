{
  "nbformat": 4,
  "nbformat_minor": 0,
  "metadata": {
    "colab": {
      "name": "Chapter 5, Page 176 - Dogs vc. Cats (Pre-trained NN VGG16).ipynb",
      "provenance": [],
      "collapsed_sections": [],
      "authorship_tag": "ABX9TyOZqjatuVEksZvCEkfcDKiq"
    },
    "kernelspec": {
      "name": "python3",
      "display_name": "Python 3"
    },
    "language_info": {
      "name": "python"
    },
    "accelerator": "GPU"
  },
  "cells": [
    {
      "cell_type": "code",
      "metadata": {
        "colab": {
          "base_uri": "https://localhost:8080/"
        },
        "id": "2pxMrR6__TSs",
        "outputId": "c0965065-c5d0-4082-f21d-3bbd7cf592f0"
      },
      "source": [
        "from keras.applications.vgg16 import VGG16\n",
        "\n",
        "conv_base = VGG16(weights='imagenet', \n",
        "                  include_top=False, \n",
        "                  input_shape=(150, 150, 3))"
      ],
      "execution_count": 6,
      "outputs": [
        {
          "output_type": "stream",
          "text": [
            "Downloading data from https://storage.googleapis.com/tensorflow/keras-applications/vgg16/vgg16_weights_tf_dim_ordering_tf_kernels_notop.h5\n",
            "58892288/58889256 [==============================] - 1s 0us/step\n",
            "58900480/58889256 [==============================] - 1s 0us/step\n"
          ],
          "name": "stdout"
        }
      ]
    },
    {
      "cell_type": "code",
      "metadata": {
        "colab": {
          "base_uri": "https://localhost:8080/"
        },
        "id": "6nlLpQVCA047",
        "outputId": "46a9f918-e936-425f-d664-8b982ced1ed6"
      },
      "source": [
        "conv_base.summary()"
      ],
      "execution_count": 7,
      "outputs": [
        {
          "output_type": "stream",
          "text": [
            "Model: \"vgg16\"\n",
            "_________________________________________________________________\n",
            "Layer (type)                 Output Shape              Param #   \n",
            "=================================================================\n",
            "input_1 (InputLayer)         [(None, 150, 150, 3)]     0         \n",
            "_________________________________________________________________\n",
            "block1_conv1 (Conv2D)        (None, 150, 150, 64)      1792      \n",
            "_________________________________________________________________\n",
            "block1_conv2 (Conv2D)        (None, 150, 150, 64)      36928     \n",
            "_________________________________________________________________\n",
            "block1_pool (MaxPooling2D)   (None, 75, 75, 64)        0         \n",
            "_________________________________________________________________\n",
            "block2_conv1 (Conv2D)        (None, 75, 75, 128)       73856     \n",
            "_________________________________________________________________\n",
            "block2_conv2 (Conv2D)        (None, 75, 75, 128)       147584    \n",
            "_________________________________________________________________\n",
            "block2_pool (MaxPooling2D)   (None, 37, 37, 128)       0         \n",
            "_________________________________________________________________\n",
            "block3_conv1 (Conv2D)        (None, 37, 37, 256)       295168    \n",
            "_________________________________________________________________\n",
            "block3_conv2 (Conv2D)        (None, 37, 37, 256)       590080    \n",
            "_________________________________________________________________\n",
            "block3_conv3 (Conv2D)        (None, 37, 37, 256)       590080    \n",
            "_________________________________________________________________\n",
            "block3_pool (MaxPooling2D)   (None, 18, 18, 256)       0         \n",
            "_________________________________________________________________\n",
            "block4_conv1 (Conv2D)        (None, 18, 18, 512)       1180160   \n",
            "_________________________________________________________________\n",
            "block4_conv2 (Conv2D)        (None, 18, 18, 512)       2359808   \n",
            "_________________________________________________________________\n",
            "block4_conv3 (Conv2D)        (None, 18, 18, 512)       2359808   \n",
            "_________________________________________________________________\n",
            "block4_pool (MaxPooling2D)   (None, 9, 9, 512)         0         \n",
            "_________________________________________________________________\n",
            "block5_conv1 (Conv2D)        (None, 9, 9, 512)         2359808   \n",
            "_________________________________________________________________\n",
            "block5_conv2 (Conv2D)        (None, 9, 9, 512)         2359808   \n",
            "_________________________________________________________________\n",
            "block5_conv3 (Conv2D)        (None, 9, 9, 512)         2359808   \n",
            "_________________________________________________________________\n",
            "block5_pool (MaxPooling2D)   (None, 4, 4, 512)         0         \n",
            "=================================================================\n",
            "Total params: 14,714,688\n",
            "Trainable params: 14,714,688\n",
            "Non-trainable params: 0\n",
            "_________________________________________________________________\n"
          ],
          "name": "stdout"
        }
      ]
    },
    {
      "cell_type": "code",
      "metadata": {
        "id": "UW5hWW0TA07g"
      },
      "source": [
        "! pip install -q kaggle"
      ],
      "execution_count": 8,
      "outputs": []
    },
    {
      "cell_type": "code",
      "metadata": {
        "id": "bKWpVkPMA1Ac"
      },
      "source": [
        "from google.colab import files\n",
        "files.upload()"
      ],
      "execution_count": null,
      "outputs": []
    },
    {
      "cell_type": "code",
      "metadata": {
        "id": "0tlqvRdjA1Cn"
      },
      "source": [
        "! mkdir ~/.kaggle\n",
        "! cp kaggle.json ~/.kaggle/\n",
        "! chmod 600 ~/.kaggle/kaggle.json\n",
        "! kaggle competitions download -c dogs-vs-cats"
      ],
      "execution_count": null,
      "outputs": []
    },
    {
      "cell_type": "code",
      "metadata": {
        "id": "y3SeVkeXA1EU"
      },
      "source": [
        "! mkdir train\n",
        "! unzip train.zip -d train"
      ],
      "execution_count": null,
      "outputs": []
    },
    {
      "cell_type": "code",
      "metadata": {
        "id": "F239y9KMBt3S"
      },
      "source": [
        "! mkdir cats_and_dogs_small\n",
        "\n",
        "! mkdir cats_and_dogs_small/train\n",
        "! mkdir cats_and_dogs_small/validation\n",
        "! mkdir cats_and_dogs_small/test\n",
        "\n",
        "! mkdir cats_and_dogs_small/train/cats\n",
        "! mkdir cats_and_dogs_small/validation/cats\n",
        "! mkdir cats_and_dogs_small/test/cats\n",
        "\n",
        "! mkdir cats_and_dogs_small/train/dogs\n",
        "! mkdir cats_and_dogs_small/validation/dogs\n",
        "! mkdir cats_and_dogs_small/test/dogs"
      ],
      "execution_count": 12,
      "outputs": []
    },
    {
      "cell_type": "code",
      "metadata": {
        "id": "A39cby02Bt5f"
      },
      "source": [
        "import os, shutil\n",
        "\n",
        "original_dataset_dir = '/content/train/train'\n",
        "base_dir = '/content/cats_and_dogs_small'\n",
        "\n",
        "train_dir = os.path.join(base_dir, 'train')\n",
        "validation_dir = os.path.join(base_dir, 'validation')\n",
        "test_dir = os.path.join(base_dir, 'test')\n",
        "\n",
        "train_cats_dir = os.path.join(train_dir, 'cats')\n",
        "train_dogs_dir = os.path.join(train_dir, 'dogs')\n",
        "validation_cats_dir = os.path.join(validation_dir, 'cats')\n",
        "validation_dogs_dir = os.path.join(validation_dir, 'dogs')\n",
        "test_cats_dir = os.path.join(test_dir, 'cats')\n",
        "test_dogs_dir = os.path.join(test_dir, 'dogs')"
      ],
      "execution_count": 13,
      "outputs": []
    },
    {
      "cell_type": "code",
      "metadata": {
        "id": "IxgiPtl_Bt7j"
      },
      "source": [
        "fnames = ['cat.{}.jpg'.format(i) for i in range(1000)]\n",
        "for fname in fnames:\n",
        "  src = os.path.join(original_dataset_dir, fname)\n",
        "  dst = os.path.join(train_cats_dir, fname)\n",
        "  shutil.copyfile(src, dst)"
      ],
      "execution_count": 14,
      "outputs": []
    },
    {
      "cell_type": "code",
      "metadata": {
        "id": "QUKFpa-RBt9Y"
      },
      "source": [
        "fnames = ['cat.{}.jpg'.format(i) for i in range(1000, 1500)]\n",
        "for fname in fnames:\n",
        "  src = os.path.join(original_dataset_dir, fname)\n",
        "  dst = os.path.join(validation_cats_dir, fname)\n",
        "  shutil.copyfile(src, dst)"
      ],
      "execution_count": 15,
      "outputs": []
    },
    {
      "cell_type": "code",
      "metadata": {
        "id": "aoIoB93CBt_Z"
      },
      "source": [
        "fnames = ['cat.{}.jpg'.format(i) for i in range(1500, 2000)]\n",
        "for fname in fnames:\n",
        "  src = os.path.join(original_dataset_dir, fname)\n",
        "  dst = os.path.join(test_cats_dir, fname)\n",
        "  shutil.copyfile(src, dst)"
      ],
      "execution_count": 16,
      "outputs": []
    },
    {
      "cell_type": "code",
      "metadata": {
        "id": "mIdhXxjqBuBQ"
      },
      "source": [
        "fnames = ['dog.{}.jpg'.format(i) for i in range(1000)]\n",
        "for fname in fnames:\n",
        "  src = os.path.join(original_dataset_dir, fname)\n",
        "  dst = os.path.join(train_dogs_dir, fname)\n",
        "  shutil.copyfile(src, dst)"
      ],
      "execution_count": 17,
      "outputs": []
    },
    {
      "cell_type": "code",
      "metadata": {
        "id": "GtKxZx1SCEQu"
      },
      "source": [
        "fnames = ['dog.{}.jpg'.format(i) for i in range(1000, 1500)]\n",
        "\n",
        "for fname in fnames:\n",
        "  src = os.path.join(original_dataset_dir, fname)\n",
        "  dst = os.path.join(validation_dogs_dir, fname)\n",
        "  shutil.copyfile(src, dst)"
      ],
      "execution_count": 18,
      "outputs": []
    },
    {
      "cell_type": "code",
      "metadata": {
        "id": "daTdKYq3CES4"
      },
      "source": [
        "fnames = ['dog.{}.jpg'.format(i) for i in range(1500, 2000)]\n",
        "\n",
        "for fname in fnames:\n",
        "  src = os.path.join(original_dataset_dir, fname)\n",
        "  dst = os.path.join(test_dogs_dir, fname)\n",
        "  shutil.copyfile(src, dst)"
      ],
      "execution_count": 19,
      "outputs": []
    },
    {
      "cell_type": "code",
      "metadata": {
        "colab": {
          "base_uri": "https://localhost:8080/"
        },
        "id": "A3_PKA24CEVH",
        "outputId": "40e99c4b-0f67-4254-a50d-13ebbb814213"
      },
      "source": [
        "print('total training cat images:', len(os.listdir(train_cats_dir)))\n",
        "print('total training dog images:', len(os.listdir(train_dogs_dir)))\n",
        "print('total validation cat images:', len(os.listdir(validation_cats_dir)))\n",
        "print('total validation dog images:', len(os.listdir(validation_dogs_dir)))\n",
        "print('total test cat images:', len(os.listdir(test_cats_dir)))\n",
        "print('total test dog images:', len(os.listdir(test_dogs_dir)))"
      ],
      "execution_count": 20,
      "outputs": [
        {
          "output_type": "stream",
          "text": [
            "total training cat images: 1000\n",
            "total training dog images: 1000\n",
            "total validation cat images: 500\n",
            "total validation dog images: 500\n",
            "total test cat images: 500\n",
            "total test dog images: 500\n"
          ],
          "name": "stdout"
        }
      ]
    },
    {
      "cell_type": "code",
      "metadata": {
        "colab": {
          "base_uri": "https://localhost:8080/"
        },
        "id": "TsSsdI3hCEXS",
        "outputId": "bd82eb0b-dd72-4647-f81a-b679d7748a73"
      },
      "source": [
        "import os\n",
        "import numpy as np\n",
        "from keras.preprocessing.image import ImageDataGenerator\n",
        "\n",
        "datagen = ImageDataGenerator(rescale=1./255)\n",
        "batch_size = 20\n",
        "\n",
        "def extract_features(directory, sample_count):\n",
        "    features = np.zeros(shape=(sample_count, 4, 4, 512))\n",
        "    labels = np.zeros(shape=(sample_count))\n",
        "    generator = datagen.flow_from_directory(\n",
        "        directory,\n",
        "        target_size=(150, 150),\n",
        "        batch_size=batch_size,\n",
        "        class_mode='binary')\n",
        "    i = 0\n",
        "    for inputs_batch, labels_batch in generator:\n",
        "        features_batch = conv_base.predict(inputs_batch)\n",
        "        features[i * batch_size : (i + 1) * batch_size] = features_batch\n",
        "        labels[i * batch_size : (i + 1) * batch_size] = labels_batch\n",
        "        i += 1\n",
        "        if i * batch_size >= sample_count:\n",
        "            break\n",
        "    return features, labels\n",
        "\n",
        "train_features, train_labels = extract_features(train_dir, 2000)\n",
        "validation_features, validation_labels = extract_features(validation_dir, 1000)\n",
        "test_features, test_labels = extract_features(test_dir, 1000)"
      ],
      "execution_count": 21,
      "outputs": [
        {
          "output_type": "stream",
          "text": [
            "Found 2000 images belonging to 2 classes.\n",
            "Found 1000 images belonging to 2 classes.\n",
            "Found 1000 images belonging to 2 classes.\n"
          ],
          "name": "stdout"
        }
      ]
    },
    {
      "cell_type": "code",
      "metadata": {
        "id": "zzUhwn-MCEZb"
      },
      "source": [
        "train_features = np.reshape(train_features, (2000, 4 * 4 * 512))\n",
        "validation_features = np.reshape(validation_features, (1000, 4 * 4 * 512))\n",
        "test_features = np.reshape(test_features, (1000, 4 * 4 * 512))"
      ],
      "execution_count": 22,
      "outputs": []
    },
    {
      "cell_type": "code",
      "metadata": {
        "colab": {
          "base_uri": "https://localhost:8080/"
        },
        "id": "rJEIKGDvD8v7",
        "outputId": "73984a2c-4673-4a0b-843e-4672fd1a9b92"
      },
      "source": [
        "# Without Data Expansion (First way)\n",
        "\n",
        "from keras.models import Sequential\n",
        "from keras.layers import Dense, Dropout\n",
        "from keras.optimizers import RMSprop\n",
        "\n",
        "model = Sequential()\n",
        "model.add(Dense(256, activation='relu', input_dim=(4*4*512)))\n",
        "model.add(Dropout(0.5))\n",
        "model.add(Dense(1, activation='sigmoid'))\n",
        "\n",
        "model.compile(optimizer=RMSprop(learning_rate=2e-5), \n",
        "              loss='binary_crossentropy', \n",
        "              metrics=['acc'])\n",
        "\n",
        "history = model.fit(train_features, train_labels,\n",
        "                    epochs=30,\n",
        "                    batch_size=20,\n",
        "                    validation_data=(validation_features, validation_labels))"
      ],
      "execution_count": 24,
      "outputs": [
        {
          "output_type": "stream",
          "text": [
            "Epoch 1/30\n",
            "100/100 [==============================] - 8s 9ms/step - loss: 0.6962 - acc: 0.5946 - val_loss: 0.4689 - val_acc: 0.8260\n",
            "Epoch 2/30\n",
            "100/100 [==============================] - 0s 4ms/step - loss: 0.4869 - acc: 0.7585 - val_loss: 0.3829 - val_acc: 0.8510\n",
            "Epoch 3/30\n",
            "100/100 [==============================] - 0s 4ms/step - loss: 0.3766 - acc: 0.8363 - val_loss: 0.3358 - val_acc: 0.8790\n",
            "Epoch 4/30\n",
            "100/100 [==============================] - 0s 4ms/step - loss: 0.3172 - acc: 0.8730 - val_loss: 0.3094 - val_acc: 0.8840\n",
            "Epoch 5/30\n",
            "100/100 [==============================] - 0s 4ms/step - loss: 0.2866 - acc: 0.8936 - val_loss: 0.2885 - val_acc: 0.8910\n",
            "Epoch 6/30\n",
            "100/100 [==============================] - 0s 4ms/step - loss: 0.2762 - acc: 0.8913 - val_loss: 0.2768 - val_acc: 0.9000\n",
            "Epoch 7/30\n",
            "100/100 [==============================] - 0s 4ms/step - loss: 0.2378 - acc: 0.9010 - val_loss: 0.2732 - val_acc: 0.8880\n",
            "Epoch 8/30\n",
            "100/100 [==============================] - 0s 4ms/step - loss: 0.2371 - acc: 0.9061 - val_loss: 0.2658 - val_acc: 0.8870\n",
            "Epoch 9/30\n",
            "100/100 [==============================] - 0s 4ms/step - loss: 0.2177 - acc: 0.9115 - val_loss: 0.2674 - val_acc: 0.8830\n",
            "Epoch 10/30\n",
            "100/100 [==============================] - 0s 4ms/step - loss: 0.2080 - acc: 0.9224 - val_loss: 0.2528 - val_acc: 0.8980\n",
            "Epoch 11/30\n",
            "100/100 [==============================] - 0s 4ms/step - loss: 0.2036 - acc: 0.9294 - val_loss: 0.2547 - val_acc: 0.8900\n",
            "Epoch 12/30\n",
            "100/100 [==============================] - 0s 4ms/step - loss: 0.1960 - acc: 0.9236 - val_loss: 0.2485 - val_acc: 0.9020\n",
            "Epoch 13/30\n",
            "100/100 [==============================] - 0s 4ms/step - loss: 0.1701 - acc: 0.9458 - val_loss: 0.2458 - val_acc: 0.9030\n",
            "Epoch 14/30\n",
            "100/100 [==============================] - 0s 4ms/step - loss: 0.1844 - acc: 0.9291 - val_loss: 0.2420 - val_acc: 0.9020\n",
            "Epoch 15/30\n",
            "100/100 [==============================] - 0s 4ms/step - loss: 0.1509 - acc: 0.9505 - val_loss: 0.2412 - val_acc: 0.9030\n",
            "Epoch 16/30\n",
            "100/100 [==============================] - 0s 4ms/step - loss: 0.1588 - acc: 0.9435 - val_loss: 0.2405 - val_acc: 0.9040\n",
            "Epoch 17/30\n",
            "100/100 [==============================] - 0s 4ms/step - loss: 0.1570 - acc: 0.9479 - val_loss: 0.2376 - val_acc: 0.9020\n",
            "Epoch 18/30\n",
            "100/100 [==============================] - 0s 4ms/step - loss: 0.1525 - acc: 0.9455 - val_loss: 0.2367 - val_acc: 0.9020\n",
            "Epoch 19/30\n",
            "100/100 [==============================] - 0s 4ms/step - loss: 0.1469 - acc: 0.9523 - val_loss: 0.2447 - val_acc: 0.8980\n",
            "Epoch 20/30\n",
            "100/100 [==============================] - 0s 4ms/step - loss: 0.1268 - acc: 0.9587 - val_loss: 0.2363 - val_acc: 0.9020\n",
            "Epoch 21/30\n",
            "100/100 [==============================] - 0s 4ms/step - loss: 0.1298 - acc: 0.9556 - val_loss: 0.2354 - val_acc: 0.9040\n",
            "Epoch 22/30\n",
            "100/100 [==============================] - 0s 4ms/step - loss: 0.1108 - acc: 0.9626 - val_loss: 0.2374 - val_acc: 0.9000\n",
            "Epoch 23/30\n",
            "100/100 [==============================] - 0s 4ms/step - loss: 0.1019 - acc: 0.9688 - val_loss: 0.2442 - val_acc: 0.8970\n",
            "Epoch 24/30\n",
            "100/100 [==============================] - 0s 4ms/step - loss: 0.1115 - acc: 0.9634 - val_loss: 0.2412 - val_acc: 0.9000\n",
            "Epoch 25/30\n",
            "100/100 [==============================] - 0s 4ms/step - loss: 0.1209 - acc: 0.9611 - val_loss: 0.2392 - val_acc: 0.9000\n",
            "Epoch 26/30\n",
            "100/100 [==============================] - 0s 4ms/step - loss: 0.1012 - acc: 0.9689 - val_loss: 0.2364 - val_acc: 0.9050\n",
            "Epoch 27/30\n",
            "100/100 [==============================] - 0s 4ms/step - loss: 0.1026 - acc: 0.9661 - val_loss: 0.2366 - val_acc: 0.9050\n",
            "Epoch 28/30\n",
            "100/100 [==============================] - 0s 4ms/step - loss: 0.0947 - acc: 0.9713 - val_loss: 0.2413 - val_acc: 0.9020\n",
            "Epoch 29/30\n",
            "100/100 [==============================] - 0s 4ms/step - loss: 0.0897 - acc: 0.9713 - val_loss: 0.2421 - val_acc: 0.8990\n",
            "Epoch 30/30\n",
            "100/100 [==============================] - 0s 4ms/step - loss: 0.0946 - acc: 0.9621 - val_loss: 0.2375 - val_acc: 0.9030\n"
          ],
          "name": "stdout"
        }
      ]
    },
    {
      "cell_type": "code",
      "metadata": {
        "colab": {
          "base_uri": "https://localhost:8080/",
          "height": 545
        },
        "id": "l3mM7HA1D8x3",
        "outputId": "36e5739c-6eea-4285-97f2-1b96019dad35"
      },
      "source": [
        "import matplotlib.pyplot as plt\n",
        "\n",
        "acc = history.history['acc']\n",
        "val_acc = history.history['val_acc']\n",
        "loss = history.history['loss']\n",
        "val_loss = history.history['val_loss']\n",
        "\n",
        "epochs = range(1, len(acc) + 1)\n",
        "plt.plot(epochs, acc, 'bo', label='Training accuracy')\n",
        "plt.plot(epochs, val_acc, 'b', label='Validation accuracy')\n",
        "plt.title('Training and Validation accuracy')\n",
        "plt.legend()\n",
        "\n",
        "plt.figure()\n",
        "\n",
        "plt.plot(epochs, loss, 'bo', label='Training loss')\n",
        "plt.plot(epochs, val_loss, 'b', label='Validation loss')\n",
        "plt.title('Training and Validation loss')\n",
        "plt.legend()\n",
        "\n",
        "plt.show()"
      ],
      "execution_count": 25,
      "outputs": [
        {
          "output_type": "display_data",
          "data": {
            "image/png": "[encoded data removed]",
            "text/plain": [
              "<Figure size 432x288 with 1 Axes>"
            ]
          },
          "metadata": {
            "tags": [],
            "needs_background": "light"
          }
        },
        {
          "output_type": "display_data",
          "data": {
            "image/png": "[encoded data removed]",
            "text/plain": [
              "<Figure size 432x288 with 1 Axes>"
            ]
          },
          "metadata": {
            "tags": [],
            "needs_background": "light"
          }
        }
      ]
    },
    {
      "cell_type": "code",
      "metadata": {
        "colab": {
          "base_uri": "https://localhost:8080/"
        },
        "id": "cb3Gu3-3D8z_",
        "outputId": "fbcb7284-bcc6-44fd-c056-2e66fcf72420"
      },
      "source": [
        "# With Data Expansion (Second way)\n",
        "\n",
        "from keras.layers import Flatten\n",
        "\n",
        "model = Sequential()\n",
        "model.add(conv_base)\n",
        "model.add(Flatten())\n",
        "model.add(Dense(256, activation='relu'))\n",
        "model.add(Dense(1, activation='sigmoid'))\n",
        "\n",
        "model.summary()"
      ],
      "execution_count": 26,
      "outputs": [
        {
          "output_type": "stream",
          "text": [
            "Model: \"sequential_2\"\n",
            "_________________________________________________________________\n",
            "Layer (type)                 Output Shape              Param #   \n",
            "=================================================================\n",
            "vgg16 (Functional)           (None, 4, 4, 512)         14714688  \n",
            "_________________________________________________________________\n",
            "flatten (Flatten)            (None, 8192)              0         \n",
            "_________________________________________________________________\n",
            "dense_3 (Dense)              (None, 256)               2097408   \n",
            "_________________________________________________________________\n",
            "dense_4 (Dense)              (None, 1)                 257       \n",
            "=================================================================\n",
            "Total params: 16,812,353\n",
            "Trainable params: 16,812,353\n",
            "Non-trainable params: 0\n",
            "_________________________________________________________________\n"
          ],
          "name": "stdout"
        }
      ]
    },
    {
      "cell_type": "code",
      "metadata": {
        "colab": {
          "base_uri": "https://localhost:8080/"
        },
        "id": "Z1nWWwWsD815",
        "outputId": "de02a0bf-915b-4ff7-cc60-91ff977df1c4"
      },
      "source": [
        "print('This is the number of trainable weights', \n",
        "      'before freezing the conv base',\n",
        "      len(model.trainable_weights))\n",
        "\n",
        "conv_base.trainable = False\n",
        "\n",
        "print('This is the number of trainable weights', \n",
        "      'after freezing the conv base',\n",
        "      len(model.trainable_weights))"
      ],
      "execution_count": 27,
      "outputs": [
        {
          "output_type": "stream",
          "text": [
            "This is the number of trainable weights before freezing the conv base 30\n",
            "This is the number of trainable weights after freezing the conv base 4\n"
          ],
          "name": "stdout"
        }
      ]
    },
    {
      "cell_type": "code",
      "metadata": {
        "colab": {
          "base_uri": "https://localhost:8080/"
        },
        "id": "upHlur78IUHd",
        "outputId": "ca58ac04-0c15-4641-f7fe-82933c4dd5fa"
      },
      "source": [
        "from keras.preprocessing.image import ImageDataGenerator\n",
        "\n",
        "train_datagen = ImageDataGenerator(\n",
        "    rescale=1./255,\n",
        "    rotation_range=40,\n",
        "    width_shift_range=0.2,\n",
        "    height_shift_range=0.2,\n",
        "    shear_range=0.2,\n",
        "    zoom_range=0.2,\n",
        "    horizontal_flip=True,\n",
        "    fill_mode='nearest')\n",
        "\n",
        "test_datagen = ImageDataGenerator(rescale=1./255)\n",
        "\n",
        "train_generator = train_datagen.flow_from_directory(\n",
        "    train_dir, \n",
        "    target_size=(150, 150), \n",
        "    batch_size=20, \n",
        "    class_mode='binary')\n",
        "\n",
        "validation_generator = test_datagen.flow_from_directory(\n",
        "    validation_dir,\n",
        "    target_size=(150, 150),\n",
        "    batch_size=20,\n",
        "    class_mode='binary')"
      ],
      "execution_count": 33,
      "outputs": [
        {
          "output_type": "stream",
          "text": [
            "Found 2000 images belonging to 2 classes.\n",
            "Found 1000 images belonging to 2 classes.\n"
          ],
          "name": "stdout"
        }
      ]
    },
    {
      "cell_type": "code",
      "metadata": {
        "colab": {
          "base_uri": "https://localhost:8080/"
        },
        "id": "6F0RXf7wD833",
        "outputId": "5731e50f-44b7-4e21-c29e-f9a45f6a63a3"
      },
      "source": [
        "model.compile(optimizer=RMSprop(learning_rate=2e-5), \n",
        "              loss='binary_crossentropy', \n",
        "              metrics=['acc'])\n",
        "\n",
        "history = model.fit(train_generator,\n",
        "                    steps_per_epoch=100,\n",
        "                    epochs=30,\n",
        "                    validation_data=validation_generator,\n",
        "                    validation_steps=50)"
      ],
      "execution_count": 34,
      "outputs": [
        {
          "output_type": "stream",
          "text": [
            "Epoch 1/30\n",
            "100/100 [==============================] - 20s 190ms/step - loss: 0.3625 - acc: 0.8402 - val_loss: 0.2417 - val_acc: 0.9020\n",
            "Epoch 2/30\n",
            "100/100 [==============================] - 19s 191ms/step - loss: 0.3573 - acc: 0.8376 - val_loss: 0.2426 - val_acc: 0.9070\n",
            "Epoch 3/30\n",
            "100/100 [==============================] - 20s 198ms/step - loss: 0.3225 - acc: 0.8493 - val_loss: 0.2478 - val_acc: 0.8990\n",
            "Epoch 4/30\n",
            "100/100 [==============================] - 19s 189ms/step - loss: 0.3002 - acc: 0.8712 - val_loss: 0.2327 - val_acc: 0.9030\n",
            "Epoch 5/30\n",
            "100/100 [==============================] - 18s 184ms/step - loss: 0.3087 - acc: 0.8641 - val_loss: 0.2388 - val_acc: 0.9020\n",
            "Epoch 6/30\n",
            "100/100 [==============================] - 20s 199ms/step - loss: 0.3146 - acc: 0.8533 - val_loss: 0.2437 - val_acc: 0.8970\n",
            "Epoch 7/30\n",
            "100/100 [==============================] - 20s 196ms/step - loss: 0.3365 - acc: 0.8506 - val_loss: 0.2519 - val_acc: 0.8930\n",
            "Epoch 8/30\n",
            "100/100 [==============================] - 20s 201ms/step - loss: 0.2962 - acc: 0.8717 - val_loss: 0.2365 - val_acc: 0.9030\n",
            "Epoch 9/30\n",
            "100/100 [==============================] - 21s 206ms/step - loss: 0.3044 - acc: 0.8738 - val_loss: 0.2350 - val_acc: 0.9050\n",
            "Epoch 10/30\n",
            "100/100 [==============================] - 19s 189ms/step - loss: 0.3045 - acc: 0.8677 - val_loss: 0.2356 - val_acc: 0.9070\n",
            "Epoch 11/30\n",
            "100/100 [==============================] - 20s 203ms/step - loss: 0.2985 - acc: 0.8666 - val_loss: 0.2453 - val_acc: 0.8970\n",
            "Epoch 12/30\n",
            "100/100 [==============================] - 19s 190ms/step - loss: 0.2696 - acc: 0.8906 - val_loss: 0.2422 - val_acc: 0.9020\n",
            "Epoch 13/30\n",
            "100/100 [==============================] - 19s 188ms/step - loss: 0.2970 - acc: 0.8737 - val_loss: 0.2440 - val_acc: 0.8970\n",
            "Epoch 14/30\n",
            "100/100 [==============================] - 20s 198ms/step - loss: 0.2815 - acc: 0.8826 - val_loss: 0.2336 - val_acc: 0.9070\n",
            "Epoch 15/30\n",
            "100/100 [==============================] - 20s 200ms/step - loss: 0.2855 - acc: 0.8779 - val_loss: 0.2349 - val_acc: 0.9060\n",
            "Epoch 16/30\n",
            "100/100 [==============================] - 19s 187ms/step - loss: 0.2940 - acc: 0.8627 - val_loss: 0.2356 - val_acc: 0.9100\n",
            "Epoch 17/30\n",
            "100/100 [==============================] - 19s 190ms/step - loss: 0.2688 - acc: 0.8788 - val_loss: 0.2341 - val_acc: 0.9080\n",
            "Epoch 18/30\n",
            "100/100 [==============================] - 20s 204ms/step - loss: 0.2787 - acc: 0.8879 - val_loss: 0.2305 - val_acc: 0.9080\n",
            "Epoch 19/30\n",
            "100/100 [==============================] - 19s 188ms/step - loss: 0.2877 - acc: 0.8823 - val_loss: 0.2307 - val_acc: 0.9080\n",
            "Epoch 20/30\n",
            "100/100 [==============================] - 19s 186ms/step - loss: 0.2795 - acc: 0.8698 - val_loss: 0.2350 - val_acc: 0.9090\n",
            "Epoch 21/30\n",
            "100/100 [==============================] - 20s 199ms/step - loss: 0.2795 - acc: 0.8878 - val_loss: 0.2297 - val_acc: 0.9080\n",
            "Epoch 22/30\n",
            "100/100 [==============================] - 19s 195ms/step - loss: 0.2683 - acc: 0.8775 - val_loss: 0.2312 - val_acc: 0.9070\n",
            "Epoch 23/30\n",
            "100/100 [==============================] - 20s 202ms/step - loss: 0.2745 - acc: 0.8754 - val_loss: 0.2357 - val_acc: 0.9040\n",
            "Epoch 24/30\n",
            "100/100 [==============================] - 19s 190ms/step - loss: 0.2925 - acc: 0.8604 - val_loss: 0.2348 - val_acc: 0.9040\n",
            "Epoch 25/30\n",
            "100/100 [==============================] - 19s 186ms/step - loss: 0.2720 - acc: 0.8782 - val_loss: 0.2327 - val_acc: 0.9100\n",
            "Epoch 26/30\n",
            "100/100 [==============================] - 20s 199ms/step - loss: 0.2827 - acc: 0.8791 - val_loss: 0.2339 - val_acc: 0.9050\n",
            "Epoch 27/30\n",
            "100/100 [==============================] - 19s 193ms/step - loss: 0.2657 - acc: 0.8974 - val_loss: 0.2340 - val_acc: 0.9130\n",
            "Epoch 28/30\n",
            "100/100 [==============================] - 19s 185ms/step - loss: 0.2788 - acc: 0.8772 - val_loss: 0.2348 - val_acc: 0.9110\n",
            "Epoch 29/30\n",
            "100/100 [==============================] - 19s 191ms/step - loss: 0.2542 - acc: 0.8854 - val_loss: 0.2337 - val_acc: 0.9040\n",
            "Epoch 30/30\n",
            "100/100 [==============================] - 20s 203ms/step - loss: 0.2861 - acc: 0.8728 - val_loss: 0.2480 - val_acc: 0.9030\n"
          ],
          "name": "stdout"
        }
      ]
    },
    {
      "cell_type": "code",
      "metadata": {
        "colab": {
          "base_uri": "https://localhost:8080/",
          "height": 545
        },
        "id": "G7Z3WH2XCEbb",
        "outputId": "d9e3d8d0-180b-4dd9-c203-8d5e6e582404"
      },
      "source": [
        "import matplotlib.pyplot as plt\n",
        "\n",
        "acc = history.history['acc']\n",
        "val_acc = history.history['val_acc']\n",
        "loss = history.history['loss']\n",
        "val_loss = history.history['val_loss']\n",
        "\n",
        "epochs = range(1, len(acc) + 1)\n",
        "plt.plot(epochs, acc, 'bo', label='Training accuracy')\n",
        "plt.plot(epochs, val_acc, 'b', label='Validation accuracy')\n",
        "plt.title('Training and Validation accuracy')\n",
        "plt.legend()\n",
        "\n",
        "plt.figure()\n",
        "\n",
        "plt.plot(epochs, loss, 'bo', label='Training loss')\n",
        "plt.plot(epochs, val_loss, 'b', label='Validation loss')\n",
        "plt.title('Training and Validation loss')\n",
        "plt.legend()\n",
        "\n",
        "plt.show()"
      ],
      "execution_count": 35,
      "outputs": [
        {
          "output_type": "display_data",
          "data": {
            "image/png": "[encoded data removed]",
            "text/plain": [
              "<Figure size 432x288 with 1 Axes>"
            ]
          },
          "metadata": {
            "tags": [],
            "needs_background": "light"
          }
        },
        {
          "output_type": "display_data",
          "data": {
            "image/png": "[encoded data removed]",
            "text/plain": [
              "<Figure size 432x288 with 1 Axes>"
            ]
          },
          "metadata": {
            "tags": [],
            "needs_background": "light"
          }
        }
      ]
    },
    {
      "cell_type": "code",
      "metadata": {
        "colab": {
          "base_uri": "https://localhost:8080/"
        },
        "id": "6tDrjIF8CEiQ",
        "outputId": "b90395d8-0586-46e8-fb4c-7ad206387f24"
      },
      "source": [
        "conv_base.summary()"
      ],
      "execution_count": 36,
      "outputs": [
        {
          "output_type": "stream",
          "text": [
            "Model: \"vgg16\"\n",
            "_________________________________________________________________\n",
            "Layer (type)                 Output Shape              Param #   \n",
            "=================================================================\n",
            "input_1 (InputLayer)         [(None, 150, 150, 3)]     0         \n",
            "_________________________________________________________________\n",
            "block1_conv1 (Conv2D)        (None, 150, 150, 64)      1792      \n",
            "_________________________________________________________________\n",
            "block1_conv2 (Conv2D)        (None, 150, 150, 64)      36928     \n",
            "_________________________________________________________________\n",
            "block1_pool (MaxPooling2D)   (None, 75, 75, 64)        0         \n",
            "_________________________________________________________________\n",
            "block2_conv1 (Conv2D)        (None, 75, 75, 128)       73856     \n",
            "_________________________________________________________________\n",
            "block2_conv2 (Conv2D)        (None, 75, 75, 128)       147584    \n",
            "_________________________________________________________________\n",
            "block2_pool (MaxPooling2D)   (None, 37, 37, 128)       0         \n",
            "_________________________________________________________________\n",
            "block3_conv1 (Conv2D)        (None, 37, 37, 256)       295168    \n",
            "_________________________________________________________________\n",
            "block3_conv2 (Conv2D)        (None, 37, 37, 256)       590080    \n",
            "_________________________________________________________________\n",
            "block3_conv3 (Conv2D)        (None, 37, 37, 256)       590080    \n",
            "_________________________________________________________________\n",
            "block3_pool (MaxPooling2D)   (None, 18, 18, 256)       0         \n",
            "_________________________________________________________________\n",
            "block4_conv1 (Conv2D)        (None, 18, 18, 512)       1180160   \n",
            "_________________________________________________________________\n",
            "block4_conv2 (Conv2D)        (None, 18, 18, 512)       2359808   \n",
            "_________________________________________________________________\n",
            "block4_conv3 (Conv2D)        (None, 18, 18, 512)       2359808   \n",
            "_________________________________________________________________\n",
            "block4_pool (MaxPooling2D)   (None, 9, 9, 512)         0         \n",
            "_________________________________________________________________\n",
            "block5_conv1 (Conv2D)        (None, 9, 9, 512)         2359808   \n",
            "_________________________________________________________________\n",
            "block5_conv2 (Conv2D)        (None, 9, 9, 512)         2359808   \n",
            "_________________________________________________________________\n",
            "block5_conv3 (Conv2D)        (None, 9, 9, 512)         2359808   \n",
            "_________________________________________________________________\n",
            "block5_pool (MaxPooling2D)   (None, 4, 4, 512)         0         \n",
            "=================================================================\n",
            "Total params: 14,714,688\n",
            "Trainable params: 0\n",
            "Non-trainable params: 14,714,688\n",
            "_________________________________________________________________\n"
          ],
          "name": "stdout"
        }
      ]
    },
    {
      "cell_type": "code",
      "metadata": {
        "id": "2JD2Ru1BIogB"
      },
      "source": [
        "conv_base.trainable = True\n",
        "\n",
        "set_trainable = False\n",
        "for layer in conv_base.layers:\n",
        "    if layer.name == 'block5_conv1':\n",
        "        set_trainable = True\n",
        "    if set_trainable:\n",
        "        layer.trainable = True\n",
        "    else:\n",
        "        layer.trainable = False"
      ],
      "execution_count": 37,
      "outputs": []
    },
    {
      "cell_type": "code",
      "metadata": {
        "colab": {
          "base_uri": "https://localhost:8080/"
        },
        "id": "RwxJ74EdIoiJ",
        "outputId": "0ed928fb-986a-44bf-b279-94d8851dc32d"
      },
      "source": [
        "model.compile(loss='binary_crossentropy', \n",
        "              optimizer=RMSprop(learning_rate=1e-5), \n",
        "              metrics=['acc'])\n",
        "\n",
        "history = model.fit(train_generator,\n",
        "                    steps_per_epoch=100,\n",
        "                    epochs=100,\n",
        "                    validation_data=validation_generator,\n",
        "                    validation_steps=50)"
      ],
      "execution_count": 38,
      "outputs": [
        {
          "output_type": "stream",
          "text": [
            "Epoch 1/100\n",
            "100/100 [==============================] - 24s 206ms/step - loss: 0.2869 - acc: 0.8697 - val_loss: 0.2199 - val_acc: 0.9160\n",
            "Epoch 2/100\n",
            "100/100 [==============================] - 19s 188ms/step - loss: 0.2504 - acc: 0.8937 - val_loss: 0.2282 - val_acc: 0.9070\n",
            "Epoch 3/100\n",
            "100/100 [==============================] - 19s 189ms/step - loss: 0.2513 - acc: 0.8861 - val_loss: 0.2003 - val_acc: 0.9210\n",
            "Epoch 4/100\n",
            "100/100 [==============================] - 20s 204ms/step - loss: 0.2165 - acc: 0.9078 - val_loss: 0.2586 - val_acc: 0.9060\n",
            "Epoch 5/100\n",
            "100/100 [==============================] - 19s 193ms/step - loss: 0.1984 - acc: 0.9170 - val_loss: 0.1884 - val_acc: 0.9330\n",
            "Epoch 6/100\n",
            "100/100 [==============================] - 19s 189ms/step - loss: 0.2117 - acc: 0.9153 - val_loss: 0.2034 - val_acc: 0.9230\n",
            "Epoch 7/100\n",
            "100/100 [==============================] - 20s 197ms/step - loss: 0.1877 - acc: 0.9307 - val_loss: 0.1923 - val_acc: 0.9270\n",
            "Epoch 8/100\n",
            "100/100 [==============================] - 20s 196ms/step - loss: 0.1824 - acc: 0.9245 - val_loss: 0.1936 - val_acc: 0.9230\n",
            "Epoch 9/100\n",
            "100/100 [==============================] - 19s 189ms/step - loss: 0.1454 - acc: 0.9400 - val_loss: 0.1840 - val_acc: 0.9310\n",
            "Epoch 10/100\n",
            "100/100 [==============================] - 19s 191ms/step - loss: 0.1428 - acc: 0.9476 - val_loss: 0.1895 - val_acc: 0.9350\n",
            "Epoch 11/100\n",
            "100/100 [==============================] - 20s 203ms/step - loss: 0.1347 - acc: 0.9469 - val_loss: 0.1891 - val_acc: 0.9330\n",
            "Epoch 12/100\n",
            "100/100 [==============================] - 19s 190ms/step - loss: 0.1564 - acc: 0.9311 - val_loss: 0.2141 - val_acc: 0.9300\n",
            "Epoch 13/100\n",
            "100/100 [==============================] - 19s 187ms/step - loss: 0.1329 - acc: 0.9439 - val_loss: 0.1914 - val_acc: 0.9360\n",
            "Epoch 14/100\n",
            "100/100 [==============================] - 20s 201ms/step - loss: 0.0992 - acc: 0.9613 - val_loss: 0.2198 - val_acc: 0.9170\n",
            "Epoch 15/100\n",
            "100/100 [==============================] - 20s 198ms/step - loss: 0.1243 - acc: 0.9488 - val_loss: 0.2135 - val_acc: 0.9310\n",
            "Epoch 16/100\n",
            "100/100 [==============================] - 20s 204ms/step - loss: 0.1180 - acc: 0.9466 - val_loss: 0.2226 - val_acc: 0.9270\n",
            "Epoch 17/100\n",
            "100/100 [==============================] - 19s 190ms/step - loss: 0.0990 - acc: 0.9572 - val_loss: 0.2513 - val_acc: 0.9220\n",
            "Epoch 18/100\n",
            "100/100 [==============================] - 19s 189ms/step - loss: 0.0966 - acc: 0.9666 - val_loss: 0.2135 - val_acc: 0.9280\n",
            "Epoch 19/100\n",
            "100/100 [==============================] - 20s 201ms/step - loss: 0.0917 - acc: 0.9635 - val_loss: 0.1972 - val_acc: 0.9400\n",
            "Epoch 20/100\n",
            "100/100 [==============================] - 20s 198ms/step - loss: 0.1059 - acc: 0.9582 - val_loss: 0.2233 - val_acc: 0.9380\n",
            "Epoch 21/100\n",
            "100/100 [==============================] - 19s 189ms/step - loss: 0.0936 - acc: 0.9598 - val_loss: 0.2212 - val_acc: 0.9230\n",
            "Epoch 22/100\n",
            "100/100 [==============================] - 20s 195ms/step - loss: 0.0952 - acc: 0.9695 - val_loss: 0.2039 - val_acc: 0.9350\n",
            "Epoch 23/100\n",
            "100/100 [==============================] - 20s 201ms/step - loss: 0.0853 - acc: 0.9641 - val_loss: 0.2120 - val_acc: 0.9310\n",
            "Epoch 24/100\n",
            "100/100 [==============================] - 19s 190ms/step - loss: 0.0845 - acc: 0.9661 - val_loss: 0.2173 - val_acc: 0.9360\n",
            "Epoch 25/100\n",
            "100/100 [==============================] - 19s 188ms/step - loss: 0.0847 - acc: 0.9673 - val_loss: 0.2286 - val_acc: 0.9270\n",
            "Epoch 26/100\n",
            "100/100 [==============================] - 20s 203ms/step - loss: 0.0883 - acc: 0.9656 - val_loss: 0.2401 - val_acc: 0.9300\n",
            "Epoch 27/100\n",
            "100/100 [==============================] - 19s 194ms/step - loss: 0.0744 - acc: 0.9707 - val_loss: 0.3145 - val_acc: 0.9160\n",
            "Epoch 28/100\n",
            "100/100 [==============================] - 19s 190ms/step - loss: 0.0677 - acc: 0.9758 - val_loss: 0.2388 - val_acc: 0.9260\n",
            "Epoch 29/100\n",
            "100/100 [==============================] - 20s 198ms/step - loss: 0.0733 - acc: 0.9727 - val_loss: 0.2010 - val_acc: 0.9360\n",
            "Epoch 30/100\n",
            "100/100 [==============================] - 20s 200ms/step - loss: 0.0649 - acc: 0.9746 - val_loss: 0.2647 - val_acc: 0.9280\n",
            "Epoch 31/100\n",
            "100/100 [==============================] - 20s 204ms/step - loss: 0.0705 - acc: 0.9698 - val_loss: 0.1930 - val_acc: 0.9380\n",
            "Epoch 32/100\n",
            "100/100 [==============================] - 20s 196ms/step - loss: 0.0600 - acc: 0.9786 - val_loss: 0.2005 - val_acc: 0.9380\n",
            "Epoch 33/100\n",
            "100/100 [==============================] - 19s 189ms/step - loss: 0.0466 - acc: 0.9870 - val_loss: 0.3068 - val_acc: 0.9140\n",
            "Epoch 34/100\n",
            "100/100 [==============================] - 20s 202ms/step - loss: 0.0787 - acc: 0.9671 - val_loss: 0.2290 - val_acc: 0.9240\n",
            "Epoch 35/100\n",
            "100/100 [==============================] - 20s 201ms/step - loss: 0.0521 - acc: 0.9783 - val_loss: 0.2122 - val_acc: 0.9330\n",
            "Epoch 36/100\n",
            "100/100 [==============================] - 19s 193ms/step - loss: 0.0352 - acc: 0.9882 - val_loss: 0.2291 - val_acc: 0.9320\n",
            "Epoch 37/100\n",
            "100/100 [==============================] - 19s 193ms/step - loss: 0.0521 - acc: 0.9834 - val_loss: 0.2482 - val_acc: 0.9330\n",
            "Epoch 38/100\n",
            "100/100 [==============================] - 20s 203ms/step - loss: 0.0471 - acc: 0.9807 - val_loss: 0.2068 - val_acc: 0.9380\n",
            "Epoch 39/100\n",
            "100/100 [==============================] - 19s 188ms/step - loss: 0.0531 - acc: 0.9773 - val_loss: 0.2537 - val_acc: 0.9290\n",
            "Epoch 40/100\n",
            "100/100 [==============================] - 19s 190ms/step - loss: 0.0458 - acc: 0.9848 - val_loss: 0.2481 - val_acc: 0.9330\n",
            "Epoch 41/100\n",
            "100/100 [==============================] - 20s 203ms/step - loss: 0.0589 - acc: 0.9859 - val_loss: 0.3504 - val_acc: 0.9170\n",
            "Epoch 42/100\n",
            "100/100 [==============================] - 20s 196ms/step - loss: 0.0372 - acc: 0.9877 - val_loss: 0.4169 - val_acc: 0.9150\n",
            "Epoch 43/100\n",
            "100/100 [==============================] - 20s 196ms/step - loss: 0.0474 - acc: 0.9807 - val_loss: 0.2895 - val_acc: 0.9270\n",
            "Epoch 44/100\n",
            "100/100 [==============================] - 20s 198ms/step - loss: 0.0326 - acc: 0.9900 - val_loss: 0.2313 - val_acc: 0.9380\n",
            "Epoch 45/100\n",
            "100/100 [==============================] - 20s 200ms/step - loss: 0.0459 - acc: 0.9885 - val_loss: 0.2354 - val_acc: 0.9330\n",
            "Epoch 46/100\n",
            "100/100 [==============================] - 19s 192ms/step - loss: 0.0322 - acc: 0.9912 - val_loss: 0.3131 - val_acc: 0.9300\n",
            "Epoch 47/100\n",
            "100/100 [==============================] - 19s 190ms/step - loss: 0.0386 - acc: 0.9872 - val_loss: 0.2790 - val_acc: 0.9300\n",
            "Epoch 48/100\n",
            "100/100 [==============================] - 20s 203ms/step - loss: 0.0344 - acc: 0.9880 - val_loss: 0.2762 - val_acc: 0.9310\n",
            "Epoch 49/100\n",
            "100/100 [==============================] - 20s 198ms/step - loss: 0.0334 - acc: 0.9862 - val_loss: 0.3762 - val_acc: 0.9120\n",
            "Epoch 50/100\n",
            "100/100 [==============================] - 20s 203ms/step - loss: 0.0396 - acc: 0.9859 - val_loss: 0.2326 - val_acc: 0.9360\n",
            "Epoch 51/100\n",
            "100/100 [==============================] - 19s 189ms/step - loss: 0.0378 - acc: 0.9904 - val_loss: 0.2350 - val_acc: 0.9340\n",
            "Epoch 52/100\n",
            "100/100 [==============================] - 19s 192ms/step - loss: 0.0337 - acc: 0.9846 - val_loss: 0.2260 - val_acc: 0.9340\n",
            "Epoch 53/100\n",
            "100/100 [==============================] - 20s 204ms/step - loss: 0.0533 - acc: 0.9834 - val_loss: 0.2283 - val_acc: 0.9350\n",
            "Epoch 54/100\n",
            "100/100 [==============================] - 19s 189ms/step - loss: 0.0499 - acc: 0.9744 - val_loss: 0.2410 - val_acc: 0.9330\n",
            "Epoch 55/100\n",
            "100/100 [==============================] - 19s 190ms/step - loss: 0.0512 - acc: 0.9888 - val_loss: 0.2387 - val_acc: 0.9410\n",
            "Epoch 56/100\n",
            "100/100 [==============================] - 20s 200ms/step - loss: 0.0269 - acc: 0.9897 - val_loss: 0.2373 - val_acc: 0.9300\n",
            "Epoch 57/100\n",
            "100/100 [==============================] - 20s 198ms/step - loss: 0.0370 - acc: 0.9845 - val_loss: 0.2267 - val_acc: 0.9380\n",
            "Epoch 58/100\n",
            "100/100 [==============================] - 19s 190ms/step - loss: 0.0485 - acc: 0.9831 - val_loss: 0.2487 - val_acc: 0.9380\n",
            "Epoch 59/100\n",
            "100/100 [==============================] - 19s 193ms/step - loss: 0.0266 - acc: 0.9925 - val_loss: 0.3187 - val_acc: 0.9250\n",
            "Epoch 60/100\n",
            "100/100 [==============================] - 20s 203ms/step - loss: 0.0345 - acc: 0.9871 - val_loss: 0.2379 - val_acc: 0.9390\n",
            "Epoch 61/100\n",
            "100/100 [==============================] - 19s 193ms/step - loss: 0.0219 - acc: 0.9933 - val_loss: 0.3128 - val_acc: 0.9280\n",
            "Epoch 62/100\n",
            "100/100 [==============================] - 19s 188ms/step - loss: 0.0360 - acc: 0.9836 - val_loss: 0.2567 - val_acc: 0.9380\n",
            "Epoch 63/100\n",
            "100/100 [==============================] - 20s 204ms/step - loss: 0.0265 - acc: 0.9919 - val_loss: 0.3099 - val_acc: 0.9310\n",
            "Epoch 64/100\n",
            "100/100 [==============================] - 20s 199ms/step - loss: 0.0312 - acc: 0.9861 - val_loss: 0.2678 - val_acc: 0.9350\n",
            "Epoch 65/100\n",
            "100/100 [==============================] - 20s 204ms/step - loss: 0.0385 - acc: 0.9889 - val_loss: 0.2621 - val_acc: 0.9390\n",
            "Epoch 66/100\n",
            "100/100 [==============================] - 19s 193ms/step - loss: 0.0237 - acc: 0.9891 - val_loss: 0.2944 - val_acc: 0.9340\n",
            "Epoch 67/100\n",
            "100/100 [==============================] - 19s 188ms/step - loss: 0.0261 - acc: 0.9906 - val_loss: 0.2658 - val_acc: 0.9370\n",
            "Epoch 68/100\n",
            "100/100 [==============================] - 20s 203ms/step - loss: 0.0361 - acc: 0.9856 - val_loss: 0.2593 - val_acc: 0.9350\n",
            "Epoch 69/100\n",
            "100/100 [==============================] - 19s 194ms/step - loss: 0.0284 - acc: 0.9892 - val_loss: 0.2549 - val_acc: 0.9320\n",
            "Epoch 70/100\n",
            "100/100 [==============================] - 19s 191ms/step - loss: 0.0278 - acc: 0.9882 - val_loss: 0.3131 - val_acc: 0.9290\n",
            "Epoch 71/100\n",
            "100/100 [==============================] - 20s 197ms/step - loss: 0.0161 - acc: 0.9934 - val_loss: 0.2378 - val_acc: 0.9410\n",
            "Epoch 72/100\n",
            "100/100 [==============================] - 20s 198ms/step - loss: 0.0350 - acc: 0.9907 - val_loss: 0.2374 - val_acc: 0.9370\n",
            "Epoch 73/100\n",
            "100/100 [==============================] - 19s 190ms/step - loss: 0.0294 - acc: 0.9918 - val_loss: 0.2852 - val_acc: 0.9330\n",
            "Epoch 74/100\n",
            "100/100 [==============================] - 19s 194ms/step - loss: 0.0261 - acc: 0.9904 - val_loss: 0.2602 - val_acc: 0.9450\n",
            "Epoch 75/100\n",
            "100/100 [==============================] - 20s 204ms/step - loss: 0.0166 - acc: 0.9961 - val_loss: 0.2920 - val_acc: 0.9350\n",
            "Epoch 76/100\n",
            "100/100 [==============================] - 19s 191ms/step - loss: 0.0219 - acc: 0.9934 - val_loss: 0.2503 - val_acc: 0.9440\n",
            "Epoch 77/100\n",
            "100/100 [==============================] - 19s 190ms/step - loss: 0.0211 - acc: 0.9928 - val_loss: 0.3222 - val_acc: 0.9300\n",
            "Epoch 78/100\n",
            "100/100 [==============================] - 20s 201ms/step - loss: 0.0344 - acc: 0.9887 - val_loss: 0.3165 - val_acc: 0.9340\n",
            "Epoch 79/100\n",
            "100/100 [==============================] - 20s 195ms/step - loss: 0.0242 - acc: 0.9918 - val_loss: 0.4847 - val_acc: 0.9110\n",
            "Epoch 80/100\n",
            "100/100 [==============================] - 19s 192ms/step - loss: 0.0245 - acc: 0.9912 - val_loss: 0.2351 - val_acc: 0.9510\n",
            "Epoch 81/100\n",
            "100/100 [==============================] - 19s 195ms/step - loss: 0.0186 - acc: 0.9917 - val_loss: 0.2597 - val_acc: 0.9400\n",
            "Epoch 82/100\n",
            "100/100 [==============================] - 20s 204ms/step - loss: 0.0175 - acc: 0.9952 - val_loss: 0.3269 - val_acc: 0.9280\n",
            "Epoch 83/100\n",
            "100/100 [==============================] - 20s 201ms/step - loss: 0.0213 - acc: 0.9930 - val_loss: 0.3143 - val_acc: 0.9390\n",
            "Epoch 84/100\n",
            "100/100 [==============================] - 20s 196ms/step - loss: 0.0212 - acc: 0.9911 - val_loss: 0.3742 - val_acc: 0.9230\n",
            "Epoch 85/100\n",
            "100/100 [==============================] - 19s 189ms/step - loss: 0.0176 - acc: 0.9931 - val_loss: 0.2327 - val_acc: 0.9430\n",
            "Epoch 86/100\n",
            "100/100 [==============================] - 20s 197ms/step - loss: 0.0338 - acc: 0.9876 - val_loss: 0.3072 - val_acc: 0.9340\n",
            "Epoch 87/100\n",
            "100/100 [==============================] - 20s 201ms/step - loss: 0.0284 - acc: 0.9902 - val_loss: 0.2647 - val_acc: 0.9460\n",
            "Epoch 88/100\n",
            "100/100 [==============================] - 19s 191ms/step - loss: 0.0105 - acc: 0.9960 - val_loss: 0.2931 - val_acc: 0.9380\n",
            "Epoch 89/100\n",
            "100/100 [==============================] - 19s 192ms/step - loss: 0.0253 - acc: 0.9909 - val_loss: 0.3981 - val_acc: 0.9270\n",
            "Epoch 90/100\n",
            "100/100 [==============================] - 21s 206ms/step - loss: 0.0425 - acc: 0.9909 - val_loss: 0.2747 - val_acc: 0.9430\n",
            "Epoch 91/100\n",
            "100/100 [==============================] - 19s 194ms/step - loss: 0.0294 - acc: 0.9904 - val_loss: 0.3148 - val_acc: 0.9350\n",
            "Epoch 92/100\n",
            "100/100 [==============================] - 19s 192ms/step - loss: 0.0268 - acc: 0.9931 - val_loss: 0.4600 - val_acc: 0.9170\n",
            "Epoch 93/100\n",
            "100/100 [==============================] - 20s 200ms/step - loss: 0.0090 - acc: 0.9974 - val_loss: 0.4651 - val_acc: 0.9220\n",
            "Epoch 94/100\n",
            "100/100 [==============================] - 20s 199ms/step - loss: 0.0165 - acc: 0.9944 - val_loss: 0.3144 - val_acc: 0.9430\n",
            "Epoch 95/100\n",
            "100/100 [==============================] - 19s 192ms/step - loss: 0.0252 - acc: 0.9935 - val_loss: 0.2562 - val_acc: 0.9450\n",
            "Epoch 96/100\n",
            "100/100 [==============================] - 19s 193ms/step - loss: 0.0189 - acc: 0.9909 - val_loss: 0.2485 - val_acc: 0.9450\n",
            "Epoch 97/100\n",
            "100/100 [==============================] - 20s 203ms/step - loss: 0.0177 - acc: 0.9938 - val_loss: 0.2816 - val_acc: 0.9420\n",
            "Epoch 98/100\n",
            "100/100 [==============================] - 20s 198ms/step - loss: 0.0219 - acc: 0.9923 - val_loss: 0.2910 - val_acc: 0.9320\n",
            "Epoch 99/100\n",
            "100/100 [==============================] - 20s 198ms/step - loss: 0.0137 - acc: 0.9954 - val_loss: 0.2501 - val_acc: 0.9430\n",
            "Epoch 100/100\n",
            "100/100 [==============================] - 19s 191ms/step - loss: 0.0261 - acc: 0.9893 - val_loss: 0.2988 - val_acc: 0.9450\n"
          ],
          "name": "stdout"
        }
      ]
    },
    {
      "cell_type": "code",
      "metadata": {
        "colab": {
          "base_uri": "https://localhost:8080/",
          "height": 545
        },
        "id": "c_h-z_l9Ioj8",
        "outputId": "aa79e282-63fe-40d1-d0aa-27442b01823b"
      },
      "source": [
        "import matplotlib.pyplot as plt\n",
        "\n",
        "acc = history.history['acc']\n",
        "val_acc = history.history['val_acc']\n",
        "loss = history.history['loss']\n",
        "val_loss = history.history['val_loss']\n",
        "\n",
        "epochs = range(1, len(acc) + 1)\n",
        "plt.plot(epochs, acc, 'bo', label='Training accuracy')\n",
        "plt.plot(epochs, val_acc, 'b', label='Validation accuracy')\n",
        "plt.title('Training and Validation accuracy')\n",
        "plt.legend()\n",
        "\n",
        "plt.figure()\n",
        "\n",
        "plt.plot(epochs, loss, 'bo', label='Training loss')\n",
        "plt.plot(epochs, val_loss, 'b', label='Validation loss')\n",
        "plt.title('Training and Validation loss')\n",
        "plt.legend()\n",
        "\n",
        "plt.show()"
      ],
      "execution_count": 39,
      "outputs": [
        {
          "output_type": "display_data",
          "data": {
            "image/png": "[encoded data removed]",
            "text/plain": [
              "<Figure size 432x288 with 1 Axes>"
            ]
          },
          "metadata": {
            "tags": [],
            "needs_background": "light"
          }
        },
        {
          "output_type": "display_data",
          "data": {
            "image/png": "[encoded data removed]",
            "text/plain": [
              "<Figure size 432x288 with 1 Axes>"
            ]
          },
          "metadata": {
            "tags": [],
            "needs_background": "light"
          }
        }
      ]
    },
    {
      "cell_type": "code",
      "metadata": {
        "id": "R3LcS_PuN8MJ"
      },
      "source": [
        "def smooth_curve(points, factor=0.8):\n",
        "    smoothed_points = []\n",
        "    for point in points:\n",
        "        if smoothed_points:\n",
        "            previous = smoothed_points[-1]\n",
        "            smoothed_points.append(previous * factor + point * (1 - factor))\n",
        "        else:\n",
        "            smoothed_points.append(point)\n",
        "    return smoothed_points"
      ],
      "execution_count": 40,
      "outputs": []
    },
    {
      "cell_type": "code",
      "metadata": {
        "colab": {
          "base_uri": "https://localhost:8080/",
          "height": 545
        },
        "id": "cmugsAwWN8Ol",
        "outputId": "e1c9c677-fcdd-4652-8ad3-d7f2dee9c4eb"
      },
      "source": [
        "plt.plot(epochs, smooth_curve(acc),\n",
        "         'bo', label='Smoothed training accuracy')\n",
        "plt.plot(epochs, smooth_curve(val_acc),\n",
        "         'b', label='Smoothed validation accuracy')\n",
        "plt.title('Training and validation accuracy')\n",
        "plt.legend()\n",
        "\n",
        "plt.figure()\n",
        "\n",
        "plt.plot(epochs, smooth_curve(loss),\n",
        "         'bo', label='Smoothed training loss')\n",
        "plt.plot(epochs, smooth_curve(val_loss),\n",
        "         'b', label='Smoothed validation loss')\n",
        "plt.title('Training and validation loss')\n",
        "plt.legend()\n",
        "\n",
        "plt.show()"
      ],
      "execution_count": 41,
      "outputs": [
        {
          "output_type": "display_data",
          "data": {
            "image/png": "[encoded data removed]",
            "text/plain": [
              "<Figure size 432x288 with 1 Axes>"
            ]
          },
          "metadata": {
            "tags": [],
            "needs_background": "light"
          }
        },
        {
          "output_type": "display_data",
          "data": {
            "image/png": "[encoded data removed]",
            "text/plain": [
              "<Figure size 432x288 with 1 Axes>"
            ]
          },
          "metadata": {
            "tags": [],
            "needs_background": "light"
          }
        }
      ]
    },
    {
      "cell_type": "code",
      "metadata": {
        "colab": {
          "base_uri": "https://localhost:8080/"
        },
        "id": "aaHEA67VN8Q4",
        "outputId": "791c3cf3-c7d0-457b-b207-db857ce48660"
      },
      "source": [
        "test_generator = test_datagen.flow_from_directory(\n",
        "    test_dir,\n",
        "    target_size=(150, 150),\n",
        "    batch_size=20,\n",
        "    class_mode='binary')\n",
        "\n",
        "test_loss, test_acc = model.evaluate(test_generator, steps=50)\n",
        "print('test acc:', test_acc)"
      ],
      "execution_count": 42,
      "outputs": [
        {
          "output_type": "stream",
          "text": [
            "Found 1000 images belonging to 2 classes.\n",
            "50/50 [==============================] - 3s 65ms/step - loss: 0.3347 - acc: 0.9410\n",
            "test acc: 0.9409999847412109\n"
          ],
          "name": "stdout"
        }
      ]
    },
    {
      "cell_type": "code",
      "metadata": {
        "id": "MZ-JakC0N8TG"
      },
      "source": [
        ""
      ],
      "execution_count": null,
      "outputs": []
    },
    {
      "cell_type": "code",
      "metadata": {
        "id": "r4UPVJdNN8Us"
      },
      "source": [
        ""
      ],
      "execution_count": null,
      "outputs": []
    }
  ]
}
